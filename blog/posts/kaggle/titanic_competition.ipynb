{
  "cells": [
    {
      "cell_type": "markdown",
      "metadata": {
        "id": "AYDOVbQwzntO"
      },
      "source": [
        "---\n",
        "title: Titanic Competition - First try\n",
        "execute:\n",
        "  freeze: true\n",
        "  echo: true\n",
        "number-sections: true\n",
        "toc: true\n",
        "toc-depth: 4\n",
        "format:\n",
        "  html:\n",
        "    toc-expand: false\n",
        "---"
      ]
    },
    {
      "cell_type": "markdown",
      "metadata": {
        "id": "fsoW4mGE_xTq"
      },
      "source": [
        "I start by first retrieving the data for training and testing.\n",
        "\n",
        "All data is readily available on the kaggle competition website."
      ]
    },
    {
      "cell_type": "code",
      "execution_count": null,
      "metadata": {
        "execution": {
          "iopub.execute_input": "2025-08-03T12:16:10.659613Z",
          "iopub.status.busy": "2025-08-03T12:16:10.659331Z",
          "iopub.status.idle": "2025-08-03T12:16:10.694945Z",
          "shell.execute_reply": "2025-08-03T12:16:10.693844Z",
          "shell.execute_reply.started": "2025-08-03T12:16:10.659590Z"
        },
        "id": "4m4bGV0O_xTr",
        "trusted": true
      },
      "outputs": [],
      "source": [
        "import warnings\n",
        "\n",
        "with warnings.catch_warnings():\n",
        "    warnings.simplefilter(\"ignore\", category=FutureWarning)\n",
        "\n",
        "import pandas as pd\n",
        "import os\n",
        "\n",
        "train_df = pd.read_csv('input/train.csv')\n",
        "test_df = pd.read_csv('input/test.csv')"
      ]
    },
    {
      "cell_type": "markdown",
      "metadata": {
        "id": "wfWReSVj_xTs"
      },
      "source": [
        "Let's have a look at data now:"
      ]
    },
    {
      "cell_type": "code",
      "execution_count": null,
      "metadata": {
        "colab": {
          "base_uri": "https://localhost:8080/",
          "height": 206
        },
        "execution": {
          "iopub.execute_input": "2025-08-03T12:16:26.310549Z",
          "iopub.status.busy": "2025-08-03T12:16:26.310255Z",
          "iopub.status.idle": "2025-08-03T12:16:26.324704Z",
          "shell.execute_reply": "2025-08-03T12:16:26.323912Z",
          "shell.execute_reply.started": "2025-08-03T12:16:26.310527Z"
        },
        "id": "0MKAmLQv_xTt",
        "outputId": "fbfe3f77-e97f-4088-b148-415149a73e22",
        "trusted": true
      },
      "outputs": [
        {
          "data": {
            "application/vnd.google.colaboratory.intrinsic+json": {
              "summary": "{\n  \"name\": \"train_df\",\n  \"rows\": 891,\n  \"fields\": [\n    {\n      \"column\": \"PassengerId\",\n      \"properties\": {\n        \"dtype\": \"number\",\n        \"std\": 257,\n        \"min\": 1,\n        \"max\": 891,\n        \"num_unique_values\": 891,\n        \"samples\": [\n          710,\n          440,\n          841\n        ],\n        \"semantic_type\": \"\",\n        \"description\": \"\"\n      }\n    },\n    {\n      \"column\": \"Survived\",\n      \"properties\": {\n        \"dtype\": \"number\",\n        \"std\": 0,\n        \"min\": 0,\n        \"max\": 1,\n        \"num_unique_values\": 2,\n        \"samples\": [\n          1,\n          0\n        ],\n        \"semantic_type\": \"\",\n        \"description\": \"\"\n      }\n    },\n    {\n      \"column\": \"Pclass\",\n      \"properties\": {\n        \"dtype\": \"number\",\n        \"std\": 0,\n        \"min\": 1,\n        \"max\": 3,\n        \"num_unique_values\": 3,\n        \"samples\": [\n          3,\n          1\n        ],\n        \"semantic_type\": \"\",\n        \"description\": \"\"\n      }\n    },\n    {\n      \"column\": \"Name\",\n      \"properties\": {\n        \"dtype\": \"string\",\n        \"num_unique_values\": 891,\n        \"samples\": [\n          \"Moubarek, Master. Halim Gonios (\\\"William George\\\")\",\n          \"Kvillner, Mr. Johan Henrik Johannesson\"\n        ],\n        \"semantic_type\": \"\",\n        \"description\": \"\"\n      }\n    },\n    {\n      \"column\": \"Sex\",\n      \"properties\": {\n        \"dtype\": \"category\",\n        \"num_unique_values\": 2,\n        \"samples\": [\n          \"female\",\n          \"male\"\n        ],\n        \"semantic_type\": \"\",\n        \"description\": \"\"\n      }\n    },\n    {\n      \"column\": \"Age\",\n      \"properties\": {\n        \"dtype\": \"number\",\n        \"std\": 14.526497332334044,\n        \"min\": 0.42,\n        \"max\": 80.0,\n        \"num_unique_values\": 88,\n        \"samples\": [\n          0.75,\n          22.0\n        ],\n        \"semantic_type\": \"\",\n        \"description\": \"\"\n      }\n    },\n    {\n      \"column\": \"SibSp\",\n      \"properties\": {\n        \"dtype\": \"number\",\n        \"std\": 1,\n        \"min\": 0,\n        \"max\": 8,\n        \"num_unique_values\": 7,\n        \"samples\": [\n          1,\n          0\n        ],\n        \"semantic_type\": \"\",\n        \"description\": \"\"\n      }\n    },\n    {\n      \"column\": \"Parch\",\n      \"properties\": {\n        \"dtype\": \"number\",\n        \"std\": 0,\n        \"min\": 0,\n        \"max\": 6,\n        \"num_unique_values\": 7,\n        \"samples\": [\n          0,\n          1\n        ],\n        \"semantic_type\": \"\",\n        \"description\": \"\"\n      }\n    },\n    {\n      \"column\": \"Ticket\",\n      \"properties\": {\n        \"dtype\": \"string\",\n        \"num_unique_values\": 681,\n        \"samples\": [\n          \"11774\",\n          \"248740\"\n        ],\n        \"semantic_type\": \"\",\n        \"description\": \"\"\n      }\n    },\n    {\n      \"column\": \"Fare\",\n      \"properties\": {\n        \"dtype\": \"number\",\n        \"std\": 49.693428597180905,\n        \"min\": 0.0,\n        \"max\": 512.3292,\n        \"num_unique_values\": 248,\n        \"samples\": [\n          11.2417,\n          51.8625\n        ],\n        \"semantic_type\": \"\",\n        \"description\": \"\"\n      }\n    },\n    {\n      \"column\": \"Cabin\",\n      \"properties\": {\n        \"dtype\": \"category\",\n        \"num_unique_values\": 147,\n        \"samples\": [\n          \"D45\",\n          \"B49\"\n        ],\n        \"semantic_type\": \"\",\n        \"description\": \"\"\n      }\n    },\n    {\n      \"column\": \"Embarked\",\n      \"properties\": {\n        \"dtype\": \"category\",\n        \"num_unique_values\": 3,\n        \"samples\": [\n          \"S\",\n          \"C\"\n        ],\n        \"semantic_type\": \"\",\n        \"description\": \"\"\n      }\n    }\n  ]\n}",
              "type": "dataframe",
              "variable_name": "train_df"
            },
            "text/html": [
              "\n",
              "  <div id=\"df-b7babe6f-ab8c-4ab7-a054-3c705e95e188\" class=\"colab-df-container\">\n",
              "    <div>\n",
              "<style scoped>\n",
              "    .dataframe tbody tr th:only-of-type {\n",
              "        vertical-align: middle;\n",
              "    }\n",
              "\n",
              "    .dataframe tbody tr th {\n",
              "        vertical-align: top;\n",
              "    }\n",
              "\n",
              "    .dataframe thead th {\n",
              "        text-align: right;\n",
              "    }\n",
              "</style>\n",
              "<table border=\"1\" class=\"dataframe\">\n",
              "  <thead>\n",
              "    <tr style=\"text-align: right;\">\n",
              "      <th></th>\n",
              "      <th>PassengerId</th>\n",
              "      <th>Survived</th>\n",
              "      <th>Pclass</th>\n",
              "      <th>Name</th>\n",
              "      <th>Sex</th>\n",
              "      <th>Age</th>\n",
              "      <th>SibSp</th>\n",
              "      <th>Parch</th>\n",
              "      <th>Ticket</th>\n",
              "      <th>Fare</th>\n",
              "      <th>Cabin</th>\n",
              "      <th>Embarked</th>\n",
              "    </tr>\n",
              "  </thead>\n",
              "  <tbody>\n",
              "    <tr>\n",
              "      <th>0</th>\n",
              "      <td>1</td>\n",
              "      <td>0</td>\n",
              "      <td>3</td>\n",
              "      <td>Braund, Mr. Owen Harris</td>\n",
              "      <td>male</td>\n",
              "      <td>22.0</td>\n",
              "      <td>1</td>\n",
              "      <td>0</td>\n",
              "      <td>A/5 21171</td>\n",
              "      <td>7.2500</td>\n",
              "      <td>NaN</td>\n",
              "      <td>S</td>\n",
              "    </tr>\n",
              "    <tr>\n",
              "      <th>1</th>\n",
              "      <td>2</td>\n",
              "      <td>1</td>\n",
              "      <td>1</td>\n",
              "      <td>Cumings, Mrs. John Bradley (Florence Briggs Th...</td>\n",
              "      <td>female</td>\n",
              "      <td>38.0</td>\n",
              "      <td>1</td>\n",
              "      <td>0</td>\n",
              "      <td>PC 17599</td>\n",
              "      <td>71.2833</td>\n",
              "      <td>C85</td>\n",
              "      <td>C</td>\n",
              "    </tr>\n",
              "    <tr>\n",
              "      <th>2</th>\n",
              "      <td>3</td>\n",
              "      <td>1</td>\n",
              "      <td>3</td>\n",
              "      <td>Heikkinen, Miss. Laina</td>\n",
              "      <td>female</td>\n",
              "      <td>26.0</td>\n",
              "      <td>0</td>\n",
              "      <td>0</td>\n",
              "      <td>STON/O2. 3101282</td>\n",
              "      <td>7.9250</td>\n",
              "      <td>NaN</td>\n",
              "      <td>S</td>\n",
              "    </tr>\n",
              "    <tr>\n",
              "      <th>3</th>\n",
              "      <td>4</td>\n",
              "      <td>1</td>\n",
              "      <td>1</td>\n",
              "      <td>Futrelle, Mrs. Jacques Heath (Lily May Peel)</td>\n",
              "      <td>female</td>\n",
              "      <td>35.0</td>\n",
              "      <td>1</td>\n",
              "      <td>0</td>\n",
              "      <td>113803</td>\n",
              "      <td>53.1000</td>\n",
              "      <td>C123</td>\n",
              "      <td>S</td>\n",
              "    </tr>\n",
              "    <tr>\n",
              "      <th>4</th>\n",
              "      <td>5</td>\n",
              "      <td>0</td>\n",
              "      <td>3</td>\n",
              "      <td>Allen, Mr. William Henry</td>\n",
              "      <td>male</td>\n",
              "      <td>35.0</td>\n",
              "      <td>0</td>\n",
              "      <td>0</td>\n",
              "      <td>373450</td>\n",
              "      <td>8.0500</td>\n",
              "      <td>NaN</td>\n",
              "      <td>S</td>\n",
              "    </tr>\n",
              "  </tbody>\n",
              "</table>\n",
              "</div>\n",
              "    <div class=\"colab-df-buttons\">\n",
              "\n",
              "  <div class=\"colab-df-container\">\n",
              "    <button class=\"colab-df-convert\" onclick=\"convertToInteractive('df-b7babe6f-ab8c-4ab7-a054-3c705e95e188')\"\n",
              "            title=\"Convert this dataframe to an interactive table.\"\n",
              "            style=\"display:none;\">\n",
              "\n",
              "  <svg xmlns=\"http://www.w3.org/2000/svg\" height=\"24px\" viewBox=\"0 -960 960 960\">\n",
              "    <path d=\"M120-120v-720h720v720H120Zm60-500h600v-160H180v160Zm220 220h160v-160H400v160Zm0 220h160v-160H400v160ZM180-400h160v-160H180v160Zm440 0h160v-160H620v160ZM180-180h160v-160H180v160Zm440 0h160v-160H620v160Z\"/>\n",
              "  </svg>\n",
              "    </button>\n",
              "\n",
              "  <style>\n",
              "    .colab-df-container {\n",
              "      display:flex;\n",
              "      gap: 12px;\n",
              "    }\n",
              "\n",
              "    .colab-df-convert {\n",
              "      background-color: #E8F0FE;\n",
              "      border: none;\n",
              "      border-radius: 50%;\n",
              "      cursor: pointer;\n",
              "      display: none;\n",
              "      fill: #1967D2;\n",
              "      height: 32px;\n",
              "      padding: 0 0 0 0;\n",
              "      width: 32px;\n",
              "    }\n",
              "\n",
              "    .colab-df-convert:hover {\n",
              "      background-color: #E2EBFA;\n",
              "      box-shadow: 0px 1px 2px rgba(60, 64, 67, 0.3), 0px 1px 3px 1px rgba(60, 64, 67, 0.15);\n",
              "      fill: #174EA6;\n",
              "    }\n",
              "\n",
              "    .colab-df-buttons div {\n",
              "      margin-bottom: 4px;\n",
              "    }\n",
              "\n",
              "    [theme=dark] .colab-df-convert {\n",
              "      background-color: #3B4455;\n",
              "      fill: #D2E3FC;\n",
              "    }\n",
              "\n",
              "    [theme=dark] .colab-df-convert:hover {\n",
              "      background-color: #434B5C;\n",
              "      box-shadow: 0px 1px 3px 1px rgba(0, 0, 0, 0.15);\n",
              "      filter: drop-shadow(0px 1px 2px rgba(0, 0, 0, 0.3));\n",
              "      fill: #FFFFFF;\n",
              "    }\n",
              "  </style>\n",
              "\n",
              "    <script>\n",
              "      const buttonEl =\n",
              "        document.querySelector('#df-b7babe6f-ab8c-4ab7-a054-3c705e95e188 button.colab-df-convert');\n",
              "      buttonEl.style.display =\n",
              "        google.colab.kernel.accessAllowed ? 'block' : 'none';\n",
              "\n",
              "      async function convertToInteractive(key) {\n",
              "        const element = document.querySelector('#df-b7babe6f-ab8c-4ab7-a054-3c705e95e188');\n",
              "        const dataTable =\n",
              "          await google.colab.kernel.invokeFunction('convertToInteractive',\n",
              "                                                    [key], {});\n",
              "        if (!dataTable) return;\n",
              "\n",
              "        const docLinkHtml = 'Like what you see? Visit the ' +\n",
              "          '<a target=\"_blank\" href=https://colab.research.google.com/notebooks/data_table.ipynb>data table notebook</a>'\n",
              "          + ' to learn more about interactive tables.';\n",
              "        element.innerHTML = '';\n",
              "        dataTable['output_type'] = 'display_data';\n",
              "        await google.colab.output.renderOutput(dataTable, element);\n",
              "        const docLink = document.createElement('div');\n",
              "        docLink.innerHTML = docLinkHtml;\n",
              "        element.appendChild(docLink);\n",
              "      }\n",
              "    </script>\n",
              "  </div>\n",
              "\n",
              "\n",
              "    <div id=\"df-d8024244-ad5c-4599-bc0d-615bc7e9811d\">\n",
              "      <button class=\"colab-df-quickchart\" onclick=\"quickchart('df-d8024244-ad5c-4599-bc0d-615bc7e9811d')\"\n",
              "                title=\"Suggest charts\"\n",
              "                style=\"display:none;\">\n",
              "\n",
              "<svg xmlns=\"http://www.w3.org/2000/svg\" height=\"24px\"viewBox=\"0 0 24 24\"\n",
              "     width=\"24px\">\n",
              "    <g>\n",
              "        <path d=\"M19 3H5c-1.1 0-2 .9-2 2v14c0 1.1.9 2 2 2h14c1.1 0 2-.9 2-2V5c0-1.1-.9-2-2-2zM9 17H7v-7h2v7zm4 0h-2V7h2v10zm4 0h-2v-4h2v4z\"/>\n",
              "    </g>\n",
              "</svg>\n",
              "      </button>\n",
              "\n",
              "<style>\n",
              "  .colab-df-quickchart {\n",
              "      --bg-color: #E8F0FE;\n",
              "      --fill-color: #1967D2;\n",
              "      --hover-bg-color: #E2EBFA;\n",
              "      --hover-fill-color: #174EA6;\n",
              "      --disabled-fill-color: #AAA;\n",
              "      --disabled-bg-color: #DDD;\n",
              "  }\n",
              "\n",
              "  [theme=dark] .colab-df-quickchart {\n",
              "      --bg-color: #3B4455;\n",
              "      --fill-color: #D2E3FC;\n",
              "      --hover-bg-color: #434B5C;\n",
              "      --hover-fill-color: #FFFFFF;\n",
              "      --disabled-bg-color: #3B4455;\n",
              "      --disabled-fill-color: #666;\n",
              "  }\n",
              "\n",
              "  .colab-df-quickchart {\n",
              "    background-color: var(--bg-color);\n",
              "    border: none;\n",
              "    border-radius: 50%;\n",
              "    cursor: pointer;\n",
              "    display: none;\n",
              "    fill: var(--fill-color);\n",
              "    height: 32px;\n",
              "    padding: 0;\n",
              "    width: 32px;\n",
              "  }\n",
              "\n",
              "  .colab-df-quickchart:hover {\n",
              "    background-color: var(--hover-bg-color);\n",
              "    box-shadow: 0 1px 2px rgba(60, 64, 67, 0.3), 0 1px 3px 1px rgba(60, 64, 67, 0.15);\n",
              "    fill: var(--button-hover-fill-color);\n",
              "  }\n",
              "\n",
              "  .colab-df-quickchart-complete:disabled,\n",
              "  .colab-df-quickchart-complete:disabled:hover {\n",
              "    background-color: var(--disabled-bg-color);\n",
              "    fill: var(--disabled-fill-color);\n",
              "    box-shadow: none;\n",
              "  }\n",
              "\n",
              "  .colab-df-spinner {\n",
              "    border: 2px solid var(--fill-color);\n",
              "    border-color: transparent;\n",
              "    border-bottom-color: var(--fill-color);\n",
              "    animation:\n",
              "      spin 1s steps(1) infinite;\n",
              "  }\n",
              "\n",
              "  @keyframes spin {\n",
              "    0% {\n",
              "      border-color: transparent;\n",
              "      border-bottom-color: var(--fill-color);\n",
              "      border-left-color: var(--fill-color);\n",
              "    }\n",
              "    20% {\n",
              "      border-color: transparent;\n",
              "      border-left-color: var(--fill-color);\n",
              "      border-top-color: var(--fill-color);\n",
              "    }\n",
              "    30% {\n",
              "      border-color: transparent;\n",
              "      border-left-color: var(--fill-color);\n",
              "      border-top-color: var(--fill-color);\n",
              "      border-right-color: var(--fill-color);\n",
              "    }\n",
              "    40% {\n",
              "      border-color: transparent;\n",
              "      border-right-color: var(--fill-color);\n",
              "      border-top-color: var(--fill-color);\n",
              "    }\n",
              "    60% {\n",
              "      border-color: transparent;\n",
              "      border-right-color: var(--fill-color);\n",
              "    }\n",
              "    80% {\n",
              "      border-color: transparent;\n",
              "      border-right-color: var(--fill-color);\n",
              "      border-bottom-color: var(--fill-color);\n",
              "    }\n",
              "    90% {\n",
              "      border-color: transparent;\n",
              "      border-bottom-color: var(--fill-color);\n",
              "    }\n",
              "  }\n",
              "</style>\n",
              "\n",
              "      <script>\n",
              "        async function quickchart(key) {\n",
              "          const quickchartButtonEl =\n",
              "            document.querySelector('#' + key + ' button');\n",
              "          quickchartButtonEl.disabled = true;  // To prevent multiple clicks.\n",
              "          quickchartButtonEl.classList.add('colab-df-spinner');\n",
              "          try {\n",
              "            const charts = await google.colab.kernel.invokeFunction(\n",
              "                'suggestCharts', [key], {});\n",
              "          } catch (error) {\n",
              "            console.error('Error during call to suggestCharts:', error);\n",
              "          }\n",
              "          quickchartButtonEl.classList.remove('colab-df-spinner');\n",
              "          quickchartButtonEl.classList.add('colab-df-quickchart-complete');\n",
              "        }\n",
              "        (() => {\n",
              "          let quickchartButtonEl =\n",
              "            document.querySelector('#df-d8024244-ad5c-4599-bc0d-615bc7e9811d button');\n",
              "          quickchartButtonEl.style.display =\n",
              "            google.colab.kernel.accessAllowed ? 'block' : 'none';\n",
              "        })();\n",
              "      </script>\n",
              "    </div>\n",
              "\n",
              "    </div>\n",
              "  </div>\n"
            ],
            "text/plain": [
              "   PassengerId  Survived  Pclass  \\\n",
              "0            1         0       3   \n",
              "1            2         1       1   \n",
              "2            3         1       3   \n",
              "3            4         1       1   \n",
              "4            5         0       3   \n",
              "\n",
              "                                                Name     Sex   Age  SibSp  \\\n",
              "0                            Braund, Mr. Owen Harris    male  22.0      1   \n",
              "1  Cumings, Mrs. John Bradley (Florence Briggs Th...  female  38.0      1   \n",
              "2                             Heikkinen, Miss. Laina  female  26.0      0   \n",
              "3       Futrelle, Mrs. Jacques Heath (Lily May Peel)  female  35.0      1   \n",
              "4                           Allen, Mr. William Henry    male  35.0      0   \n",
              "\n",
              "   Parch            Ticket     Fare Cabin Embarked  \n",
              "0      0         A/5 21171   7.2500   NaN        S  \n",
              "1      0          PC 17599  71.2833   C85        C  \n",
              "2      0  STON/O2. 3101282   7.9250   NaN        S  \n",
              "3      0            113803  53.1000  C123        S  \n",
              "4      0            373450   8.0500   NaN        S  "
            ]
          },
          "execution_count": 70,
          "metadata": {},
          "output_type": "execute_result"
        }
      ],
      "source": [
        "train_df.head()"
      ]
    },
    {
      "cell_type": "markdown",
      "metadata": {
        "id": "5y8tkxQo_xTt"
      },
      "source": [
        "# Data Overview"
      ]
    },
    {
      "cell_type": "code",
      "execution_count": null,
      "metadata": {
        "colab": {
          "base_uri": "https://localhost:8080/"
        },
        "execution": {
          "iopub.execute_input": "2025-08-03T12:16:34.340088Z",
          "iopub.status.busy": "2025-08-03T12:16:34.339676Z",
          "iopub.status.idle": "2025-08-03T12:16:34.347424Z",
          "shell.execute_reply": "2025-08-03T12:16:34.345867Z",
          "shell.execute_reply.started": "2025-08-03T12:16:34.340062Z"
        },
        "id": "vgv5kdsk_xTu",
        "outputId": "1540aa70-14c7-4280-c32a-cab5e0d6bffb",
        "trusted": true
      },
      "outputs": [
        {
          "name": "stdout",
          "output_type": "stream",
          "text": [
            "\n",
            "Test DataFrame shape — Rows: 891, Columns: 12\n",
            "\n"
          ]
        }
      ],
      "source": [
        "print(f'\\nTest DataFrame shape — Rows: {train_df.shape[0]}, Columns: {train_df.shape[1]}\\n')"
      ]
    },
    {
      "cell_type": "markdown",
      "metadata": {
        "id": "2dlXwARM_xTu"
      },
      "source": [
        "We have, in the training set a total of 891 rows and 12 columns.\n",
        "The columns are:\n",
        "\n",
        "- **passengerId**: Not meaningful, shall be dropped.\n",
        "- **Survived**: is the dependant variable.\n",
        "- **Pclass**: socio-economic status (SES)\n",
        "            1st = Upper\n",
        "            2nd = Middle\n",
        "            3rd = Lower\n",
        "- **Name**: Contains title, full name and maiden name when that's the case.\n",
        "- **Sex**: let '0' be for male and '1' for female.\n",
        "- **Age**: What to do when age is not available (NaN)? turn it into 0?\n",
        "- **SibSp**: # of siblings / spouses aboard the Titanic. Will be kept as is.\n",
        "- **Parch**: # of parents / children aboard the Titanic. Will be kept as is.\n",
        "- **Ticket**: Have to figure out how to take advantage of this information, to extract some insight.\n",
        "- **Fare**: Price paid for said ticket or group of tickets if for whole family.\n",
        "- **Cabin**: Cabin number can indicate the socio-economic class of the passenger since only first class passengers have a cabin and the rest are unknown. Cabin numbers look like this \"C123\", where the first letter indicates the deck.\n",
        "- **Embarked**: Port of Embarkation \tC = Cherbourg, Q = Queenstown, S = Southampton. Will create three columns with binary values C_embark, Q_embark, S_embark, respectively."
      ]
    },
    {
      "cell_type": "code",
      "execution_count": null,
      "metadata": {
        "colab": {
          "base_uri": "https://localhost:8080/"
        },
        "execution": {
          "iopub.execute_input": "2025-08-03T12:17:13.116674Z",
          "iopub.status.busy": "2025-08-03T12:17:13.116371Z",
          "iopub.status.idle": "2025-08-03T12:17:13.142879Z",
          "shell.execute_reply": "2025-08-03T12:17:13.141865Z",
          "shell.execute_reply.started": "2025-08-03T12:17:13.116649Z"
        },
        "id": "dQ9SFC2s_xTw",
        "outputId": "163afe9a-5246-4504-96a2-75d5aa6820dd",
        "trusted": true
      },
      "outputs": [
        {
          "name": "stdout",
          "output_type": "stream",
          "text": [
            "\n",
            "Test Dataframe general info: \n",
            "\n",
            "<class 'pandas.core.frame.DataFrame'>\n",
            "RangeIndex: 891 entries, 0 to 890\n",
            "Data columns (total 12 columns):\n",
            " #   Column       Non-Null Count  Dtype  \n",
            "---  ------       --------------  -----  \n",
            " 0   PassengerId  891 non-null    int64  \n",
            " 1   Survived     891 non-null    int64  \n",
            " 2   Pclass       891 non-null    int64  \n",
            " 3   Name         891 non-null    object \n",
            " 4   Sex          891 non-null    object \n",
            " 5   Age          714 non-null    float64\n",
            " 6   SibSp        891 non-null    int64  \n",
            " 7   Parch        891 non-null    int64  \n",
            " 8   Ticket       891 non-null    object \n",
            " 9   Fare         891 non-null    float64\n",
            " 10  Cabin        204 non-null    object \n",
            " 11  Embarked     889 non-null    object \n",
            "dtypes: float64(2), int64(5), object(5)\n",
            "memory usage: 83.7+ KB\n"
          ]
        }
      ],
      "source": [
        "print(f'\\nTest Dataframe general info: \\n')\n",
        "train_df.info()"
      ]
    },
    {
      "cell_type": "markdown",
      "metadata": {
        "id": "arp1HN85_xTx"
      },
      "source": [
        "The columns \"Survived\", \"Pclass\", \"Sex\", \"Ticket\", \"Cabin\", \"Embarked\" are all category data."
      ]
    },
    {
      "cell_type": "code",
      "execution_count": null,
      "metadata": {
        "colab": {
          "base_uri": "https://localhost:8080/",
          "height": 206
        },
        "execution": {
          "iopub.execute_input": "2025-08-03T12:17:20.923106Z",
          "iopub.status.busy": "2025-08-03T12:17:20.922713Z",
          "iopub.status.idle": "2025-08-03T12:17:20.936370Z",
          "shell.execute_reply": "2025-08-03T12:17:20.935563Z",
          "shell.execute_reply.started": "2025-08-03T12:17:20.923082Z"
        },
        "id": "oGLld0eK_xTx",
        "outputId": "82fca5c7-1ce2-495e-e901-1a9c6d519475",
        "trusted": true
      },
      "outputs": [
        {
          "data": {
            "application/vnd.google.colaboratory.intrinsic+json": {
              "summary": "{\n  \"name\": \"test_df\",\n  \"rows\": 418,\n  \"fields\": [\n    {\n      \"column\": \"PassengerId\",\n      \"properties\": {\n        \"dtype\": \"number\",\n        \"std\": 120,\n        \"min\": 892,\n        \"max\": 1309,\n        \"num_unique_values\": 418,\n        \"samples\": [\n          1213,\n          1216,\n          1280\n        ],\n        \"semantic_type\": \"\",\n        \"description\": \"\"\n      }\n    },\n    {\n      \"column\": \"Pclass\",\n      \"properties\": {\n        \"dtype\": \"number\",\n        \"std\": 0,\n        \"min\": 1,\n        \"max\": 3,\n        \"num_unique_values\": 3,\n        \"samples\": [\n          3,\n          2,\n          1\n        ],\n        \"semantic_type\": \"\",\n        \"description\": \"\"\n      }\n    },\n    {\n      \"column\": \"Name\",\n      \"properties\": {\n        \"dtype\": \"string\",\n        \"num_unique_values\": 418,\n        \"samples\": [\n          \"Krekorian, Mr. Neshan\",\n          \"Kreuchen, Miss. Emilie\",\n          \"Canavan, Mr. Patrick\"\n        ],\n        \"semantic_type\": \"\",\n        \"description\": \"\"\n      }\n    },\n    {\n      \"column\": \"Sex\",\n      \"properties\": {\n        \"dtype\": \"category\",\n        \"num_unique_values\": 2,\n        \"samples\": [\n          \"female\",\n          \"male\"\n        ],\n        \"semantic_type\": \"\",\n        \"description\": \"\"\n      }\n    },\n    {\n      \"column\": \"Age\",\n      \"properties\": {\n        \"dtype\": \"number\",\n        \"std\": 14.18120923562442,\n        \"min\": 0.17,\n        \"max\": 76.0,\n        \"num_unique_values\": 79,\n        \"samples\": [\n          10.0,\n          34.5\n        ],\n        \"semantic_type\": \"\",\n        \"description\": \"\"\n      }\n    },\n    {\n      \"column\": \"SibSp\",\n      \"properties\": {\n        \"dtype\": \"number\",\n        \"std\": 0,\n        \"min\": 0,\n        \"max\": 8,\n        \"num_unique_values\": 7,\n        \"samples\": [\n          0,\n          1\n        ],\n        \"semantic_type\": \"\",\n        \"description\": \"\"\n      }\n    },\n    {\n      \"column\": \"Parch\",\n      \"properties\": {\n        \"dtype\": \"number\",\n        \"std\": 0,\n        \"min\": 0,\n        \"max\": 9,\n        \"num_unique_values\": 8,\n        \"samples\": [\n          1,\n          6\n        ],\n        \"semantic_type\": \"\",\n        \"description\": \"\"\n      }\n    },\n    {\n      \"column\": \"Ticket\",\n      \"properties\": {\n        \"dtype\": \"string\",\n        \"num_unique_values\": 363,\n        \"samples\": [\n          \"2673\",\n          \"W./C. 6607\"\n        ],\n        \"semantic_type\": \"\",\n        \"description\": \"\"\n      }\n    },\n    {\n      \"column\": \"Fare\",\n      \"properties\": {\n        \"dtype\": \"number\",\n        \"std\": 55.90757617997383,\n        \"min\": 0.0,\n        \"max\": 512.3292,\n        \"num_unique_values\": 169,\n        \"samples\": [\n          41.5792,\n          57.75\n        ],\n        \"semantic_type\": \"\",\n        \"description\": \"\"\n      }\n    },\n    {\n      \"column\": \"Cabin\",\n      \"properties\": {\n        \"dtype\": \"category\",\n        \"num_unique_values\": 76,\n        \"samples\": [\n          \"A21\",\n          \"E45\"\n        ],\n        \"semantic_type\": \"\",\n        \"description\": \"\"\n      }\n    },\n    {\n      \"column\": \"Embarked\",\n      \"properties\": {\n        \"dtype\": \"category\",\n        \"num_unique_values\": 3,\n        \"samples\": [\n          \"Q\",\n          \"S\"\n        ],\n        \"semantic_type\": \"\",\n        \"description\": \"\"\n      }\n    }\n  ]\n}",
              "type": "dataframe",
              "variable_name": "test_df"
            },
            "text/html": [
              "\n",
              "  <div id=\"df-d48e69ed-e4f6-4d54-a4b4-92da33cefd97\" class=\"colab-df-container\">\n",
              "    <div>\n",
              "<style scoped>\n",
              "    .dataframe tbody tr th:only-of-type {\n",
              "        vertical-align: middle;\n",
              "    }\n",
              "\n",
              "    .dataframe tbody tr th {\n",
              "        vertical-align: top;\n",
              "    }\n",
              "\n",
              "    .dataframe thead th {\n",
              "        text-align: right;\n",
              "    }\n",
              "</style>\n",
              "<table border=\"1\" class=\"dataframe\">\n",
              "  <thead>\n",
              "    <tr style=\"text-align: right;\">\n",
              "      <th></th>\n",
              "      <th>PassengerId</th>\n",
              "      <th>Pclass</th>\n",
              "      <th>Name</th>\n",
              "      <th>Sex</th>\n",
              "      <th>Age</th>\n",
              "      <th>SibSp</th>\n",
              "      <th>Parch</th>\n",
              "      <th>Ticket</th>\n",
              "      <th>Fare</th>\n",
              "      <th>Cabin</th>\n",
              "      <th>Embarked</th>\n",
              "    </tr>\n",
              "  </thead>\n",
              "  <tbody>\n",
              "    <tr>\n",
              "      <th>0</th>\n",
              "      <td>892</td>\n",
              "      <td>3</td>\n",
              "      <td>Kelly, Mr. James</td>\n",
              "      <td>male</td>\n",
              "      <td>34.5</td>\n",
              "      <td>0</td>\n",
              "      <td>0</td>\n",
              "      <td>330911</td>\n",
              "      <td>7.8292</td>\n",
              "      <td>NaN</td>\n",
              "      <td>Q</td>\n",
              "    </tr>\n",
              "    <tr>\n",
              "      <th>1</th>\n",
              "      <td>893</td>\n",
              "      <td>3</td>\n",
              "      <td>Wilkes, Mrs. James (Ellen Needs)</td>\n",
              "      <td>female</td>\n",
              "      <td>47.0</td>\n",
              "      <td>1</td>\n",
              "      <td>0</td>\n",
              "      <td>363272</td>\n",
              "      <td>7.0000</td>\n",
              "      <td>NaN</td>\n",
              "      <td>S</td>\n",
              "    </tr>\n",
              "    <tr>\n",
              "      <th>2</th>\n",
              "      <td>894</td>\n",
              "      <td>2</td>\n",
              "      <td>Myles, Mr. Thomas Francis</td>\n",
              "      <td>male</td>\n",
              "      <td>62.0</td>\n",
              "      <td>0</td>\n",
              "      <td>0</td>\n",
              "      <td>240276</td>\n",
              "      <td>9.6875</td>\n",
              "      <td>NaN</td>\n",
              "      <td>Q</td>\n",
              "    </tr>\n",
              "    <tr>\n",
              "      <th>3</th>\n",
              "      <td>895</td>\n",
              "      <td>3</td>\n",
              "      <td>Wirz, Mr. Albert</td>\n",
              "      <td>male</td>\n",
              "      <td>27.0</td>\n",
              "      <td>0</td>\n",
              "      <td>0</td>\n",
              "      <td>315154</td>\n",
              "      <td>8.6625</td>\n",
              "      <td>NaN</td>\n",
              "      <td>S</td>\n",
              "    </tr>\n",
              "    <tr>\n",
              "      <th>4</th>\n",
              "      <td>896</td>\n",
              "      <td>3</td>\n",
              "      <td>Hirvonen, Mrs. Alexander (Helga E Lindqvist)</td>\n",
              "      <td>female</td>\n",
              "      <td>22.0</td>\n",
              "      <td>1</td>\n",
              "      <td>1</td>\n",
              "      <td>3101298</td>\n",
              "      <td>12.2875</td>\n",
              "      <td>NaN</td>\n",
              "      <td>S</td>\n",
              "    </tr>\n",
              "  </tbody>\n",
              "</table>\n",
              "</div>\n",
              "    <div class=\"colab-df-buttons\">\n",
              "\n",
              "  <div class=\"colab-df-container\">\n",
              "    <button class=\"colab-df-convert\" onclick=\"convertToInteractive('df-d48e69ed-e4f6-4d54-a4b4-92da33cefd97')\"\n",
              "            title=\"Convert this dataframe to an interactive table.\"\n",
              "            style=\"display:none;\">\n",
              "\n",
              "  <svg xmlns=\"http://www.w3.org/2000/svg\" height=\"24px\" viewBox=\"0 -960 960 960\">\n",
              "    <path d=\"M120-120v-720h720v720H120Zm60-500h600v-160H180v160Zm220 220h160v-160H400v160Zm0 220h160v-160H400v160ZM180-400h160v-160H180v160Zm440 0h160v-160H620v160ZM180-180h160v-160H180v160Zm440 0h160v-160H620v160Z\"/>\n",
              "  </svg>\n",
              "    </button>\n",
              "\n",
              "  <style>\n",
              "    .colab-df-container {\n",
              "      display:flex;\n",
              "      gap: 12px;\n",
              "    }\n",
              "\n",
              "    .colab-df-convert {\n",
              "      background-color: #E8F0FE;\n",
              "      border: none;\n",
              "      border-radius: 50%;\n",
              "      cursor: pointer;\n",
              "      display: none;\n",
              "      fill: #1967D2;\n",
              "      height: 32px;\n",
              "      padding: 0 0 0 0;\n",
              "      width: 32px;\n",
              "    }\n",
              "\n",
              "    .colab-df-convert:hover {\n",
              "      background-color: #E2EBFA;\n",
              "      box-shadow: 0px 1px 2px rgba(60, 64, 67, 0.3), 0px 1px 3px 1px rgba(60, 64, 67, 0.15);\n",
              "      fill: #174EA6;\n",
              "    }\n",
              "\n",
              "    .colab-df-buttons div {\n",
              "      margin-bottom: 4px;\n",
              "    }\n",
              "\n",
              "    [theme=dark] .colab-df-convert {\n",
              "      background-color: #3B4455;\n",
              "      fill: #D2E3FC;\n",
              "    }\n",
              "\n",
              "    [theme=dark] .colab-df-convert:hover {\n",
              "      background-color: #434B5C;\n",
              "      box-shadow: 0px 1px 3px 1px rgba(0, 0, 0, 0.15);\n",
              "      filter: drop-shadow(0px 1px 2px rgba(0, 0, 0, 0.3));\n",
              "      fill: #FFFFFF;\n",
              "    }\n",
              "  </style>\n",
              "\n",
              "    <script>\n",
              "      const buttonEl =\n",
              "        document.querySelector('#df-d48e69ed-e4f6-4d54-a4b4-92da33cefd97 button.colab-df-convert');\n",
              "      buttonEl.style.display =\n",
              "        google.colab.kernel.accessAllowed ? 'block' : 'none';\n",
              "\n",
              "      async function convertToInteractive(key) {\n",
              "        const element = document.querySelector('#df-d48e69ed-e4f6-4d54-a4b4-92da33cefd97');\n",
              "        const dataTable =\n",
              "          await google.colab.kernel.invokeFunction('convertToInteractive',\n",
              "                                                    [key], {});\n",
              "        if (!dataTable) return;\n",
              "\n",
              "        const docLinkHtml = 'Like what you see? Visit the ' +\n",
              "          '<a target=\"_blank\" href=https://colab.research.google.com/notebooks/data_table.ipynb>data table notebook</a>'\n",
              "          + ' to learn more about interactive tables.';\n",
              "        element.innerHTML = '';\n",
              "        dataTable['output_type'] = 'display_data';\n",
              "        await google.colab.output.renderOutput(dataTable, element);\n",
              "        const docLink = document.createElement('div');\n",
              "        docLink.innerHTML = docLinkHtml;\n",
              "        element.appendChild(docLink);\n",
              "      }\n",
              "    </script>\n",
              "  </div>\n",
              "\n",
              "\n",
              "    <div id=\"df-8138ad86-c4ec-4d06-82d0-f7b8407c9898\">\n",
              "      <button class=\"colab-df-quickchart\" onclick=\"quickchart('df-8138ad86-c4ec-4d06-82d0-f7b8407c9898')\"\n",
              "                title=\"Suggest charts\"\n",
              "                style=\"display:none;\">\n",
              "\n",
              "<svg xmlns=\"http://www.w3.org/2000/svg\" height=\"24px\"viewBox=\"0 0 24 24\"\n",
              "     width=\"24px\">\n",
              "    <g>\n",
              "        <path d=\"M19 3H5c-1.1 0-2 .9-2 2v14c0 1.1.9 2 2 2h14c1.1 0 2-.9 2-2V5c0-1.1-.9-2-2-2zM9 17H7v-7h2v7zm4 0h-2V7h2v10zm4 0h-2v-4h2v4z\"/>\n",
              "    </g>\n",
              "</svg>\n",
              "      </button>\n",
              "\n",
              "<style>\n",
              "  .colab-df-quickchart {\n",
              "      --bg-color: #E8F0FE;\n",
              "      --fill-color: #1967D2;\n",
              "      --hover-bg-color: #E2EBFA;\n",
              "      --hover-fill-color: #174EA6;\n",
              "      --disabled-fill-color: #AAA;\n",
              "      --disabled-bg-color: #DDD;\n",
              "  }\n",
              "\n",
              "  [theme=dark] .colab-df-quickchart {\n",
              "      --bg-color: #3B4455;\n",
              "      --fill-color: #D2E3FC;\n",
              "      --hover-bg-color: #434B5C;\n",
              "      --hover-fill-color: #FFFFFF;\n",
              "      --disabled-bg-color: #3B4455;\n",
              "      --disabled-fill-color: #666;\n",
              "  }\n",
              "\n",
              "  .colab-df-quickchart {\n",
              "    background-color: var(--bg-color);\n",
              "    border: none;\n",
              "    border-radius: 50%;\n",
              "    cursor: pointer;\n",
              "    display: none;\n",
              "    fill: var(--fill-color);\n",
              "    height: 32px;\n",
              "    padding: 0;\n",
              "    width: 32px;\n",
              "  }\n",
              "\n",
              "  .colab-df-quickchart:hover {\n",
              "    background-color: var(--hover-bg-color);\n",
              "    box-shadow: 0 1px 2px rgba(60, 64, 67, 0.3), 0 1px 3px 1px rgba(60, 64, 67, 0.15);\n",
              "    fill: var(--button-hover-fill-color);\n",
              "  }\n",
              "\n",
              "  .colab-df-quickchart-complete:disabled,\n",
              "  .colab-df-quickchart-complete:disabled:hover {\n",
              "    background-color: var(--disabled-bg-color);\n",
              "    fill: var(--disabled-fill-color);\n",
              "    box-shadow: none;\n",
              "  }\n",
              "\n",
              "  .colab-df-spinner {\n",
              "    border: 2px solid var(--fill-color);\n",
              "    border-color: transparent;\n",
              "    border-bottom-color: var(--fill-color);\n",
              "    animation:\n",
              "      spin 1s steps(1) infinite;\n",
              "  }\n",
              "\n",
              "  @keyframes spin {\n",
              "    0% {\n",
              "      border-color: transparent;\n",
              "      border-bottom-color: var(--fill-color);\n",
              "      border-left-color: var(--fill-color);\n",
              "    }\n",
              "    20% {\n",
              "      border-color: transparent;\n",
              "      border-left-color: var(--fill-color);\n",
              "      border-top-color: var(--fill-color);\n",
              "    }\n",
              "    30% {\n",
              "      border-color: transparent;\n",
              "      border-left-color: var(--fill-color);\n",
              "      border-top-color: var(--fill-color);\n",
              "      border-right-color: var(--fill-color);\n",
              "    }\n",
              "    40% {\n",
              "      border-color: transparent;\n",
              "      border-right-color: var(--fill-color);\n",
              "      border-top-color: var(--fill-color);\n",
              "    }\n",
              "    60% {\n",
              "      border-color: transparent;\n",
              "      border-right-color: var(--fill-color);\n",
              "    }\n",
              "    80% {\n",
              "      border-color: transparent;\n",
              "      border-right-color: var(--fill-color);\n",
              "      border-bottom-color: var(--fill-color);\n",
              "    }\n",
              "    90% {\n",
              "      border-color: transparent;\n",
              "      border-bottom-color: var(--fill-color);\n",
              "    }\n",
              "  }\n",
              "</style>\n",
              "\n",
              "      <script>\n",
              "        async function quickchart(key) {\n",
              "          const quickchartButtonEl =\n",
              "            document.querySelector('#' + key + ' button');\n",
              "          quickchartButtonEl.disabled = true;  // To prevent multiple clicks.\n",
              "          quickchartButtonEl.classList.add('colab-df-spinner');\n",
              "          try {\n",
              "            const charts = await google.colab.kernel.invokeFunction(\n",
              "                'suggestCharts', [key], {});\n",
              "          } catch (error) {\n",
              "            console.error('Error during call to suggestCharts:', error);\n",
              "          }\n",
              "          quickchartButtonEl.classList.remove('colab-df-spinner');\n",
              "          quickchartButtonEl.classList.add('colab-df-quickchart-complete');\n",
              "        }\n",
              "        (() => {\n",
              "          let quickchartButtonEl =\n",
              "            document.querySelector('#df-8138ad86-c4ec-4d06-82d0-f7b8407c9898 button');\n",
              "          quickchartButtonEl.style.display =\n",
              "            google.colab.kernel.accessAllowed ? 'block' : 'none';\n",
              "        })();\n",
              "      </script>\n",
              "    </div>\n",
              "\n",
              "    </div>\n",
              "  </div>\n"
            ],
            "text/plain": [
              "   PassengerId  Pclass                                          Name     Sex  \\\n",
              "0          892       3                              Kelly, Mr. James    male   \n",
              "1          893       3              Wilkes, Mrs. James (Ellen Needs)  female   \n",
              "2          894       2                     Myles, Mr. Thomas Francis    male   \n",
              "3          895       3                              Wirz, Mr. Albert    male   \n",
              "4          896       3  Hirvonen, Mrs. Alexander (Helga E Lindqvist)  female   \n",
              "\n",
              "    Age  SibSp  Parch   Ticket     Fare Cabin Embarked  \n",
              "0  34.5      0      0   330911   7.8292   NaN        Q  \n",
              "1  47.0      1      0   363272   7.0000   NaN        S  \n",
              "2  62.0      0      0   240276   9.6875   NaN        Q  \n",
              "3  27.0      0      0   315154   8.6625   NaN        S  \n",
              "4  22.0      1      1  3101298  12.2875   NaN        S  "
            ]
          },
          "execution_count": 73,
          "metadata": {},
          "output_type": "execute_result"
        }
      ],
      "source": [
        "test_df.head()"
      ]
    },
    {
      "cell_type": "markdown",
      "metadata": {
        "id": "imnfluvc_xTy"
      },
      "source": [
        "The test dataframe is similar to that of the train one except the survival column that we have to fill out with a prediction model."
      ]
    },
    {
      "cell_type": "code",
      "execution_count": null,
      "metadata": {
        "colab": {
          "base_uri": "https://localhost:8080/"
        },
        "execution": {
          "iopub.execute_input": "2025-08-03T12:17:25.359776Z",
          "iopub.status.busy": "2025-08-03T12:17:25.359503Z",
          "iopub.status.idle": "2025-08-03T12:17:25.368573Z",
          "shell.execute_reply": "2025-08-03T12:17:25.367666Z",
          "shell.execute_reply.started": "2025-08-03T12:17:25.359756Z"
        },
        "id": "8lsN-EyV_xTz",
        "outputId": "2d9825e0-4867-4722-fccb-23c033eea254",
        "trusted": true
      },
      "outputs": [
        {
          "name": "stdout",
          "output_type": "stream",
          "text": [
            "\n",
            "Train set Missing data:\n",
            "PassengerId      0\n",
            "Survived         0\n",
            "Pclass           0\n",
            "Name             0\n",
            "Sex              0\n",
            "Age            177\n",
            "SibSp            0\n",
            "Parch            0\n",
            "Ticket           0\n",
            "Fare             0\n",
            "Cabin          687\n",
            "Embarked         2\n",
            "dtype: int64 \n",
            "\n",
            "-----------\n",
            "-----------\n",
            "\n",
            "Test set Missing data:\n",
            "PassengerId      0\n",
            "Pclass           0\n",
            "Name             0\n",
            "Sex              0\n",
            "Age             86\n",
            "SibSp            0\n",
            "Parch            0\n",
            "Ticket           0\n",
            "Fare             1\n",
            "Cabin          327\n",
            "Embarked         0\n",
            "dtype: int64 \n",
            "\n"
          ]
        }
      ],
      "source": [
        "print(f'\\nTrain set Missing data:\\n{train_df.isnull().sum()} \\n')\n",
        "print('-----------')\n",
        "print('-----------')\n",
        "print(f'\\nTest set Missing data:\\n{test_df.isnull().sum()} \\n')"
      ]
    },
    {
      "cell_type": "markdown",
      "metadata": {
        "id": "6nRxJo4e_xT0"
      },
      "source": [
        "4 features have missing data:\n",
        "* Age: in both train and test sets.\n",
        "* Cabin: also in both train and test sets and in large quantities. Can mean that the majority of passengers didn't have a cabin.\n",
        "* Fare: for 1 passenger in the test set.\n",
        "* Embarked: for 2 passengers in the train set.\n",
        "\n",
        "All will have to be filled out later in one way or another if these are found to be meaningful features."
      ]
    },
    {
      "cell_type": "markdown",
      "metadata": {
        "id": "vs3j5dch_xT0"
      },
      "source": [
        "# EDA — Exploratory Data Analysis"
      ]
    },
    {
      "cell_type": "code",
      "execution_count": null,
      "metadata": {
        "colab": {
          "base_uri": "https://localhost:8080/",
          "height": 485
        },
        "execution": {
          "iopub.execute_input": "2025-08-03T12:18:29.355697Z",
          "iopub.status.busy": "2025-08-03T12:18:29.355268Z",
          "iopub.status.idle": "2025-08-03T12:18:29.516712Z",
          "shell.execute_reply": "2025-08-03T12:18:29.515843Z",
          "shell.execute_reply.started": "2025-08-03T12:18:29.355674Z"
        },
        "id": "iaApax8W_xT0",
        "outputId": "bc985286-616b-46d0-94fc-aac0c2fc30f9",
        "trusted": true
      },
      "outputs": [
        {
          "data": {
            "text/plain": [
              "[<matplotlib.axis.XTick at 0x7ea1a537ff90>,\n",
              " <matplotlib.axis.XTick at 0x7ea1a5251510>]"
            ]
          },
          "execution_count": 75,
          "metadata": {},
          "output_type": "execute_result"
        },
        {
          "data": {
            "image/png": "[encoded data removed]",
            "text/plain": [
              "<Figure size 640x480 with 1 Axes>"
            ]
          },
          "metadata": {},
          "output_type": "display_data"
        }
      ],
      "source": [
        "import matplotlib.pyplot as plt\n",
        "import seaborn as sns\n",
        "%matplotlib inline\n",
        "graph = sns.histplot(train_df[\"Survived\"])\n",
        "graph.set_xticks(np.arange(2), labels = ('Perrished', 'Survived'))"
      ]
    },
    {
      "cell_type": "markdown",
      "metadata": {
        "id": "L_QnHlIY_xT1"
      },
      "source": [
        "## 1. Ticket class"
      ]
    },
    {
      "cell_type": "code",
      "execution_count": null,
      "metadata": {
        "colab": {
          "base_uri": "https://localhost:8080/",
          "height": 467
        },
        "execution": {
          "iopub.execute_input": "2025-08-03T12:18:33.608576Z",
          "iopub.status.busy": "2025-08-03T12:18:33.608273Z",
          "iopub.status.idle": "2025-08-03T12:18:33.792555Z",
          "shell.execute_reply": "2025-08-03T12:18:33.791751Z",
          "shell.execute_reply.started": "2025-08-03T12:18:33.608554Z"
        },
        "id": "JHu9Z10q_xT1",
        "outputId": "fd6550d7-a0a4-4335-968e-49edac5ec6a6",
        "trusted": true
      },
      "outputs": [
        {
          "data": {
            "text/plain": [
              "<Axes: xlabel='Pclass', ylabel='count'>"
            ]
          },
          "execution_count": 76,
          "metadata": {},
          "output_type": "execute_result"
        },
        {
          "data": {
            "image/png": "[encoded data removed]",
            "text/plain": [
              "<Figure size 640x480 with 1 Axes>"
            ]
          },
          "metadata": {},
          "output_type": "display_data"
        }
      ],
      "source": [
        "sns.countplot(data=train_df, x='Pclass', hue='Survived', palette='Set2')"
      ]
    },
    {
      "cell_type": "code",
      "execution_count": null,
      "metadata": {
        "colab": {
          "base_uri": "https://localhost:8080/",
          "height": 175
        },
        "execution": {
          "iopub.execute_input": "2025-08-03T12:18:47.865472Z",
          "iopub.status.busy": "2025-08-03T12:18:47.864647Z",
          "iopub.status.idle": "2025-08-03T12:18:47.879562Z",
          "shell.execute_reply": "2025-08-03T12:18:47.878474Z",
          "shell.execute_reply.started": "2025-08-03T12:18:47.865444Z"
        },
        "id": "LkSCekAo_xT1",
        "outputId": "a640567e-1a6f-40c4-f3ef-574ea39990bc",
        "trusted": true
      },
      "outputs": [
        {
          "data": {
            "application/vnd.google.colaboratory.intrinsic+json": {
              "summary": "{\n  \"name\": \"train_df[['Pclass', 'Survived']]\",\n  \"rows\": 3,\n  \"fields\": [\n    {\n      \"column\": \"Pclass\",\n      \"properties\": {\n        \"dtype\": \"number\",\n        \"std\": 1,\n        \"min\": 1,\n        \"max\": 3,\n        \"num_unique_values\": 3,\n        \"samples\": [\n          1,\n          2,\n          3\n        ],\n        \"semantic_type\": \"\",\n        \"description\": \"\"\n      }\n    },\n    {\n      \"column\": \"Survived\",\n      \"properties\": {\n        \"dtype\": \"number\",\n        \"std\": 0.19479759330588634,\n        \"min\": 0.24236252545824846,\n        \"max\": 0.6296296296296297,\n        \"num_unique_values\": 3,\n        \"samples\": [\n          0.6296296296296297,\n          0.47282608695652173,\n          0.24236252545824846\n        ],\n        \"semantic_type\": \"\",\n        \"description\": \"\"\n      }\n    }\n  ]\n}",
              "type": "dataframe"
            },
            "text/html": [
              "\n",
              "  <div id=\"df-0d5ce35b-be8b-4f28-88bd-1af79d088f34\" class=\"colab-df-container\">\n",
              "    <div>\n",
              "<style scoped>\n",
              "    .dataframe tbody tr th:only-of-type {\n",
              "        vertical-align: middle;\n",
              "    }\n",
              "\n",
              "    .dataframe tbody tr th {\n",
              "        vertical-align: top;\n",
              "    }\n",
              "\n",
              "    .dataframe thead th {\n",
              "        text-align: right;\n",
              "    }\n",
              "</style>\n",
              "<table border=\"1\" class=\"dataframe\">\n",
              "  <thead>\n",
              "    <tr style=\"text-align: right;\">\n",
              "      <th></th>\n",
              "      <th>Survived</th>\n",
              "    </tr>\n",
              "    <tr>\n",
              "      <th>Pclass</th>\n",
              "      <th></th>\n",
              "    </tr>\n",
              "  </thead>\n",
              "  <tbody>\n",
              "    <tr>\n",
              "      <th>1</th>\n",
              "      <td>0.629630</td>\n",
              "    </tr>\n",
              "    <tr>\n",
              "      <th>2</th>\n",
              "      <td>0.472826</td>\n",
              "    </tr>\n",
              "    <tr>\n",
              "      <th>3</th>\n",
              "      <td>0.242363</td>\n",
              "    </tr>\n",
              "  </tbody>\n",
              "</table>\n",
              "</div>\n",
              "    <div class=\"colab-df-buttons\">\n",
              "\n",
              "  <div class=\"colab-df-container\">\n",
              "    <button class=\"colab-df-convert\" onclick=\"convertToInteractive('df-0d5ce35b-be8b-4f28-88bd-1af79d088f34')\"\n",
              "            title=\"Convert this dataframe to an interactive table.\"\n",
              "            style=\"display:none;\">\n",
              "\n",
              "  <svg xmlns=\"http://www.w3.org/2000/svg\" height=\"24px\" viewBox=\"0 -960 960 960\">\n",
              "    <path d=\"M120-120v-720h720v720H120Zm60-500h600v-160H180v160Zm220 220h160v-160H400v160Zm0 220h160v-160H400v160ZM180-400h160v-160H180v160Zm440 0h160v-160H620v160ZM180-180h160v-160H180v160Zm440 0h160v-160H620v160Z\"/>\n",
              "  </svg>\n",
              "    </button>\n",
              "\n",
              "  <style>\n",
              "    .colab-df-container {\n",
              "      display:flex;\n",
              "      gap: 12px;\n",
              "    }\n",
              "\n",
              "    .colab-df-convert {\n",
              "      background-color: #E8F0FE;\n",
              "      border: none;\n",
              "      border-radius: 50%;\n",
              "      cursor: pointer;\n",
              "      display: none;\n",
              "      fill: #1967D2;\n",
              "      height: 32px;\n",
              "      padding: 0 0 0 0;\n",
              "      width: 32px;\n",
              "    }\n",
              "\n",
              "    .colab-df-convert:hover {\n",
              "      background-color: #E2EBFA;\n",
              "      box-shadow: 0px 1px 2px rgba(60, 64, 67, 0.3), 0px 1px 3px 1px rgba(60, 64, 67, 0.15);\n",
              "      fill: #174EA6;\n",
              "    }\n",
              "\n",
              "    .colab-df-buttons div {\n",
              "      margin-bottom: 4px;\n",
              "    }\n",
              "\n",
              "    [theme=dark] .colab-df-convert {\n",
              "      background-color: #3B4455;\n",
              "      fill: #D2E3FC;\n",
              "    }\n",
              "\n",
              "    [theme=dark] .colab-df-convert:hover {\n",
              "      background-color: #434B5C;\n",
              "      box-shadow: 0px 1px 3px 1px rgba(0, 0, 0, 0.15);\n",
              "      filter: drop-shadow(0px 1px 2px rgba(0, 0, 0, 0.3));\n",
              "      fill: #FFFFFF;\n",
              "    }\n",
              "  </style>\n",
              "\n",
              "    <script>\n",
              "      const buttonEl =\n",
              "        document.querySelector('#df-0d5ce35b-be8b-4f28-88bd-1af79d088f34 button.colab-df-convert');\n",
              "      buttonEl.style.display =\n",
              "        google.colab.kernel.accessAllowed ? 'block' : 'none';\n",
              "\n",
              "      async function convertToInteractive(key) {\n",
              "        const element = document.querySelector('#df-0d5ce35b-be8b-4f28-88bd-1af79d088f34');\n",
              "        const dataTable =\n",
              "          await google.colab.kernel.invokeFunction('convertToInteractive',\n",
              "                                                    [key], {});\n",
              "        if (!dataTable) return;\n",
              "\n",
              "        const docLinkHtml = 'Like what you see? Visit the ' +\n",
              "          '<a target=\"_blank\" href=https://colab.research.google.com/notebooks/data_table.ipynb>data table notebook</a>'\n",
              "          + ' to learn more about interactive tables.';\n",
              "        element.innerHTML = '';\n",
              "        dataTable['output_type'] = 'display_data';\n",
              "        await google.colab.output.renderOutput(dataTable, element);\n",
              "        const docLink = document.createElement('div');\n",
              "        docLink.innerHTML = docLinkHtml;\n",
              "        element.appendChild(docLink);\n",
              "      }\n",
              "    </script>\n",
              "  </div>\n",
              "\n",
              "\n",
              "    <div id=\"df-32327317-7f40-45ad-bbc8-fe411e61a34a\">\n",
              "      <button class=\"colab-df-quickchart\" onclick=\"quickchart('df-32327317-7f40-45ad-bbc8-fe411e61a34a')\"\n",
              "                title=\"Suggest charts\"\n",
              "                style=\"display:none;\">\n",
              "\n",
              "<svg xmlns=\"http://www.w3.org/2000/svg\" height=\"24px\"viewBox=\"0 0 24 24\"\n",
              "     width=\"24px\">\n",
              "    <g>\n",
              "        <path d=\"M19 3H5c-1.1 0-2 .9-2 2v14c0 1.1.9 2 2 2h14c1.1 0 2-.9 2-2V5c0-1.1-.9-2-2-2zM9 17H7v-7h2v7zm4 0h-2V7h2v10zm4 0h-2v-4h2v4z\"/>\n",
              "    </g>\n",
              "</svg>\n",
              "      </button>\n",
              "\n",
              "<style>\n",
              "  .colab-df-quickchart {\n",
              "      --bg-color: #E8F0FE;\n",
              "      --fill-color: #1967D2;\n",
              "      --hover-bg-color: #E2EBFA;\n",
              "      --hover-fill-color: #174EA6;\n",
              "      --disabled-fill-color: #AAA;\n",
              "      --disabled-bg-color: #DDD;\n",
              "  }\n",
              "\n",
              "  [theme=dark] .colab-df-quickchart {\n",
              "      --bg-color: #3B4455;\n",
              "      --fill-color: #D2E3FC;\n",
              "      --hover-bg-color: #434B5C;\n",
              "      --hover-fill-color: #FFFFFF;\n",
              "      --disabled-bg-color: #3B4455;\n",
              "      --disabled-fill-color: #666;\n",
              "  }\n",
              "\n",
              "  .colab-df-quickchart {\n",
              "    background-color: var(--bg-color);\n",
              "    border: none;\n",
              "    border-radius: 50%;\n",
              "    cursor: pointer;\n",
              "    display: none;\n",
              "    fill: var(--fill-color);\n",
              "    height: 32px;\n",
              "    padding: 0;\n",
              "    width: 32px;\n",
              "  }\n",
              "\n",
              "  .colab-df-quickchart:hover {\n",
              "    background-color: var(--hover-bg-color);\n",
              "    box-shadow: 0 1px 2px rgba(60, 64, 67, 0.3), 0 1px 3px 1px rgba(60, 64, 67, 0.15);\n",
              "    fill: var(--button-hover-fill-color);\n",
              "  }\n",
              "\n",
              "  .colab-df-quickchart-complete:disabled,\n",
              "  .colab-df-quickchart-complete:disabled:hover {\n",
              "    background-color: var(--disabled-bg-color);\n",
              "    fill: var(--disabled-fill-color);\n",
              "    box-shadow: none;\n",
              "  }\n",
              "\n",
              "  .colab-df-spinner {\n",
              "    border: 2px solid var(--fill-color);\n",
              "    border-color: transparent;\n",
              "    border-bottom-color: var(--fill-color);\n",
              "    animation:\n",
              "      spin 1s steps(1) infinite;\n",
              "  }\n",
              "\n",
              "  @keyframes spin {\n",
              "    0% {\n",
              "      border-color: transparent;\n",
              "      border-bottom-color: var(--fill-color);\n",
              "      border-left-color: var(--fill-color);\n",
              "    }\n",
              "    20% {\n",
              "      border-color: transparent;\n",
              "      border-left-color: var(--fill-color);\n",
              "      border-top-color: var(--fill-color);\n",
              "    }\n",
              "    30% {\n",
              "      border-color: transparent;\n",
              "      border-left-color: var(--fill-color);\n",
              "      border-top-color: var(--fill-color);\n",
              "      border-right-color: var(--fill-color);\n",
              "    }\n",
              "    40% {\n",
              "      border-color: transparent;\n",
              "      border-right-color: var(--fill-color);\n",
              "      border-top-color: var(--fill-color);\n",
              "    }\n",
              "    60% {\n",
              "      border-color: transparent;\n",
              "      border-right-color: var(--fill-color);\n",
              "    }\n",
              "    80% {\n",
              "      border-color: transparent;\n",
              "      border-right-color: var(--fill-color);\n",
              "      border-bottom-color: var(--fill-color);\n",
              "    }\n",
              "    90% {\n",
              "      border-color: transparent;\n",
              "      border-bottom-color: var(--fill-color);\n",
              "    }\n",
              "  }\n",
              "</style>\n",
              "\n",
              "      <script>\n",
              "        async function quickchart(key) {\n",
              "          const quickchartButtonEl =\n",
              "            document.querySelector('#' + key + ' button');\n",
              "          quickchartButtonEl.disabled = true;  // To prevent multiple clicks.\n",
              "          quickchartButtonEl.classList.add('colab-df-spinner');\n",
              "          try {\n",
              "            const charts = await google.colab.kernel.invokeFunction(\n",
              "                'suggestCharts', [key], {});\n",
              "          } catch (error) {\n",
              "            console.error('Error during call to suggestCharts:', error);\n",
              "          }\n",
              "          quickchartButtonEl.classList.remove('colab-df-spinner');\n",
              "          quickchartButtonEl.classList.add('colab-df-quickchart-complete');\n",
              "        }\n",
              "        (() => {\n",
              "          let quickchartButtonEl =\n",
              "            document.querySelector('#df-32327317-7f40-45ad-bbc8-fe411e61a34a button');\n",
              "          quickchartButtonEl.style.display =\n",
              "            google.colab.kernel.accessAllowed ? 'block' : 'none';\n",
              "        })();\n",
              "      </script>\n",
              "    </div>\n",
              "\n",
              "    </div>\n",
              "  </div>\n"
            ],
            "text/plain": [
              "        Survived\n",
              "Pclass          \n",
              "1       0.629630\n",
              "2       0.472826\n",
              "3       0.242363"
            ]
          },
          "execution_count": 77,
          "metadata": {},
          "output_type": "execute_result"
        }
      ],
      "source": [
        "train_df[['Pclass', 'Survived']].groupby('Pclass').mean().sort_values(by='Survived', ascending=False)"
      ]
    },
    {
      "cell_type": "markdown",
      "metadata": {
        "id": "snoud0d9_xT2"
      },
      "source": [
        "The higher the class, the more likely the survival.\n",
        "We just need to map these values to (-1, 1)"
      ]
    },
    {
      "cell_type": "code",
      "execution_count": null,
      "metadata": {
        "execution": {
          "iopub.execute_input": "2025-08-03T12:18:52.402169Z",
          "iopub.status.busy": "2025-08-03T12:18:52.401832Z",
          "iopub.status.idle": "2025-08-03T12:18:52.407324Z",
          "shell.execute_reply": "2025-08-03T12:18:52.406353Z",
          "shell.execute_reply.started": "2025-08-03T12:18:52.402147Z"
        },
        "id": "sPSbDQZK_xT2",
        "trusted": true
      },
      "outputs": [],
      "source": [
        "mapping_pclass = {1:1, 2:0, 3:-1}"
      ]
    },
    {
      "cell_type": "markdown",
      "metadata": {
        "id": "oNereJdP_xT2"
      },
      "source": [
        "## 2. Name"
      ]
    },
    {
      "cell_type": "code",
      "execution_count": null,
      "metadata": {
        "colab": {
          "base_uri": "https://localhost:8080/",
          "height": 241
        },
        "execution": {
          "iopub.execute_input": "2025-08-03T12:18:55.350113Z",
          "iopub.status.busy": "2025-08-03T12:18:55.349795Z",
          "iopub.status.idle": "2025-08-03T12:18:55.357225Z",
          "shell.execute_reply": "2025-08-03T12:18:55.356406Z",
          "shell.execute_reply.started": "2025-08-03T12:18:55.350092Z"
        },
        "id": "IuFCsP1O_xT2",
        "outputId": "fb2a8104-c1a3-414a-81ec-b9c0585e750e",
        "trusted": true
      },
      "outputs": [
        {
          "data": {
            "text/html": [
              "<div>\n",
              "<style scoped>\n",
              "    .dataframe tbody tr th:only-of-type {\n",
              "        vertical-align: middle;\n",
              "    }\n",
              "\n",
              "    .dataframe tbody tr th {\n",
              "        vertical-align: top;\n",
              "    }\n",
              "\n",
              "    .dataframe thead th {\n",
              "        text-align: right;\n",
              "    }\n",
              "</style>\n",
              "<table border=\"1\" class=\"dataframe\">\n",
              "  <thead>\n",
              "    <tr style=\"text-align: right;\">\n",
              "      <th></th>\n",
              "      <th>Name</th>\n",
              "    </tr>\n",
              "  </thead>\n",
              "  <tbody>\n",
              "    <tr>\n",
              "      <th>0</th>\n",
              "      <td>Braund, Mr. Owen Harris</td>\n",
              "    </tr>\n",
              "    <tr>\n",
              "      <th>1</th>\n",
              "      <td>Cumings, Mrs. John Bradley (Florence Briggs Th...</td>\n",
              "    </tr>\n",
              "    <tr>\n",
              "      <th>2</th>\n",
              "      <td>Heikkinen, Miss. Laina</td>\n",
              "    </tr>\n",
              "    <tr>\n",
              "      <th>3</th>\n",
              "      <td>Futrelle, Mrs. Jacques Heath (Lily May Peel)</td>\n",
              "    </tr>\n",
              "    <tr>\n",
              "      <th>4</th>\n",
              "      <td>Allen, Mr. William Henry</td>\n",
              "    </tr>\n",
              "  </tbody>\n",
              "</table>\n",
              "</div><br><label><b>dtype:</b> object</label>"
            ],
            "text/plain": [
              "0                              Braund, Mr. Owen Harris\n",
              "1    Cumings, Mrs. John Bradley (Florence Briggs Th...\n",
              "2                               Heikkinen, Miss. Laina\n",
              "3         Futrelle, Mrs. Jacques Heath (Lily May Peel)\n",
              "4                             Allen, Mr. William Henry\n",
              "Name: Name, dtype: object"
            ]
          },
          "execution_count": 79,
          "metadata": {},
          "output_type": "execute_result"
        }
      ],
      "source": [
        "train_df[\"Name\"].head()"
      ]
    },
    {
      "cell_type": "markdown",
      "metadata": {
        "id": "MhUvryhc_xT3"
      },
      "source": [
        "The column \"Name\" contains:\n",
        "- Family Name.\n",
        "- Title.\n",
        "- First name + Maiden name when applicable.\n",
        "\n",
        "The title can give an indication on the age as well as the socio-economic class."
      ]
    },
    {
      "cell_type": "markdown",
      "metadata": {
        "id": "gdvyCJM__xT3"
      },
      "source": [
        "## 3. Sex"
      ]
    },
    {
      "cell_type": "code",
      "execution_count": null,
      "metadata": {
        "colab": {
          "base_uri": "https://localhost:8080/",
          "height": 467
        },
        "execution": {
          "iopub.execute_input": "2025-08-03T12:18:58.712056Z",
          "iopub.status.busy": "2025-08-03T12:18:58.711690Z",
          "iopub.status.idle": "2025-08-03T12:18:58.876148Z",
          "shell.execute_reply": "2025-08-03T12:18:58.875189Z",
          "shell.execute_reply.started": "2025-08-03T12:18:58.712022Z"
        },
        "id": "Hxe4hKP7_xT4",
        "outputId": "aab5402f-2f45-40d6-c1f9-dc901368bf0d",
        "trusted": true
      },
      "outputs": [
        {
          "data": {
            "text/plain": [
              "<Axes: xlabel='Sex', ylabel='count'>"
            ]
          },
          "execution_count": 80,
          "metadata": {},
          "output_type": "execute_result"
        },
        {
          "data": {
            "image/png": "[encoded data removed]",
            "text/plain": [
              "<Figure size 640x480 with 1 Axes>"
            ]
          },
          "metadata": {},
          "output_type": "display_data"
        }
      ],
      "source": [
        "sns.countplot(data=train_df, x='Sex', hue='Survived')"
      ]
    },
    {
      "cell_type": "code",
      "execution_count": null,
      "metadata": {
        "colab": {
          "base_uri": "https://localhost:8080/",
          "height": 143
        },
        "execution": {
          "iopub.execute_input": "2025-08-03T12:19:04.078466Z",
          "iopub.status.busy": "2025-08-03T12:19:04.078188Z",
          "iopub.status.idle": "2025-08-03T12:19:04.092123Z",
          "shell.execute_reply": "2025-08-03T12:19:04.091179Z",
          "shell.execute_reply.started": "2025-08-03T12:19:04.078447Z"
        },
        "id": "Kw2YaaY7_xT4",
        "outputId": "54885e3f-cbb5-412e-82d8-3b2f710cddc7",
        "trusted": true
      },
      "outputs": [
        {
          "data": {
            "application/vnd.google.colaboratory.intrinsic+json": {
              "summary": "{\n  \"name\": \"train_df[['Sex', 'Survived']]\",\n  \"rows\": 2,\n  \"fields\": [\n    {\n      \"column\": \"Sex\",\n      \"properties\": {\n        \"dtype\": \"string\",\n        \"num_unique_values\": 2,\n        \"samples\": [\n          \"male\",\n          \"female\"\n        ],\n        \"semantic_type\": \"\",\n        \"description\": \"\"\n      }\n    },\n    {\n      \"column\": \"Survived\",\n      \"properties\": {\n        \"dtype\": \"number\",\n        \"std\": 0.391122024068098,\n        \"min\": 0.18890814558058924,\n        \"max\": 0.7420382165605095,\n        \"num_unique_values\": 2,\n        \"samples\": [\n          0.18890814558058924,\n          0.7420382165605095\n        ],\n        \"semantic_type\": \"\",\n        \"description\": \"\"\n      }\n    }\n  ]\n}",
              "type": "dataframe"
            },
            "text/html": [
              "\n",
              "  <div id=\"df-da43c133-dd19-41ee-80d7-726360042498\" class=\"colab-df-container\">\n",
              "    <div>\n",
              "<style scoped>\n",
              "    .dataframe tbody tr th:only-of-type {\n",
              "        vertical-align: middle;\n",
              "    }\n",
              "\n",
              "    .dataframe tbody tr th {\n",
              "        vertical-align: top;\n",
              "    }\n",
              "\n",
              "    .dataframe thead th {\n",
              "        text-align: right;\n",
              "    }\n",
              "</style>\n",
              "<table border=\"1\" class=\"dataframe\">\n",
              "  <thead>\n",
              "    <tr style=\"text-align: right;\">\n",
              "      <th></th>\n",
              "      <th>Survived</th>\n",
              "    </tr>\n",
              "    <tr>\n",
              "      <th>Sex</th>\n",
              "      <th></th>\n",
              "    </tr>\n",
              "  </thead>\n",
              "  <tbody>\n",
              "    <tr>\n",
              "      <th>female</th>\n",
              "      <td>0.742038</td>\n",
              "    </tr>\n",
              "    <tr>\n",
              "      <th>male</th>\n",
              "      <td>0.188908</td>\n",
              "    </tr>\n",
              "  </tbody>\n",
              "</table>\n",
              "</div>\n",
              "    <div class=\"colab-df-buttons\">\n",
              "\n",
              "  <div class=\"colab-df-container\">\n",
              "    <button class=\"colab-df-convert\" onclick=\"convertToInteractive('df-da43c133-dd19-41ee-80d7-726360042498')\"\n",
              "            title=\"Convert this dataframe to an interactive table.\"\n",
              "            style=\"display:none;\">\n",
              "\n",
              "  <svg xmlns=\"http://www.w3.org/2000/svg\" height=\"24px\" viewBox=\"0 -960 960 960\">\n",
              "    <path d=\"M120-120v-720h720v720H120Zm60-500h600v-160H180v160Zm220 220h160v-160H400v160Zm0 220h160v-160H400v160ZM180-400h160v-160H180v160Zm440 0h160v-160H620v160ZM180-180h160v-160H180v160Zm440 0h160v-160H620v160Z\"/>\n",
              "  </svg>\n",
              "    </button>\n",
              "\n",
              "  <style>\n",
              "    .colab-df-container {\n",
              "      display:flex;\n",
              "      gap: 12px;\n",
              "    }\n",
              "\n",
              "    .colab-df-convert {\n",
              "      background-color: #E8F0FE;\n",
              "      border: none;\n",
              "      border-radius: 50%;\n",
              "      cursor: pointer;\n",
              "      display: none;\n",
              "      fill: #1967D2;\n",
              "      height: 32px;\n",
              "      padding: 0 0 0 0;\n",
              "      width: 32px;\n",
              "    }\n",
              "\n",
              "    .colab-df-convert:hover {\n",
              "      background-color: #E2EBFA;\n",
              "      box-shadow: 0px 1px 2px rgba(60, 64, 67, 0.3), 0px 1px 3px 1px rgba(60, 64, 67, 0.15);\n",
              "      fill: #174EA6;\n",
              "    }\n",
              "\n",
              "    .colab-df-buttons div {\n",
              "      margin-bottom: 4px;\n",
              "    }\n",
              "\n",
              "    [theme=dark] .colab-df-convert {\n",
              "      background-color: #3B4455;\n",
              "      fill: #D2E3FC;\n",
              "    }\n",
              "\n",
              "    [theme=dark] .colab-df-convert:hover {\n",
              "      background-color: #434B5C;\n",
              "      box-shadow: 0px 1px 3px 1px rgba(0, 0, 0, 0.15);\n",
              "      filter: drop-shadow(0px 1px 2px rgba(0, 0, 0, 0.3));\n",
              "      fill: #FFFFFF;\n",
              "    }\n",
              "  </style>\n",
              "\n",
              "    <script>\n",
              "      const buttonEl =\n",
              "        document.querySelector('#df-da43c133-dd19-41ee-80d7-726360042498 button.colab-df-convert');\n",
              "      buttonEl.style.display =\n",
              "        google.colab.kernel.accessAllowed ? 'block' : 'none';\n",
              "\n",
              "      async function convertToInteractive(key) {\n",
              "        const element = document.querySelector('#df-da43c133-dd19-41ee-80d7-726360042498');\n",
              "        const dataTable =\n",
              "          await google.colab.kernel.invokeFunction('convertToInteractive',\n",
              "                                                    [key], {});\n",
              "        if (!dataTable) return;\n",
              "\n",
              "        const docLinkHtml = 'Like what you see? Visit the ' +\n",
              "          '<a target=\"_blank\" href=https://colab.research.google.com/notebooks/data_table.ipynb>data table notebook</a>'\n",
              "          + ' to learn more about interactive tables.';\n",
              "        element.innerHTML = '';\n",
              "        dataTable['output_type'] = 'display_data';\n",
              "        await google.colab.output.renderOutput(dataTable, element);\n",
              "        const docLink = document.createElement('div');\n",
              "        docLink.innerHTML = docLinkHtml;\n",
              "        element.appendChild(docLink);\n",
              "      }\n",
              "    </script>\n",
              "  </div>\n",
              "\n",
              "\n",
              "    <div id=\"df-2dd0ead8-f931-4607-b570-e8f728f2c144\">\n",
              "      <button class=\"colab-df-quickchart\" onclick=\"quickchart('df-2dd0ead8-f931-4607-b570-e8f728f2c144')\"\n",
              "                title=\"Suggest charts\"\n",
              "                style=\"display:none;\">\n",
              "\n",
              "<svg xmlns=\"http://www.w3.org/2000/svg\" height=\"24px\"viewBox=\"0 0 24 24\"\n",
              "     width=\"24px\">\n",
              "    <g>\n",
              "        <path d=\"M19 3H5c-1.1 0-2 .9-2 2v14c0 1.1.9 2 2 2h14c1.1 0 2-.9 2-2V5c0-1.1-.9-2-2-2zM9 17H7v-7h2v7zm4 0h-2V7h2v10zm4 0h-2v-4h2v4z\"/>\n",
              "    </g>\n",
              "</svg>\n",
              "      </button>\n",
              "\n",
              "<style>\n",
              "  .colab-df-quickchart {\n",
              "      --bg-color: #E8F0FE;\n",
              "      --fill-color: #1967D2;\n",
              "      --hover-bg-color: #E2EBFA;\n",
              "      --hover-fill-color: #174EA6;\n",
              "      --disabled-fill-color: #AAA;\n",
              "      --disabled-bg-color: #DDD;\n",
              "  }\n",
              "\n",
              "  [theme=dark] .colab-df-quickchart {\n",
              "      --bg-color: #3B4455;\n",
              "      --fill-color: #D2E3FC;\n",
              "      --hover-bg-color: #434B5C;\n",
              "      --hover-fill-color: #FFFFFF;\n",
              "      --disabled-bg-color: #3B4455;\n",
              "      --disabled-fill-color: #666;\n",
              "  }\n",
              "\n",
              "  .colab-df-quickchart {\n",
              "    background-color: var(--bg-color);\n",
              "    border: none;\n",
              "    border-radius: 50%;\n",
              "    cursor: pointer;\n",
              "    display: none;\n",
              "    fill: var(--fill-color);\n",
              "    height: 32px;\n",
              "    padding: 0;\n",
              "    width: 32px;\n",
              "  }\n",
              "\n",
              "  .colab-df-quickchart:hover {\n",
              "    background-color: var(--hover-bg-color);\n",
              "    box-shadow: 0 1px 2px rgba(60, 64, 67, 0.3), 0 1px 3px 1px rgba(60, 64, 67, 0.15);\n",
              "    fill: var(--button-hover-fill-color);\n",
              "  }\n",
              "\n",
              "  .colab-df-quickchart-complete:disabled,\n",
              "  .colab-df-quickchart-complete:disabled:hover {\n",
              "    background-color: var(--disabled-bg-color);\n",
              "    fill: var(--disabled-fill-color);\n",
              "    box-shadow: none;\n",
              "  }\n",
              "\n",
              "  .colab-df-spinner {\n",
              "    border: 2px solid var(--fill-color);\n",
              "    border-color: transparent;\n",
              "    border-bottom-color: var(--fill-color);\n",
              "    animation:\n",
              "      spin 1s steps(1) infinite;\n",
              "  }\n",
              "\n",
              "  @keyframes spin {\n",
              "    0% {\n",
              "      border-color: transparent;\n",
              "      border-bottom-color: var(--fill-color);\n",
              "      border-left-color: var(--fill-color);\n",
              "    }\n",
              "    20% {\n",
              "      border-color: transparent;\n",
              "      border-left-color: var(--fill-color);\n",
              "      border-top-color: var(--fill-color);\n",
              "    }\n",
              "    30% {\n",
              "      border-color: transparent;\n",
              "      border-left-color: var(--fill-color);\n",
              "      border-top-color: var(--fill-color);\n",
              "      border-right-color: var(--fill-color);\n",
              "    }\n",
              "    40% {\n",
              "      border-color: transparent;\n",
              "      border-right-color: var(--fill-color);\n",
              "      border-top-color: var(--fill-color);\n",
              "    }\n",
              "    60% {\n",
              "      border-color: transparent;\n",
              "      border-right-color: var(--fill-color);\n",
              "    }\n",
              "    80% {\n",
              "      border-color: transparent;\n",
              "      border-right-color: var(--fill-color);\n",
              "      border-bottom-color: var(--fill-color);\n",
              "    }\n",
              "    90% {\n",
              "      border-color: transparent;\n",
              "      border-bottom-color: var(--fill-color);\n",
              "    }\n",
              "  }\n",
              "</style>\n",
              "\n",
              "      <script>\n",
              "        async function quickchart(key) {\n",
              "          const quickchartButtonEl =\n",
              "            document.querySelector('#' + key + ' button');\n",
              "          quickchartButtonEl.disabled = true;  // To prevent multiple clicks.\n",
              "          quickchartButtonEl.classList.add('colab-df-spinner');\n",
              "          try {\n",
              "            const charts = await google.colab.kernel.invokeFunction(\n",
              "                'suggestCharts', [key], {});\n",
              "          } catch (error) {\n",
              "            console.error('Error during call to suggestCharts:', error);\n",
              "          }\n",
              "          quickchartButtonEl.classList.remove('colab-df-spinner');\n",
              "          quickchartButtonEl.classList.add('colab-df-quickchart-complete');\n",
              "        }\n",
              "        (() => {\n",
              "          let quickchartButtonEl =\n",
              "            document.querySelector('#df-2dd0ead8-f931-4607-b570-e8f728f2c144 button');\n",
              "          quickchartButtonEl.style.display =\n",
              "            google.colab.kernel.accessAllowed ? 'block' : 'none';\n",
              "        })();\n",
              "      </script>\n",
              "    </div>\n",
              "\n",
              "    </div>\n",
              "  </div>\n"
            ],
            "text/plain": [
              "        Survived\n",
              "Sex             \n",
              "female  0.742038\n",
              "male    0.188908"
            ]
          },
          "execution_count": 81,
          "metadata": {},
          "output_type": "execute_result"
        }
      ],
      "source": [
        "train_df[['Sex', 'Survived']].groupby('Sex').mean().sort_values(by='Survived', ascending=False)"
      ]
    },
    {
      "cell_type": "markdown",
      "metadata": {
        "id": "YDGyVPbi_xT4"
      },
      "source": [
        "Females were more likely to survive.\n",
        "The feature being categorical and descriptive enough will be left as is."
      ]
    },
    {
      "cell_type": "markdown",
      "metadata": {
        "id": "KtXRdFum_xT4"
      },
      "source": [
        "## 4. Age"
      ]
    },
    {
      "cell_type": "code",
      "execution_count": null,
      "metadata": {
        "colab": {
          "base_uri": "https://localhost:8080/",
          "height": 467
        },
        "execution": {
          "iopub.execute_input": "2025-08-03T12:20:32.228568Z",
          "iopub.status.busy": "2025-08-03T12:20:32.228255Z",
          "iopub.status.idle": "2025-08-03T12:20:32.483581Z",
          "shell.execute_reply": "2025-08-03T12:20:32.482470Z",
          "shell.execute_reply.started": "2025-08-03T12:20:32.228545Z"
        },
        "id": "SfzA9BBI_xT5",
        "outputId": "912a316c-e3ec-4985-c278-f37d2604c787",
        "trusted": true
      },
      "outputs": [
        {
          "data": {
            "text/plain": [
              "<Axes: xlabel='AgeGroup', ylabel='count'>"
            ]
          },
          "execution_count": 82,
          "metadata": {},
          "output_type": "execute_result"
        },
        {
          "data": {
            "image/png": "[encoded data removed]",
            "text/plain": [
              "<Figure size 640x480 with 1 Axes>"
            ]
          },
          "metadata": {},
          "output_type": "display_data"
        }
      ],
      "source": [
        "train_df['AgeGroup'] = pd.cut(train_df['Age'], bins=range(0, 81, 10), right=False)\n",
        "sns.countplot(data=train_df, x='AgeGroup', hue='Survived')"
      ]
    },
    {
      "cell_type": "markdown",
      "metadata": {
        "id": "r83dhvop_xT5"
      },
      "source": [
        "It's tricky to conclude on age, will need to be filled and properly engineered into a meaningful feature."
      ]
    },
    {
      "cell_type": "markdown",
      "metadata": {
        "id": "wS4kAqYw_xT5"
      },
      "source": [
        "## 5. SibSp"
      ]
    },
    {
      "cell_type": "code",
      "execution_count": null,
      "metadata": {
        "colab": {
          "base_uri": "https://localhost:8080/",
          "height": 300
        },
        "execution": {
          "iopub.execute_input": "2025-08-03T12:21:11.152129Z",
          "iopub.status.busy": "2025-08-03T12:21:11.151760Z",
          "iopub.status.idle": "2025-08-03T12:21:11.164592Z",
          "shell.execute_reply": "2025-08-03T12:21:11.163690Z",
          "shell.execute_reply.started": "2025-08-03T12:21:11.152104Z"
        },
        "id": "3e96AeXa_xT6",
        "outputId": "8e1b31d8-41ed-45bb-c5ee-abadd3814150",
        "trusted": true
      },
      "outputs": [
        {
          "data": {
            "application/vnd.google.colaboratory.intrinsic+json": {
              "summary": "{\n  \"name\": \"train_df[['SibSp', 'Survived']]\",\n  \"rows\": 7,\n  \"fields\": [\n    {\n      \"column\": \"SibSp\",\n      \"properties\": {\n        \"dtype\": \"number\",\n        \"std\": 2,\n        \"min\": 0,\n        \"max\": 8,\n        \"num_unique_values\": 7,\n        \"samples\": [\n          1,\n          2,\n          5\n        ],\n        \"semantic_type\": \"\",\n        \"description\": \"\"\n      }\n    },\n    {\n      \"column\": \"Survived\",\n      \"properties\": {\n        \"dtype\": \"number\",\n        \"std\": 0.2116096725267646,\n        \"min\": 0.0,\n        \"max\": 0.5358851674641149,\n        \"num_unique_values\": 6,\n        \"samples\": [\n          0.5358851674641149,\n          0.4642857142857143,\n          0.0\n        ],\n        \"semantic_type\": \"\",\n        \"description\": \"\"\n      }\n    }\n  ]\n}",
              "type": "dataframe"
            },
            "text/html": [
              "\n",
              "  <div id=\"df-f1053117-55c8-4677-87ec-df9076af91d7\" class=\"colab-df-container\">\n",
              "    <div>\n",
              "<style scoped>\n",
              "    .dataframe tbody tr th:only-of-type {\n",
              "        vertical-align: middle;\n",
              "    }\n",
              "\n",
              "    .dataframe tbody tr th {\n",
              "        vertical-align: top;\n",
              "    }\n",
              "\n",
              "    .dataframe thead th {\n",
              "        text-align: right;\n",
              "    }\n",
              "</style>\n",
              "<table border=\"1\" class=\"dataframe\">\n",
              "  <thead>\n",
              "    <tr style=\"text-align: right;\">\n",
              "      <th></th>\n",
              "      <th>Survived</th>\n",
              "    </tr>\n",
              "    <tr>\n",
              "      <th>SibSp</th>\n",
              "      <th></th>\n",
              "    </tr>\n",
              "  </thead>\n",
              "  <tbody>\n",
              "    <tr>\n",
              "      <th>1</th>\n",
              "      <td>0.535885</td>\n",
              "    </tr>\n",
              "    <tr>\n",
              "      <th>2</th>\n",
              "      <td>0.464286</td>\n",
              "    </tr>\n",
              "    <tr>\n",
              "      <th>0</th>\n",
              "      <td>0.345395</td>\n",
              "    </tr>\n",
              "    <tr>\n",
              "      <th>3</th>\n",
              "      <td>0.250000</td>\n",
              "    </tr>\n",
              "    <tr>\n",
              "      <th>4</th>\n",
              "      <td>0.166667</td>\n",
              "    </tr>\n",
              "    <tr>\n",
              "      <th>5</th>\n",
              "      <td>0.000000</td>\n",
              "    </tr>\n",
              "    <tr>\n",
              "      <th>8</th>\n",
              "      <td>0.000000</td>\n",
              "    </tr>\n",
              "  </tbody>\n",
              "</table>\n",
              "</div>\n",
              "    <div class=\"colab-df-buttons\">\n",
              "\n",
              "  <div class=\"colab-df-container\">\n",
              "    <button class=\"colab-df-convert\" onclick=\"convertToInteractive('df-f1053117-55c8-4677-87ec-df9076af91d7')\"\n",
              "            title=\"Convert this dataframe to an interactive table.\"\n",
              "            style=\"display:none;\">\n",
              "\n",
              "  <svg xmlns=\"http://www.w3.org/2000/svg\" height=\"24px\" viewBox=\"0 -960 960 960\">\n",
              "    <path d=\"M120-120v-720h720v720H120Zm60-500h600v-160H180v160Zm220 220h160v-160H400v160Zm0 220h160v-160H400v160ZM180-400h160v-160H180v160Zm440 0h160v-160H620v160ZM180-180h160v-160H180v160Zm440 0h160v-160H620v160Z\"/>\n",
              "  </svg>\n",
              "    </button>\n",
              "\n",
              "  <style>\n",
              "    .colab-df-container {\n",
              "      display:flex;\n",
              "      gap: 12px;\n",
              "    }\n",
              "\n",
              "    .colab-df-convert {\n",
              "      background-color: #E8F0FE;\n",
              "      border: none;\n",
              "      border-radius: 50%;\n",
              "      cursor: pointer;\n",
              "      display: none;\n",
              "      fill: #1967D2;\n",
              "      height: 32px;\n",
              "      padding: 0 0 0 0;\n",
              "      width: 32px;\n",
              "    }\n",
              "\n",
              "    .colab-df-convert:hover {\n",
              "      background-color: #E2EBFA;\n",
              "      box-shadow: 0px 1px 2px rgba(60, 64, 67, 0.3), 0px 1px 3px 1px rgba(60, 64, 67, 0.15);\n",
              "      fill: #174EA6;\n",
              "    }\n",
              "\n",
              "    .colab-df-buttons div {\n",
              "      margin-bottom: 4px;\n",
              "    }\n",
              "\n",
              "    [theme=dark] .colab-df-convert {\n",
              "      background-color: #3B4455;\n",
              "      fill: #D2E3FC;\n",
              "    }\n",
              "\n",
              "    [theme=dark] .colab-df-convert:hover {\n",
              "      background-color: #434B5C;\n",
              "      box-shadow: 0px 1px 3px 1px rgba(0, 0, 0, 0.15);\n",
              "      filter: drop-shadow(0px 1px 2px rgba(0, 0, 0, 0.3));\n",
              "      fill: #FFFFFF;\n",
              "    }\n",
              "  </style>\n",
              "\n",
              "    <script>\n",
              "      const buttonEl =\n",
              "        document.querySelector('#df-f1053117-55c8-4677-87ec-df9076af91d7 button.colab-df-convert');\n",
              "      buttonEl.style.display =\n",
              "        google.colab.kernel.accessAllowed ? 'block' : 'none';\n",
              "\n",
              "      async function convertToInteractive(key) {\n",
              "        const element = document.querySelector('#df-f1053117-55c8-4677-87ec-df9076af91d7');\n",
              "        const dataTable =\n",
              "          await google.colab.kernel.invokeFunction('convertToInteractive',\n",
              "                                                    [key], {});\n",
              "        if (!dataTable) return;\n",
              "\n",
              "        const docLinkHtml = 'Like what you see? Visit the ' +\n",
              "          '<a target=\"_blank\" href=https://colab.research.google.com/notebooks/data_table.ipynb>data table notebook</a>'\n",
              "          + ' to learn more about interactive tables.';\n",
              "        element.innerHTML = '';\n",
              "        dataTable['output_type'] = 'display_data';\n",
              "        await google.colab.output.renderOutput(dataTable, element);\n",
              "        const docLink = document.createElement('div');\n",
              "        docLink.innerHTML = docLinkHtml;\n",
              "        element.appendChild(docLink);\n",
              "      }\n",
              "    </script>\n",
              "  </div>\n",
              "\n",
              "\n",
              "    <div id=\"df-8c8c9a0e-9589-4b46-b86a-702756bb49d3\">\n",
              "      <button class=\"colab-df-quickchart\" onclick=\"quickchart('df-8c8c9a0e-9589-4b46-b86a-702756bb49d3')\"\n",
              "                title=\"Suggest charts\"\n",
              "                style=\"display:none;\">\n",
              "\n",
              "<svg xmlns=\"http://www.w3.org/2000/svg\" height=\"24px\"viewBox=\"0 0 24 24\"\n",
              "     width=\"24px\">\n",
              "    <g>\n",
              "        <path d=\"M19 3H5c-1.1 0-2 .9-2 2v14c0 1.1.9 2 2 2h14c1.1 0 2-.9 2-2V5c0-1.1-.9-2-2-2zM9 17H7v-7h2v7zm4 0h-2V7h2v10zm4 0h-2v-4h2v4z\"/>\n",
              "    </g>\n",
              "</svg>\n",
              "      </button>\n",
              "\n",
              "<style>\n",
              "  .colab-df-quickchart {\n",
              "      --bg-color: #E8F0FE;\n",
              "      --fill-color: #1967D2;\n",
              "      --hover-bg-color: #E2EBFA;\n",
              "      --hover-fill-color: #174EA6;\n",
              "      --disabled-fill-color: #AAA;\n",
              "      --disabled-bg-color: #DDD;\n",
              "  }\n",
              "\n",
              "  [theme=dark] .colab-df-quickchart {\n",
              "      --bg-color: #3B4455;\n",
              "      --fill-color: #D2E3FC;\n",
              "      --hover-bg-color: #434B5C;\n",
              "      --hover-fill-color: #FFFFFF;\n",
              "      --disabled-bg-color: #3B4455;\n",
              "      --disabled-fill-color: #666;\n",
              "  }\n",
              "\n",
              "  .colab-df-quickchart {\n",
              "    background-color: var(--bg-color);\n",
              "    border: none;\n",
              "    border-radius: 50%;\n",
              "    cursor: pointer;\n",
              "    display: none;\n",
              "    fill: var(--fill-color);\n",
              "    height: 32px;\n",
              "    padding: 0;\n",
              "    width: 32px;\n",
              "  }\n",
              "\n",
              "  .colab-df-quickchart:hover {\n",
              "    background-color: var(--hover-bg-color);\n",
              "    box-shadow: 0 1px 2px rgba(60, 64, 67, 0.3), 0 1px 3px 1px rgba(60, 64, 67, 0.15);\n",
              "    fill: var(--button-hover-fill-color);\n",
              "  }\n",
              "\n",
              "  .colab-df-quickchart-complete:disabled,\n",
              "  .colab-df-quickchart-complete:disabled:hover {\n",
              "    background-color: var(--disabled-bg-color);\n",
              "    fill: var(--disabled-fill-color);\n",
              "    box-shadow: none;\n",
              "  }\n",
              "\n",
              "  .colab-df-spinner {\n",
              "    border: 2px solid var(--fill-color);\n",
              "    border-color: transparent;\n",
              "    border-bottom-color: var(--fill-color);\n",
              "    animation:\n",
              "      spin 1s steps(1) infinite;\n",
              "  }\n",
              "\n",
              "  @keyframes spin {\n",
              "    0% {\n",
              "      border-color: transparent;\n",
              "      border-bottom-color: var(--fill-color);\n",
              "      border-left-color: var(--fill-color);\n",
              "    }\n",
              "    20% {\n",
              "      border-color: transparent;\n",
              "      border-left-color: var(--fill-color);\n",
              "      border-top-color: var(--fill-color);\n",
              "    }\n",
              "    30% {\n",
              "      border-color: transparent;\n",
              "      border-left-color: var(--fill-color);\n",
              "      border-top-color: var(--fill-color);\n",
              "      border-right-color: var(--fill-color);\n",
              "    }\n",
              "    40% {\n",
              "      border-color: transparent;\n",
              "      border-right-color: var(--fill-color);\n",
              "      border-top-color: var(--fill-color);\n",
              "    }\n",
              "    60% {\n",
              "      border-color: transparent;\n",
              "      border-right-color: var(--fill-color);\n",
              "    }\n",
              "    80% {\n",
              "      border-color: transparent;\n",
              "      border-right-color: var(--fill-color);\n",
              "      border-bottom-color: var(--fill-color);\n",
              "    }\n",
              "    90% {\n",
              "      border-color: transparent;\n",
              "      border-bottom-color: var(--fill-color);\n",
              "    }\n",
              "  }\n",
              "</style>\n",
              "\n",
              "      <script>\n",
              "        async function quickchart(key) {\n",
              "          const quickchartButtonEl =\n",
              "            document.querySelector('#' + key + ' button');\n",
              "          quickchartButtonEl.disabled = true;  // To prevent multiple clicks.\n",
              "          quickchartButtonEl.classList.add('colab-df-spinner');\n",
              "          try {\n",
              "            const charts = await google.colab.kernel.invokeFunction(\n",
              "                'suggestCharts', [key], {});\n",
              "          } catch (error) {\n",
              "            console.error('Error during call to suggestCharts:', error);\n",
              "          }\n",
              "          quickchartButtonEl.classList.remove('colab-df-spinner');\n",
              "          quickchartButtonEl.classList.add('colab-df-quickchart-complete');\n",
              "        }\n",
              "        (() => {\n",
              "          let quickchartButtonEl =\n",
              "            document.querySelector('#df-8c8c9a0e-9589-4b46-b86a-702756bb49d3 button');\n",
              "          quickchartButtonEl.style.display =\n",
              "            google.colab.kernel.accessAllowed ? 'block' : 'none';\n",
              "        })();\n",
              "      </script>\n",
              "    </div>\n",
              "\n",
              "    </div>\n",
              "  </div>\n"
            ],
            "text/plain": [
              "       Survived\n",
              "SibSp          \n",
              "1      0.535885\n",
              "2      0.464286\n",
              "0      0.345395\n",
              "3      0.250000\n",
              "4      0.166667\n",
              "5      0.000000\n",
              "8      0.000000"
            ]
          },
          "execution_count": 83,
          "metadata": {},
          "output_type": "execute_result"
        }
      ],
      "source": [
        "train_df[['SibSp', 'Survived']].groupby('SibSp').mean().sort_values(by='Survived', ascending=False)"
      ]
    },
    {
      "cell_type": "markdown",
      "metadata": {
        "id": "9iylbRmv_xT6"
      },
      "source": [
        "## 6. Parch"
      ]
    },
    {
      "cell_type": "code",
      "execution_count": null,
      "metadata": {
        "colab": {
          "base_uri": "https://localhost:8080/",
          "height": 300
        },
        "execution": {
          "iopub.execute_input": "2025-08-03T12:21:14.441441Z",
          "iopub.status.busy": "2025-08-03T12:21:14.441131Z",
          "iopub.status.idle": "2025-08-03T12:21:14.454366Z",
          "shell.execute_reply": "2025-08-03T12:21:14.453376Z",
          "shell.execute_reply.started": "2025-08-03T12:21:14.441418Z"
        },
        "id": "GFkkGTrI_xT6",
        "outputId": "a59f0fac-944a-4673-b863-94255657f3a1",
        "trusted": true
      },
      "outputs": [
        {
          "data": {
            "application/vnd.google.colaboratory.intrinsic+json": {
              "summary": "{\n  \"name\": \"train_df[['Parch', 'Survived']]\",\n  \"rows\": 7,\n  \"fields\": [\n    {\n      \"column\": \"Parch\",\n      \"properties\": {\n        \"dtype\": \"number\",\n        \"std\": 2,\n        \"min\": 0,\n        \"max\": 6,\n        \"num_unique_values\": 7,\n        \"samples\": [\n          3,\n          1,\n          4\n        ],\n        \"semantic_type\": \"\",\n        \"description\": \"\"\n      }\n    },\n    {\n      \"column\": \"Survived\",\n      \"properties\": {\n        \"dtype\": \"number\",\n        \"std\": 0.2528354404122936,\n        \"min\": 0.0,\n        \"max\": 0.6,\n        \"num_unique_values\": 6,\n        \"samples\": [\n          0.6,\n          0.5508474576271186,\n          0.0\n        ],\n        \"semantic_type\": \"\",\n        \"description\": \"\"\n      }\n    }\n  ]\n}",
              "type": "dataframe"
            },
            "text/html": [
              "\n",
              "  <div id=\"df-8461a361-4ed4-4039-ae95-f799f3790037\" class=\"colab-df-container\">\n",
              "    <div>\n",
              "<style scoped>\n",
              "    .dataframe tbody tr th:only-of-type {\n",
              "        vertical-align: middle;\n",
              "    }\n",
              "\n",
              "    .dataframe tbody tr th {\n",
              "        vertical-align: top;\n",
              "    }\n",
              "\n",
              "    .dataframe thead th {\n",
              "        text-align: right;\n",
              "    }\n",
              "</style>\n",
              "<table border=\"1\" class=\"dataframe\">\n",
              "  <thead>\n",
              "    <tr style=\"text-align: right;\">\n",
              "      <th></th>\n",
              "      <th>Survived</th>\n",
              "    </tr>\n",
              "    <tr>\n",
              "      <th>Parch</th>\n",
              "      <th></th>\n",
              "    </tr>\n",
              "  </thead>\n",
              "  <tbody>\n",
              "    <tr>\n",
              "      <th>3</th>\n",
              "      <td>0.600000</td>\n",
              "    </tr>\n",
              "    <tr>\n",
              "      <th>1</th>\n",
              "      <td>0.550847</td>\n",
              "    </tr>\n",
              "    <tr>\n",
              "      <th>2</th>\n",
              "      <td>0.500000</td>\n",
              "    </tr>\n",
              "    <tr>\n",
              "      <th>0</th>\n",
              "      <td>0.343658</td>\n",
              "    </tr>\n",
              "    <tr>\n",
              "      <th>5</th>\n",
              "      <td>0.200000</td>\n",
              "    </tr>\n",
              "    <tr>\n",
              "      <th>4</th>\n",
              "      <td>0.000000</td>\n",
              "    </tr>\n",
              "    <tr>\n",
              "      <th>6</th>\n",
              "      <td>0.000000</td>\n",
              "    </tr>\n",
              "  </tbody>\n",
              "</table>\n",
              "</div>\n",
              "    <div class=\"colab-df-buttons\">\n",
              "\n",
              "  <div class=\"colab-df-container\">\n",
              "    <button class=\"colab-df-convert\" onclick=\"convertToInteractive('df-8461a361-4ed4-4039-ae95-f799f3790037')\"\n",
              "            title=\"Convert this dataframe to an interactive table.\"\n",
              "            style=\"display:none;\">\n",
              "\n",
              "  <svg xmlns=\"http://www.w3.org/2000/svg\" height=\"24px\" viewBox=\"0 -960 960 960\">\n",
              "    <path d=\"M120-120v-720h720v720H120Zm60-500h600v-160H180v160Zm220 220h160v-160H400v160Zm0 220h160v-160H400v160ZM180-400h160v-160H180v160Zm440 0h160v-160H620v160ZM180-180h160v-160H180v160Zm440 0h160v-160H620v160Z\"/>\n",
              "  </svg>\n",
              "    </button>\n",
              "\n",
              "  <style>\n",
              "    .colab-df-container {\n",
              "      display:flex;\n",
              "      gap: 12px;\n",
              "    }\n",
              "\n",
              "    .colab-df-convert {\n",
              "      background-color: #E8F0FE;\n",
              "      border: none;\n",
              "      border-radius: 50%;\n",
              "      cursor: pointer;\n",
              "      display: none;\n",
              "      fill: #1967D2;\n",
              "      height: 32px;\n",
              "      padding: 0 0 0 0;\n",
              "      width: 32px;\n",
              "    }\n",
              "\n",
              "    .colab-df-convert:hover {\n",
              "      background-color: #E2EBFA;\n",
              "      box-shadow: 0px 1px 2px rgba(60, 64, 67, 0.3), 0px 1px 3px 1px rgba(60, 64, 67, 0.15);\n",
              "      fill: #174EA6;\n",
              "    }\n",
              "\n",
              "    .colab-df-buttons div {\n",
              "      margin-bottom: 4px;\n",
              "    }\n",
              "\n",
              "    [theme=dark] .colab-df-convert {\n",
              "      background-color: #3B4455;\n",
              "      fill: #D2E3FC;\n",
              "    }\n",
              "\n",
              "    [theme=dark] .colab-df-convert:hover {\n",
              "      background-color: #434B5C;\n",
              "      box-shadow: 0px 1px 3px 1px rgba(0, 0, 0, 0.15);\n",
              "      filter: drop-shadow(0px 1px 2px rgba(0, 0, 0, 0.3));\n",
              "      fill: #FFFFFF;\n",
              "    }\n",
              "  </style>\n",
              "\n",
              "    <script>\n",
              "      const buttonEl =\n",
              "        document.querySelector('#df-8461a361-4ed4-4039-ae95-f799f3790037 button.colab-df-convert');\n",
              "      buttonEl.style.display =\n",
              "        google.colab.kernel.accessAllowed ? 'block' : 'none';\n",
              "\n",
              "      async function convertToInteractive(key) {\n",
              "        const element = document.querySelector('#df-8461a361-4ed4-4039-ae95-f799f3790037');\n",
              "        const dataTable =\n",
              "          await google.colab.kernel.invokeFunction('convertToInteractive',\n",
              "                                                    [key], {});\n",
              "        if (!dataTable) return;\n",
              "\n",
              "        const docLinkHtml = 'Like what you see? Visit the ' +\n",
              "          '<a target=\"_blank\" href=https://colab.research.google.com/notebooks/data_table.ipynb>data table notebook</a>'\n",
              "          + ' to learn more about interactive tables.';\n",
              "        element.innerHTML = '';\n",
              "        dataTable['output_type'] = 'display_data';\n",
              "        await google.colab.output.renderOutput(dataTable, element);\n",
              "        const docLink = document.createElement('div');\n",
              "        docLink.innerHTML = docLinkHtml;\n",
              "        element.appendChild(docLink);\n",
              "      }\n",
              "    </script>\n",
              "  </div>\n",
              "\n",
              "\n",
              "    <div id=\"df-1aa51c5c-e467-432f-ab3c-e9b5fd449a8e\">\n",
              "      <button class=\"colab-df-quickchart\" onclick=\"quickchart('df-1aa51c5c-e467-432f-ab3c-e9b5fd449a8e')\"\n",
              "                title=\"Suggest charts\"\n",
              "                style=\"display:none;\">\n",
              "\n",
              "<svg xmlns=\"http://www.w3.org/2000/svg\" height=\"24px\"viewBox=\"0 0 24 24\"\n",
              "     width=\"24px\">\n",
              "    <g>\n",
              "        <path d=\"M19 3H5c-1.1 0-2 .9-2 2v14c0 1.1.9 2 2 2h14c1.1 0 2-.9 2-2V5c0-1.1-.9-2-2-2zM9 17H7v-7h2v7zm4 0h-2V7h2v10zm4 0h-2v-4h2v4z\"/>\n",
              "    </g>\n",
              "</svg>\n",
              "      </button>\n",
              "\n",
              "<style>\n",
              "  .colab-df-quickchart {\n",
              "      --bg-color: #E8F0FE;\n",
              "      --fill-color: #1967D2;\n",
              "      --hover-bg-color: #E2EBFA;\n",
              "      --hover-fill-color: #174EA6;\n",
              "      --disabled-fill-color: #AAA;\n",
              "      --disabled-bg-color: #DDD;\n",
              "  }\n",
              "\n",
              "  [theme=dark] .colab-df-quickchart {\n",
              "      --bg-color: #3B4455;\n",
              "      --fill-color: #D2E3FC;\n",
              "      --hover-bg-color: #434B5C;\n",
              "      --hover-fill-color: #FFFFFF;\n",
              "      --disabled-bg-color: #3B4455;\n",
              "      --disabled-fill-color: #666;\n",
              "  }\n",
              "\n",
              "  .colab-df-quickchart {\n",
              "    background-color: var(--bg-color);\n",
              "    border: none;\n",
              "    border-radius: 50%;\n",
              "    cursor: pointer;\n",
              "    display: none;\n",
              "    fill: var(--fill-color);\n",
              "    height: 32px;\n",
              "    padding: 0;\n",
              "    width: 32px;\n",
              "  }\n",
              "\n",
              "  .colab-df-quickchart:hover {\n",
              "    background-color: var(--hover-bg-color);\n",
              "    box-shadow: 0 1px 2px rgba(60, 64, 67, 0.3), 0 1px 3px 1px rgba(60, 64, 67, 0.15);\n",
              "    fill: var(--button-hover-fill-color);\n",
              "  }\n",
              "\n",
              "  .colab-df-quickchart-complete:disabled,\n",
              "  .colab-df-quickchart-complete:disabled:hover {\n",
              "    background-color: var(--disabled-bg-color);\n",
              "    fill: var(--disabled-fill-color);\n",
              "    box-shadow: none;\n",
              "  }\n",
              "\n",
              "  .colab-df-spinner {\n",
              "    border: 2px solid var(--fill-color);\n",
              "    border-color: transparent;\n",
              "    border-bottom-color: var(--fill-color);\n",
              "    animation:\n",
              "      spin 1s steps(1) infinite;\n",
              "  }\n",
              "\n",
              "  @keyframes spin {\n",
              "    0% {\n",
              "      border-color: transparent;\n",
              "      border-bottom-color: var(--fill-color);\n",
              "      border-left-color: var(--fill-color);\n",
              "    }\n",
              "    20% {\n",
              "      border-color: transparent;\n",
              "      border-left-color: var(--fill-color);\n",
              "      border-top-color: var(--fill-color);\n",
              "    }\n",
              "    30% {\n",
              "      border-color: transparent;\n",
              "      border-left-color: var(--fill-color);\n",
              "      border-top-color: var(--fill-color);\n",
              "      border-right-color: var(--fill-color);\n",
              "    }\n",
              "    40% {\n",
              "      border-color: transparent;\n",
              "      border-right-color: var(--fill-color);\n",
              "      border-top-color: var(--fill-color);\n",
              "    }\n",
              "    60% {\n",
              "      border-color: transparent;\n",
              "      border-right-color: var(--fill-color);\n",
              "    }\n",
              "    80% {\n",
              "      border-color: transparent;\n",
              "      border-right-color: var(--fill-color);\n",
              "      border-bottom-color: var(--fill-color);\n",
              "    }\n",
              "    90% {\n",
              "      border-color: transparent;\n",
              "      border-bottom-color: var(--fill-color);\n",
              "    }\n",
              "  }\n",
              "</style>\n",
              "\n",
              "      <script>\n",
              "        async function quickchart(key) {\n",
              "          const quickchartButtonEl =\n",
              "            document.querySelector('#' + key + ' button');\n",
              "          quickchartButtonEl.disabled = true;  // To prevent multiple clicks.\n",
              "          quickchartButtonEl.classList.add('colab-df-spinner');\n",
              "          try {\n",
              "            const charts = await google.colab.kernel.invokeFunction(\n",
              "                'suggestCharts', [key], {});\n",
              "          } catch (error) {\n",
              "            console.error('Error during call to suggestCharts:', error);\n",
              "          }\n",
              "          quickchartButtonEl.classList.remove('colab-df-spinner');\n",
              "          quickchartButtonEl.classList.add('colab-df-quickchart-complete');\n",
              "        }\n",
              "        (() => {\n",
              "          let quickchartButtonEl =\n",
              "            document.querySelector('#df-1aa51c5c-e467-432f-ab3c-e9b5fd449a8e button');\n",
              "          quickchartButtonEl.style.display =\n",
              "            google.colab.kernel.accessAllowed ? 'block' : 'none';\n",
              "        })();\n",
              "      </script>\n",
              "    </div>\n",
              "\n",
              "    </div>\n",
              "  </div>\n"
            ],
            "text/plain": [
              "       Survived\n",
              "Parch          \n",
              "3      0.600000\n",
              "1      0.550847\n",
              "2      0.500000\n",
              "0      0.343658\n",
              "5      0.200000\n",
              "4      0.000000\n",
              "6      0.000000"
            ]
          },
          "execution_count": 84,
          "metadata": {},
          "output_type": "execute_result"
        }
      ],
      "source": [
        "train_df[['Parch', 'Survived']].groupby('Parch').mean().sort_values(by='Survived', ascending=False)"
      ]
    },
    {
      "cell_type": "markdown",
      "metadata": {
        "id": "iPk_fTiW_xT7"
      },
      "source": [
        "SibSp and Parch can be combined into a single feature.\n",
        "Both indicate that the more family you have the lower the survival rate"
      ]
    },
    {
      "cell_type": "markdown",
      "metadata": {
        "id": "55Tv-T-A_xT7"
      },
      "source": [
        "## 7. Ticket"
      ]
    },
    {
      "cell_type": "code",
      "execution_count": null,
      "metadata": {
        "colab": {
          "base_uri": "https://localhost:8080/"
        },
        "execution": {
          "iopub.execute_input": "2025-08-03T12:21:18.208737Z",
          "iopub.status.busy": "2025-08-03T12:21:18.208463Z",
          "iopub.status.idle": "2025-08-03T12:21:18.215472Z",
          "shell.execute_reply": "2025-08-03T12:21:18.214674Z",
          "shell.execute_reply.started": "2025-08-03T12:21:18.208717Z"
        },
        "id": "38h3NiOw_xT7",
        "outputId": "58b83879-c1a0-45b3-8421-da101e0cbcb9",
        "trusted": true
      },
      "outputs": [
        {
          "data": {
            "text/plain": [
              "681"
            ]
          },
          "execution_count": 85,
          "metadata": {},
          "output_type": "execute_result"
        }
      ],
      "source": [
        "train_df[\"Ticket\"].nunique()"
      ]
    },
    {
      "cell_type": "code",
      "execution_count": null,
      "metadata": {
        "colab": {
          "base_uri": "https://localhost:8080/",
          "height": 241
        },
        "execution": {
          "iopub.execute_input": "2025-08-03T12:21:27.045859Z",
          "iopub.status.busy": "2025-08-03T12:21:27.045497Z",
          "iopub.status.idle": "2025-08-03T12:21:27.052972Z",
          "shell.execute_reply": "2025-08-03T12:21:27.052059Z",
          "shell.execute_reply.started": "2025-08-03T12:21:27.045835Z"
        },
        "id": "jYfb3iFR_xT7",
        "outputId": "558d87a2-aa58-4f9e-8b47-6cad7c0fe268",
        "trusted": true
      },
      "outputs": [
        {
          "data": {
            "text/html": [
              "<div>\n",
              "<style scoped>\n",
              "    .dataframe tbody tr th:only-of-type {\n",
              "        vertical-align: middle;\n",
              "    }\n",
              "\n",
              "    .dataframe tbody tr th {\n",
              "        vertical-align: top;\n",
              "    }\n",
              "\n",
              "    .dataframe thead th {\n",
              "        text-align: right;\n",
              "    }\n",
              "</style>\n",
              "<table border=\"1\" class=\"dataframe\">\n",
              "  <thead>\n",
              "    <tr style=\"text-align: right;\">\n",
              "      <th></th>\n",
              "      <th>Ticket</th>\n",
              "    </tr>\n",
              "  </thead>\n",
              "  <tbody>\n",
              "    <tr>\n",
              "      <th>0</th>\n",
              "      <td>A/5 21171</td>\n",
              "    </tr>\n",
              "    <tr>\n",
              "      <th>1</th>\n",
              "      <td>PC 17599</td>\n",
              "    </tr>\n",
              "    <tr>\n",
              "      <th>2</th>\n",
              "      <td>STON/O2. 3101282</td>\n",
              "    </tr>\n",
              "    <tr>\n",
              "      <th>3</th>\n",
              "      <td>113803</td>\n",
              "    </tr>\n",
              "    <tr>\n",
              "      <th>4</th>\n",
              "      <td>373450</td>\n",
              "    </tr>\n",
              "  </tbody>\n",
              "</table>\n",
              "</div><br><label><b>dtype:</b> object</label>"
            ],
            "text/plain": [
              "0           A/5 21171\n",
              "1            PC 17599\n",
              "2    STON/O2. 3101282\n",
              "3              113803\n",
              "4              373450\n",
              "Name: Ticket, dtype: object"
            ]
          },
          "execution_count": 86,
          "metadata": {},
          "output_type": "execute_result"
        }
      ],
      "source": [
        "train_df[\"Ticket\"].head()"
      ]
    },
    {
      "cell_type": "markdown",
      "metadata": {
        "id": "alUt66y__xT8"
      },
      "source": [
        "There is a total of 681 different ticket values, so it's complex to draw conclusions from this feature.\n",
        "\n",
        "There are definetly passengers sharing the same ticket.\n",
        "\n",
        "What can be done here is the find the passengers sharing the same ticket and divide the ticket fare over the group.\n",
        "\n",
        "Tickets also seem to have prefixes that can give some indication."
      ]
    },
    {
      "cell_type": "markdown",
      "metadata": {
        "id": "QdWwreUr_xT8"
      },
      "source": [
        "## 8. Fare"
      ]
    },
    {
      "cell_type": "code",
      "execution_count": null,
      "metadata": {
        "colab": {
          "base_uri": "https://localhost:8080/",
          "height": 524
        },
        "execution": {
          "iopub.execute_input": "2025-08-03T12:21:32.189834Z",
          "iopub.status.busy": "2025-08-03T12:21:32.189508Z",
          "iopub.status.idle": "2025-08-03T12:21:32.590352Z",
          "shell.execute_reply": "2025-08-03T12:21:32.589471Z",
          "shell.execute_reply.started": "2025-08-03T12:21:32.189808Z"
        },
        "id": "BPnnUotg_xT8",
        "outputId": "4970c865-7182-49cd-e06e-27ca10c47358",
        "trusted": true
      },
      "outputs": [
        {
          "data": {
            "text/plain": [
              "<seaborn.axisgrid.FacetGrid at 0x7ea1a3ea9810>"
            ]
          },
          "execution_count": 87,
          "metadata": {},
          "output_type": "execute_result"
        },
        {
          "data": {
            "image/png": "[encoded data removed]",
            "text/plain": [
              "<Figure size 500x500 with 1 Axes>"
            ]
          },
          "metadata": {},
          "output_type": "display_data"
        }
      ],
      "source": [
        "sns.displot(train_df.Fare.dropna())"
      ]
    },
    {
      "cell_type": "code",
      "execution_count": null,
      "metadata": {
        "colab": {
          "base_uri": "https://localhost:8080/",
          "height": 467
        },
        "execution": {
          "iopub.execute_input": "2025-08-03T12:22:27.127899Z",
          "iopub.status.busy": "2025-08-03T12:22:27.126902Z",
          "iopub.status.idle": "2025-08-03T12:22:27.380713Z",
          "shell.execute_reply": "2025-08-03T12:22:27.379723Z",
          "shell.execute_reply.started": "2025-08-03T12:22:27.127870Z"
        },
        "id": "VbqD6o6Y_xT8",
        "outputId": "e5a70f73-4567-4c36-911a-35070b5ee0d3",
        "trusted": true
      },
      "outputs": [
        {
          "data": {
            "text/plain": [
              "<Axes: xlabel='FareGroup', ylabel='count'>"
            ]
          },
          "execution_count": 88,
          "metadata": {},
          "output_type": "execute_result"
        },
        {
          "data": {
            "image/png": "[encoded data removed]",
            "text/plain": [
              "<Figure size 640x480 with 1 Axes>"
            ]
          },
          "metadata": {},
          "output_type": "display_data"
        }
      ],
      "source": [
        "train_df['FareGroup'] = pd.cut(train_df['Fare'], bins=range(0, 513, 50), right=False)\n",
        "sns.countplot(data=train_df, x='FareGroup', hue='Survived')"
      ]
    },
    {
      "cell_type": "markdown",
      "metadata": {
        "id": "Xtb-9nP4_xT9"
      },
      "source": [
        "Fare is a tricky feature as it is linked to the socio-economic class of the person. So it is not surprising that its impact on survival rate is less clear."
      ]
    },
    {
      "cell_type": "markdown",
      "metadata": {
        "id": "3OnclY8U_xT9"
      },
      "source": [
        "## 9. Cabin"
      ]
    },
    {
      "cell_type": "code",
      "execution_count": null,
      "metadata": {
        "colab": {
          "base_uri": "https://localhost:8080/",
          "height": 241
        },
        "execution": {
          "iopub.execute_input": "2025-08-03T12:22:53.704956Z",
          "iopub.status.busy": "2025-08-03T12:22:53.704590Z",
          "iopub.status.idle": "2025-08-03T12:22:53.711824Z",
          "shell.execute_reply": "2025-08-03T12:22:53.710995Z",
          "shell.execute_reply.started": "2025-08-03T12:22:53.704928Z"
        },
        "id": "B89E-Gr1_xT9",
        "outputId": "089a00c4-a036-4755-fbe9-ac02078c53c5",
        "trusted": true
      },
      "outputs": [
        {
          "data": {
            "text/html": [
              "<div>\n",
              "<style scoped>\n",
              "    .dataframe tbody tr th:only-of-type {\n",
              "        vertical-align: middle;\n",
              "    }\n",
              "\n",
              "    .dataframe tbody tr th {\n",
              "        vertical-align: top;\n",
              "    }\n",
              "\n",
              "    .dataframe thead th {\n",
              "        text-align: right;\n",
              "    }\n",
              "</style>\n",
              "<table border=\"1\" class=\"dataframe\">\n",
              "  <thead>\n",
              "    <tr style=\"text-align: right;\">\n",
              "      <th></th>\n",
              "      <th>Cabin</th>\n",
              "    </tr>\n",
              "  </thead>\n",
              "  <tbody>\n",
              "    <tr>\n",
              "      <th>0</th>\n",
              "      <td>NaN</td>\n",
              "    </tr>\n",
              "    <tr>\n",
              "      <th>1</th>\n",
              "      <td>C85</td>\n",
              "    </tr>\n",
              "    <tr>\n",
              "      <th>2</th>\n",
              "      <td>NaN</td>\n",
              "    </tr>\n",
              "    <tr>\n",
              "      <th>3</th>\n",
              "      <td>C123</td>\n",
              "    </tr>\n",
              "    <tr>\n",
              "      <th>4</th>\n",
              "      <td>NaN</td>\n",
              "    </tr>\n",
              "  </tbody>\n",
              "</table>\n",
              "</div><br><label><b>dtype:</b> object</label>"
            ],
            "text/plain": [
              "0     NaN\n",
              "1     C85\n",
              "2     NaN\n",
              "3    C123\n",
              "4     NaN\n",
              "Name: Cabin, dtype: object"
            ]
          },
          "execution_count": 89,
          "metadata": {},
          "output_type": "execute_result"
        }
      ],
      "source": [
        "train_df[\"Cabin\"].head()"
      ]
    },
    {
      "cell_type": "markdown",
      "metadata": {
        "id": "Q7-Y1LcA_xT-"
      },
      "source": [
        "Cabin numbers are usually are composed of a letter following by 2 or 3 digits.\n",
        "But approximately 80% of this feature is missing."
      ]
    },
    {
      "cell_type": "markdown",
      "metadata": {
        "id": "48Wr4ClW_xT-"
      },
      "source": [
        "## 10. Embarked"
      ]
    },
    {
      "cell_type": "code",
      "execution_count": null,
      "metadata": {
        "colab": {
          "base_uri": "https://localhost:8080/",
          "height": 210
        },
        "id": "TX7UdX1vc_UV",
        "outputId": "3aa96146-0f2c-4a67-fa66-ee4cb0fe0964"
      },
      "outputs": [
        {
          "data": {
            "text/html": [
              "<div>\n",
              "<style scoped>\n",
              "    .dataframe tbody tr th:only-of-type {\n",
              "        vertical-align: middle;\n",
              "    }\n",
              "\n",
              "    .dataframe tbody tr th {\n",
              "        vertical-align: top;\n",
              "    }\n",
              "\n",
              "    .dataframe thead th {\n",
              "        text-align: right;\n",
              "    }\n",
              "</style>\n",
              "<table border=\"1\" class=\"dataframe\">\n",
              "  <thead>\n",
              "    <tr style=\"text-align: right;\">\n",
              "      <th></th>\n",
              "      <th>PassengerId</th>\n",
              "    </tr>\n",
              "    <tr>\n",
              "      <th>Embarked</th>\n",
              "      <th></th>\n",
              "    </tr>\n",
              "  </thead>\n",
              "  <tbody>\n",
              "    <tr>\n",
              "      <th>C</th>\n",
              "      <td>168</td>\n",
              "    </tr>\n",
              "    <tr>\n",
              "      <th>Q</th>\n",
              "      <td>77</td>\n",
              "    </tr>\n",
              "    <tr>\n",
              "      <th>S</th>\n",
              "      <td>644</td>\n",
              "    </tr>\n",
              "  </tbody>\n",
              "</table>\n",
              "</div><br><label><b>dtype:</b> int64</label>"
            ],
            "text/plain": [
              "Embarked\n",
              "C    168\n",
              "Q     77\n",
              "S    644\n",
              "Name: PassengerId, dtype: int64"
            ]
          },
          "execution_count": 90,
          "metadata": {},
          "output_type": "execute_result"
        }
      ],
      "source": [
        "train_df.groupby('Embarked')['PassengerId'].count()  # Counts passengers per Embarked port"
      ]
    },
    {
      "cell_type": "code",
      "execution_count": null,
      "metadata": {
        "colab": {
          "base_uri": "https://localhost:8080/",
          "height": 175
        },
        "execution": {
          "iopub.execute_input": "2025-08-03T12:22:57.289259Z",
          "iopub.status.busy": "2025-08-03T12:22:57.288908Z",
          "iopub.status.idle": "2025-08-03T12:22:57.301549Z",
          "shell.execute_reply": "2025-08-03T12:22:57.300447Z",
          "shell.execute_reply.started": "2025-08-03T12:22:57.289236Z"
        },
        "id": "w5KyZpBf_xT-",
        "outputId": "cc75e189-8af7-46ae-c75e-b91811cb9eae",
        "trusted": true
      },
      "outputs": [
        {
          "data": {
            "application/vnd.google.colaboratory.intrinsic+json": {
              "summary": "{\n  \"name\": \"train_df[['Embarked', 'Survived']]\",\n  \"rows\": 3,\n  \"fields\": [\n    {\n      \"column\": \"Embarked\",\n      \"properties\": {\n        \"dtype\": \"string\",\n        \"num_unique_values\": 3,\n        \"samples\": [\n          \"C\",\n          \"Q\",\n          \"S\"\n        ],\n        \"semantic_type\": \"\",\n        \"description\": \"\"\n      }\n    },\n    {\n      \"column\": \"Survived\",\n      \"properties\": {\n        \"dtype\": \"number\",\n        \"std\": 0.11297320475888119,\n        \"min\": 0.33695652173913043,\n        \"max\": 0.5535714285714286,\n        \"num_unique_values\": 3,\n        \"samples\": [\n          0.5535714285714286,\n          0.38961038961038963,\n          0.33695652173913043\n        ],\n        \"semantic_type\": \"\",\n        \"description\": \"\"\n      }\n    }\n  ]\n}",
              "type": "dataframe"
            },
            "text/html": [
              "\n",
              "  <div id=\"df-4269538d-3cc5-4e24-8042-a26b933ef374\" class=\"colab-df-container\">\n",
              "    <div>\n",
              "<style scoped>\n",
              "    .dataframe tbody tr th:only-of-type {\n",
              "        vertical-align: middle;\n",
              "    }\n",
              "\n",
              "    .dataframe tbody tr th {\n",
              "        vertical-align: top;\n",
              "    }\n",
              "\n",
              "    .dataframe thead th {\n",
              "        text-align: right;\n",
              "    }\n",
              "</style>\n",
              "<table border=\"1\" class=\"dataframe\">\n",
              "  <thead>\n",
              "    <tr style=\"text-align: right;\">\n",
              "      <th></th>\n",
              "      <th>Survived</th>\n",
              "    </tr>\n",
              "    <tr>\n",
              "      <th>Embarked</th>\n",
              "      <th></th>\n",
              "    </tr>\n",
              "  </thead>\n",
              "  <tbody>\n",
              "    <tr>\n",
              "      <th>C</th>\n",
              "      <td>0.553571</td>\n",
              "    </tr>\n",
              "    <tr>\n",
              "      <th>Q</th>\n",
              "      <td>0.389610</td>\n",
              "    </tr>\n",
              "    <tr>\n",
              "      <th>S</th>\n",
              "      <td>0.336957</td>\n",
              "    </tr>\n",
              "  </tbody>\n",
              "</table>\n",
              "</div>\n",
              "    <div class=\"colab-df-buttons\">\n",
              "\n",
              "  <div class=\"colab-df-container\">\n",
              "    <button class=\"colab-df-convert\" onclick=\"convertToInteractive('df-4269538d-3cc5-4e24-8042-a26b933ef374')\"\n",
              "            title=\"Convert this dataframe to an interactive table.\"\n",
              "            style=\"display:none;\">\n",
              "\n",
              "  <svg xmlns=\"http://www.w3.org/2000/svg\" height=\"24px\" viewBox=\"0 -960 960 960\">\n",
              "    <path d=\"M120-120v-720h720v720H120Zm60-500h600v-160H180v160Zm220 220h160v-160H400v160Zm0 220h160v-160H400v160ZM180-400h160v-160H180v160Zm440 0h160v-160H620v160ZM180-180h160v-160H180v160Zm440 0h160v-160H620v160Z\"/>\n",
              "  </svg>\n",
              "    </button>\n",
              "\n",
              "  <style>\n",
              "    .colab-df-container {\n",
              "      display:flex;\n",
              "      gap: 12px;\n",
              "    }\n",
              "\n",
              "    .colab-df-convert {\n",
              "      background-color: #E8F0FE;\n",
              "      border: none;\n",
              "      border-radius: 50%;\n",
              "      cursor: pointer;\n",
              "      display: none;\n",
              "      fill: #1967D2;\n",
              "      height: 32px;\n",
              "      padding: 0 0 0 0;\n",
              "      width: 32px;\n",
              "    }\n",
              "\n",
              "    .colab-df-convert:hover {\n",
              "      background-color: #E2EBFA;\n",
              "      box-shadow: 0px 1px 2px rgba(60, 64, 67, 0.3), 0px 1px 3px 1px rgba(60, 64, 67, 0.15);\n",
              "      fill: #174EA6;\n",
              "    }\n",
              "\n",
              "    .colab-df-buttons div {\n",
              "      margin-bottom: 4px;\n",
              "    }\n",
              "\n",
              "    [theme=dark] .colab-df-convert {\n",
              "      background-color: #3B4455;\n",
              "      fill: #D2E3FC;\n",
              "    }\n",
              "\n",
              "    [theme=dark] .colab-df-convert:hover {\n",
              "      background-color: #434B5C;\n",
              "      box-shadow: 0px 1px 3px 1px rgba(0, 0, 0, 0.15);\n",
              "      filter: drop-shadow(0px 1px 2px rgba(0, 0, 0, 0.3));\n",
              "      fill: #FFFFFF;\n",
              "    }\n",
              "  </style>\n",
              "\n",
              "    <script>\n",
              "      const buttonEl =\n",
              "        document.querySelector('#df-4269538d-3cc5-4e24-8042-a26b933ef374 button.colab-df-convert');\n",
              "      buttonEl.style.display =\n",
              "        google.colab.kernel.accessAllowed ? 'block' : 'none';\n",
              "\n",
              "      async function convertToInteractive(key) {\n",
              "        const element = document.querySelector('#df-4269538d-3cc5-4e24-8042-a26b933ef374');\n",
              "        const dataTable =\n",
              "          await google.colab.kernel.invokeFunction('convertToInteractive',\n",
              "                                                    [key], {});\n",
              "        if (!dataTable) return;\n",
              "\n",
              "        const docLinkHtml = 'Like what you see? Visit the ' +\n",
              "          '<a target=\"_blank\" href=https://colab.research.google.com/notebooks/data_table.ipynb>data table notebook</a>'\n",
              "          + ' to learn more about interactive tables.';\n",
              "        element.innerHTML = '';\n",
              "        dataTable['output_type'] = 'display_data';\n",
              "        await google.colab.output.renderOutput(dataTable, element);\n",
              "        const docLink = document.createElement('div');\n",
              "        docLink.innerHTML = docLinkHtml;\n",
              "        element.appendChild(docLink);\n",
              "      }\n",
              "    </script>\n",
              "  </div>\n",
              "\n",
              "\n",
              "    <div id=\"df-ee252b75-99f3-4908-92e8-b21559556363\">\n",
              "      <button class=\"colab-df-quickchart\" onclick=\"quickchart('df-ee252b75-99f3-4908-92e8-b21559556363')\"\n",
              "                title=\"Suggest charts\"\n",
              "                style=\"display:none;\">\n",
              "\n",
              "<svg xmlns=\"http://www.w3.org/2000/svg\" height=\"24px\"viewBox=\"0 0 24 24\"\n",
              "     width=\"24px\">\n",
              "    <g>\n",
              "        <path d=\"M19 3H5c-1.1 0-2 .9-2 2v14c0 1.1.9 2 2 2h14c1.1 0 2-.9 2-2V5c0-1.1-.9-2-2-2zM9 17H7v-7h2v7zm4 0h-2V7h2v10zm4 0h-2v-4h2v4z\"/>\n",
              "    </g>\n",
              "</svg>\n",
              "      </button>\n",
              "\n",
              "<style>\n",
              "  .colab-df-quickchart {\n",
              "      --bg-color: #E8F0FE;\n",
              "      --fill-color: #1967D2;\n",
              "      --hover-bg-color: #E2EBFA;\n",
              "      --hover-fill-color: #174EA6;\n",
              "      --disabled-fill-color: #AAA;\n",
              "      --disabled-bg-color: #DDD;\n",
              "  }\n",
              "\n",
              "  [theme=dark] .colab-df-quickchart {\n",
              "      --bg-color: #3B4455;\n",
              "      --fill-color: #D2E3FC;\n",
              "      --hover-bg-color: #434B5C;\n",
              "      --hover-fill-color: #FFFFFF;\n",
              "      --disabled-bg-color: #3B4455;\n",
              "      --disabled-fill-color: #666;\n",
              "  }\n",
              "\n",
              "  .colab-df-quickchart {\n",
              "    background-color: var(--bg-color);\n",
              "    border: none;\n",
              "    border-radius: 50%;\n",
              "    cursor: pointer;\n",
              "    display: none;\n",
              "    fill: var(--fill-color);\n",
              "    height: 32px;\n",
              "    padding: 0;\n",
              "    width: 32px;\n",
              "  }\n",
              "\n",
              "  .colab-df-quickchart:hover {\n",
              "    background-color: var(--hover-bg-color);\n",
              "    box-shadow: 0 1px 2px rgba(60, 64, 67, 0.3), 0 1px 3px 1px rgba(60, 64, 67, 0.15);\n",
              "    fill: var(--button-hover-fill-color);\n",
              "  }\n",
              "\n",
              "  .colab-df-quickchart-complete:disabled,\n",
              "  .colab-df-quickchart-complete:disabled:hover {\n",
              "    background-color: var(--disabled-bg-color);\n",
              "    fill: var(--disabled-fill-color);\n",
              "    box-shadow: none;\n",
              "  }\n",
              "\n",
              "  .colab-df-spinner {\n",
              "    border: 2px solid var(--fill-color);\n",
              "    border-color: transparent;\n",
              "    border-bottom-color: var(--fill-color);\n",
              "    animation:\n",
              "      spin 1s steps(1) infinite;\n",
              "  }\n",
              "\n",
              "  @keyframes spin {\n",
              "    0% {\n",
              "      border-color: transparent;\n",
              "      border-bottom-color: var(--fill-color);\n",
              "      border-left-color: var(--fill-color);\n",
              "    }\n",
              "    20% {\n",
              "      border-color: transparent;\n",
              "      border-left-color: var(--fill-color);\n",
              "      border-top-color: var(--fill-color);\n",
              "    }\n",
              "    30% {\n",
              "      border-color: transparent;\n",
              "      border-left-color: var(--fill-color);\n",
              "      border-top-color: var(--fill-color);\n",
              "      border-right-color: var(--fill-color);\n",
              "    }\n",
              "    40% {\n",
              "      border-color: transparent;\n",
              "      border-right-color: var(--fill-color);\n",
              "      border-top-color: var(--fill-color);\n",
              "    }\n",
              "    60% {\n",
              "      border-color: transparent;\n",
              "      border-right-color: var(--fill-color);\n",
              "    }\n",
              "    80% {\n",
              "      border-color: transparent;\n",
              "      border-right-color: var(--fill-color);\n",
              "      border-bottom-color: var(--fill-color);\n",
              "    }\n",
              "    90% {\n",
              "      border-color: transparent;\n",
              "      border-bottom-color: var(--fill-color);\n",
              "    }\n",
              "  }\n",
              "</style>\n",
              "\n",
              "      <script>\n",
              "        async function quickchart(key) {\n",
              "          const quickchartButtonEl =\n",
              "            document.querySelector('#' + key + ' button');\n",
              "          quickchartButtonEl.disabled = true;  // To prevent multiple clicks.\n",
              "          quickchartButtonEl.classList.add('colab-df-spinner');\n",
              "          try {\n",
              "            const charts = await google.colab.kernel.invokeFunction(\n",
              "                'suggestCharts', [key], {});\n",
              "          } catch (error) {\n",
              "            console.error('Error during call to suggestCharts:', error);\n",
              "          }\n",
              "          quickchartButtonEl.classList.remove('colab-df-spinner');\n",
              "          quickchartButtonEl.classList.add('colab-df-quickchart-complete');\n",
              "        }\n",
              "        (() => {\n",
              "          let quickchartButtonEl =\n",
              "            document.querySelector('#df-ee252b75-99f3-4908-92e8-b21559556363 button');\n",
              "          quickchartButtonEl.style.display =\n",
              "            google.colab.kernel.accessAllowed ? 'block' : 'none';\n",
              "        })();\n",
              "      </script>\n",
              "    </div>\n",
              "\n",
              "    </div>\n",
              "  </div>\n"
            ],
            "text/plain": [
              "          Survived\n",
              "Embarked          \n",
              "C         0.553571\n",
              "Q         0.389610\n",
              "S         0.336957"
            ]
          },
          "execution_count": 91,
          "metadata": {},
          "output_type": "execute_result"
        }
      ],
      "source": [
        "train_df[['Embarked', 'Survived']].groupby('Embarked').mean().sort_values(by='Survived', ascending=False)"
      ]
    },
    {
      "cell_type": "code",
      "execution_count": null,
      "metadata": {
        "colab": {
          "base_uri": "https://localhost:8080/",
          "height": 210
        },
        "execution": {
          "iopub.execute_input": "2025-08-03T12:23:00.828056Z",
          "iopub.status.busy": "2025-08-03T12:23:00.827695Z",
          "iopub.status.idle": "2025-08-03T12:23:00.838149Z",
          "shell.execute_reply": "2025-08-03T12:23:00.837084Z",
          "shell.execute_reply.started": "2025-08-03T12:23:00.827984Z"
        },
        "id": "fOA7TLZG_xT_",
        "outputId": "4dd32648-4ff4-4d6f-9ca0-26ff8b3c1092",
        "trusted": true
      },
      "outputs": [
        {
          "data": {
            "text/html": [
              "<div>\n",
              "<style scoped>\n",
              "    .dataframe tbody tr th:only-of-type {\n",
              "        vertical-align: middle;\n",
              "    }\n",
              "\n",
              "    .dataframe tbody tr th {\n",
              "        vertical-align: top;\n",
              "    }\n",
              "\n",
              "    .dataframe thead th {\n",
              "        text-align: right;\n",
              "    }\n",
              "</style>\n",
              "<table border=\"1\" class=\"dataframe\">\n",
              "  <thead>\n",
              "    <tr style=\"text-align: right;\">\n",
              "      <th></th>\n",
              "      <th>Sex</th>\n",
              "    </tr>\n",
              "    <tr>\n",
              "      <th>Embarked</th>\n",
              "      <th></th>\n",
              "    </tr>\n",
              "  </thead>\n",
              "  <tbody>\n",
              "    <tr>\n",
              "      <th>S</th>\n",
              "      <td>0.684783</td>\n",
              "    </tr>\n",
              "    <tr>\n",
              "      <th>C</th>\n",
              "      <td>0.565476</td>\n",
              "    </tr>\n",
              "    <tr>\n",
              "      <th>Q</th>\n",
              "      <td>0.532468</td>\n",
              "    </tr>\n",
              "  </tbody>\n",
              "</table>\n",
              "</div><br><label><b>dtype:</b> float64</label>"
            ],
            "text/plain": [
              "Embarked\n",
              "S    0.684783\n",
              "C    0.565476\n",
              "Q    0.532468\n",
              "Name: Sex, dtype: float64"
            ]
          },
          "execution_count": 92,
          "metadata": {},
          "output_type": "execute_result"
        }
      ],
      "source": [
        "train_df.groupby('Embarked')['Sex'].apply(lambda x: (x == 'male').mean()).sort_values(ascending=False)"
      ]
    },
    {
      "cell_type": "code",
      "execution_count": null,
      "metadata": {
        "colab": {
          "base_uri": "https://localhost:8080/",
          "height": 175
        },
        "execution": {
          "iopub.execute_input": "2025-08-03T12:23:03.118568Z",
          "iopub.status.busy": "2025-08-03T12:23:03.117851Z",
          "iopub.status.idle": "2025-08-03T12:23:03.128933Z",
          "shell.execute_reply": "2025-08-03T12:23:03.127964Z",
          "shell.execute_reply.started": "2025-08-03T12:23:03.118542Z"
        },
        "id": "URbij7I3_xT_",
        "outputId": "75bbe281-404b-4182-b042-72c117934c61",
        "trusted": true
      },
      "outputs": [
        {
          "data": {
            "application/vnd.google.colaboratory.intrinsic+json": {
              "summary": "{\n  \"name\": \"train_df[['Embarked', 'Pclass']]\",\n  \"rows\": 3,\n  \"fields\": [\n    {\n      \"column\": \"Embarked\",\n      \"properties\": {\n        \"dtype\": \"string\",\n        \"num_unique_values\": 3,\n        \"samples\": [\n          \"Q\",\n          \"S\",\n          \"C\"\n        ],\n        \"semantic_type\": \"\",\n        \"description\": \"\"\n      }\n    },\n    {\n      \"column\": \"Pclass\",\n      \"properties\": {\n        \"dtype\": \"number\",\n        \"std\": 0.5118149447142116,\n        \"min\": 1.8869047619047619,\n        \"max\": 2.909090909090909,\n        \"num_unique_values\": 3,\n        \"samples\": [\n          2.909090909090909,\n          2.3509316770186337,\n          1.8869047619047619\n        ],\n        \"semantic_type\": \"\",\n        \"description\": \"\"\n      }\n    }\n  ]\n}",
              "type": "dataframe"
            },
            "text/html": [
              "\n",
              "  <div id=\"df-bc6f69d5-e0e2-4e3c-add4-2935c202bcd2\" class=\"colab-df-container\">\n",
              "    <div>\n",
              "<style scoped>\n",
              "    .dataframe tbody tr th:only-of-type {\n",
              "        vertical-align: middle;\n",
              "    }\n",
              "\n",
              "    .dataframe tbody tr th {\n",
              "        vertical-align: top;\n",
              "    }\n",
              "\n",
              "    .dataframe thead th {\n",
              "        text-align: right;\n",
              "    }\n",
              "</style>\n",
              "<table border=\"1\" class=\"dataframe\">\n",
              "  <thead>\n",
              "    <tr style=\"text-align: right;\">\n",
              "      <th></th>\n",
              "      <th>Pclass</th>\n",
              "    </tr>\n",
              "    <tr>\n",
              "      <th>Embarked</th>\n",
              "      <th></th>\n",
              "    </tr>\n",
              "  </thead>\n",
              "  <tbody>\n",
              "    <tr>\n",
              "      <th>Q</th>\n",
              "      <td>2.909091</td>\n",
              "    </tr>\n",
              "    <tr>\n",
              "      <th>S</th>\n",
              "      <td>2.350932</td>\n",
              "    </tr>\n",
              "    <tr>\n",
              "      <th>C</th>\n",
              "      <td>1.886905</td>\n",
              "    </tr>\n",
              "  </tbody>\n",
              "</table>\n",
              "</div>\n",
              "    <div class=\"colab-df-buttons\">\n",
              "\n",
              "  <div class=\"colab-df-container\">\n",
              "    <button class=\"colab-df-convert\" onclick=\"convertToInteractive('df-bc6f69d5-e0e2-4e3c-add4-2935c202bcd2')\"\n",
              "            title=\"Convert this dataframe to an interactive table.\"\n",
              "            style=\"display:none;\">\n",
              "\n",
              "  <svg xmlns=\"http://www.w3.org/2000/svg\" height=\"24px\" viewBox=\"0 -960 960 960\">\n",
              "    <path d=\"M120-120v-720h720v720H120Zm60-500h600v-160H180v160Zm220 220h160v-160H400v160Zm0 220h160v-160H400v160ZM180-400h160v-160H180v160Zm440 0h160v-160H620v160ZM180-180h160v-160H180v160Zm440 0h160v-160H620v160Z\"/>\n",
              "  </svg>\n",
              "    </button>\n",
              "\n",
              "  <style>\n",
              "    .colab-df-container {\n",
              "      display:flex;\n",
              "      gap: 12px;\n",
              "    }\n",
              "\n",
              "    .colab-df-convert {\n",
              "      background-color: #E8F0FE;\n",
              "      border: none;\n",
              "      border-radius: 50%;\n",
              "      cursor: pointer;\n",
              "      display: none;\n",
              "      fill: #1967D2;\n",
              "      height: 32px;\n",
              "      padding: 0 0 0 0;\n",
              "      width: 32px;\n",
              "    }\n",
              "\n",
              "    .colab-df-convert:hover {\n",
              "      background-color: #E2EBFA;\n",
              "      box-shadow: 0px 1px 2px rgba(60, 64, 67, 0.3), 0px 1px 3px 1px rgba(60, 64, 67, 0.15);\n",
              "      fill: #174EA6;\n",
              "    }\n",
              "\n",
              "    .colab-df-buttons div {\n",
              "      margin-bottom: 4px;\n",
              "    }\n",
              "\n",
              "    [theme=dark] .colab-df-convert {\n",
              "      background-color: #3B4455;\n",
              "      fill: #D2E3FC;\n",
              "    }\n",
              "\n",
              "    [theme=dark] .colab-df-convert:hover {\n",
              "      background-color: #434B5C;\n",
              "      box-shadow: 0px 1px 3px 1px rgba(0, 0, 0, 0.15);\n",
              "      filter: drop-shadow(0px 1px 2px rgba(0, 0, 0, 0.3));\n",
              "      fill: #FFFFFF;\n",
              "    }\n",
              "  </style>\n",
              "\n",
              "    <script>\n",
              "      const buttonEl =\n",
              "        document.querySelector('#df-bc6f69d5-e0e2-4e3c-add4-2935c202bcd2 button.colab-df-convert');\n",
              "      buttonEl.style.display =\n",
              "        google.colab.kernel.accessAllowed ? 'block' : 'none';\n",
              "\n",
              "      async function convertToInteractive(key) {\n",
              "        const element = document.querySelector('#df-bc6f69d5-e0e2-4e3c-add4-2935c202bcd2');\n",
              "        const dataTable =\n",
              "          await google.colab.kernel.invokeFunction('convertToInteractive',\n",
              "                                                    [key], {});\n",
              "        if (!dataTable) return;\n",
              "\n",
              "        const docLinkHtml = 'Like what you see? Visit the ' +\n",
              "          '<a target=\"_blank\" href=https://colab.research.google.com/notebooks/data_table.ipynb>data table notebook</a>'\n",
              "          + ' to learn more about interactive tables.';\n",
              "        element.innerHTML = '';\n",
              "        dataTable['output_type'] = 'display_data';\n",
              "        await google.colab.output.renderOutput(dataTable, element);\n",
              "        const docLink = document.createElement('div');\n",
              "        docLink.innerHTML = docLinkHtml;\n",
              "        element.appendChild(docLink);\n",
              "      }\n",
              "    </script>\n",
              "  </div>\n",
              "\n",
              "\n",
              "    <div id=\"df-3f6f2085-778f-41dc-bdd0-606dc320b3eb\">\n",
              "      <button class=\"colab-df-quickchart\" onclick=\"quickchart('df-3f6f2085-778f-41dc-bdd0-606dc320b3eb')\"\n",
              "                title=\"Suggest charts\"\n",
              "                style=\"display:none;\">\n",
              "\n",
              "<svg xmlns=\"http://www.w3.org/2000/svg\" height=\"24px\"viewBox=\"0 0 24 24\"\n",
              "     width=\"24px\">\n",
              "    <g>\n",
              "        <path d=\"M19 3H5c-1.1 0-2 .9-2 2v14c0 1.1.9 2 2 2h14c1.1 0 2-.9 2-2V5c0-1.1-.9-2-2-2zM9 17H7v-7h2v7zm4 0h-2V7h2v10zm4 0h-2v-4h2v4z\"/>\n",
              "    </g>\n",
              "</svg>\n",
              "      </button>\n",
              "\n",
              "<style>\n",
              "  .colab-df-quickchart {\n",
              "      --bg-color: #E8F0FE;\n",
              "      --fill-color: #1967D2;\n",
              "      --hover-bg-color: #E2EBFA;\n",
              "      --hover-fill-color: #174EA6;\n",
              "      --disabled-fill-color: #AAA;\n",
              "      --disabled-bg-color: #DDD;\n",
              "  }\n",
              "\n",
              "  [theme=dark] .colab-df-quickchart {\n",
              "      --bg-color: #3B4455;\n",
              "      --fill-color: #D2E3FC;\n",
              "      --hover-bg-color: #434B5C;\n",
              "      --hover-fill-color: #FFFFFF;\n",
              "      --disabled-bg-color: #3B4455;\n",
              "      --disabled-fill-color: #666;\n",
              "  }\n",
              "\n",
              "  .colab-df-quickchart {\n",
              "    background-color: var(--bg-color);\n",
              "    border: none;\n",
              "    border-radius: 50%;\n",
              "    cursor: pointer;\n",
              "    display: none;\n",
              "    fill: var(--fill-color);\n",
              "    height: 32px;\n",
              "    padding: 0;\n",
              "    width: 32px;\n",
              "  }\n",
              "\n",
              "  .colab-df-quickchart:hover {\n",
              "    background-color: var(--hover-bg-color);\n",
              "    box-shadow: 0 1px 2px rgba(60, 64, 67, 0.3), 0 1px 3px 1px rgba(60, 64, 67, 0.15);\n",
              "    fill: var(--button-hover-fill-color);\n",
              "  }\n",
              "\n",
              "  .colab-df-quickchart-complete:disabled,\n",
              "  .colab-df-quickchart-complete:disabled:hover {\n",
              "    background-color: var(--disabled-bg-color);\n",
              "    fill: var(--disabled-fill-color);\n",
              "    box-shadow: none;\n",
              "  }\n",
              "\n",
              "  .colab-df-spinner {\n",
              "    border: 2px solid var(--fill-color);\n",
              "    border-color: transparent;\n",
              "    border-bottom-color: var(--fill-color);\n",
              "    animation:\n",
              "      spin 1s steps(1) infinite;\n",
              "  }\n",
              "\n",
              "  @keyframes spin {\n",
              "    0% {\n",
              "      border-color: transparent;\n",
              "      border-bottom-color: var(--fill-color);\n",
              "      border-left-color: var(--fill-color);\n",
              "    }\n",
              "    20% {\n",
              "      border-color: transparent;\n",
              "      border-left-color: var(--fill-color);\n",
              "      border-top-color: var(--fill-color);\n",
              "    }\n",
              "    30% {\n",
              "      border-color: transparent;\n",
              "      border-left-color: var(--fill-color);\n",
              "      border-top-color: var(--fill-color);\n",
              "      border-right-color: var(--fill-color);\n",
              "    }\n",
              "    40% {\n",
              "      border-color: transparent;\n",
              "      border-right-color: var(--fill-color);\n",
              "      border-top-color: var(--fill-color);\n",
              "    }\n",
              "    60% {\n",
              "      border-color: transparent;\n",
              "      border-right-color: var(--fill-color);\n",
              "    }\n",
              "    80% {\n",
              "      border-color: transparent;\n",
              "      border-right-color: var(--fill-color);\n",
              "      border-bottom-color: var(--fill-color);\n",
              "    }\n",
              "    90% {\n",
              "      border-color: transparent;\n",
              "      border-bottom-color: var(--fill-color);\n",
              "    }\n",
              "  }\n",
              "</style>\n",
              "\n",
              "      <script>\n",
              "        async function quickchart(key) {\n",
              "          const quickchartButtonEl =\n",
              "            document.querySelector('#' + key + ' button');\n",
              "          quickchartButtonEl.disabled = true;  // To prevent multiple clicks.\n",
              "          quickchartButtonEl.classList.add('colab-df-spinner');\n",
              "          try {\n",
              "            const charts = await google.colab.kernel.invokeFunction(\n",
              "                'suggestCharts', [key], {});\n",
              "          } catch (error) {\n",
              "            console.error('Error during call to suggestCharts:', error);\n",
              "          }\n",
              "          quickchartButtonEl.classList.remove('colab-df-spinner');\n",
              "          quickchartButtonEl.classList.add('colab-df-quickchart-complete');\n",
              "        }\n",
              "        (() => {\n",
              "          let quickchartButtonEl =\n",
              "            document.querySelector('#df-3f6f2085-778f-41dc-bdd0-606dc320b3eb button');\n",
              "          quickchartButtonEl.style.display =\n",
              "            google.colab.kernel.accessAllowed ? 'block' : 'none';\n",
              "        })();\n",
              "      </script>\n",
              "    </div>\n",
              "\n",
              "    </div>\n",
              "  </div>\n"
            ],
            "text/plain": [
              "            Pclass\n",
              "Embarked          \n",
              "Q         2.909091\n",
              "S         2.350932\n",
              "C         1.886905"
            ]
          },
          "execution_count": 93,
          "metadata": {},
          "output_type": "execute_result"
        }
      ],
      "source": [
        "train_df[['Embarked', 'Pclass']].groupby('Embarked').mean().sort_values(by='Pclass', ascending=False)"
      ]
    },
    {
      "cell_type": "markdown",
      "metadata": {
        "id": "eKZHEZW__xUA"
      },
      "source": [
        "To be engineered."
      ]
    },
    {
      "cell_type": "markdown",
      "metadata": {
        "id": "AlgN0zQC_xUA"
      },
      "source": [
        "# Feature Engineering"
      ]
    },
    {
      "cell_type": "markdown",
      "metadata": {
        "id": "t4Krlem-_xUA"
      },
      "source": [
        "It's time for some modifications into our datasets to extract meaningful features for predictions.\n",
        "\n",
        "Also, I need to separate this set into train and val subsets to check model accuracy."
      ]
    },
    {
      "cell_type": "code",
      "execution_count": null,
      "metadata": {
        "execution": {
          "iopub.execute_input": "2025-08-03T12:23:13.194248Z",
          "iopub.status.busy": "2025-08-03T12:23:13.193929Z",
          "iopub.status.idle": "2025-08-03T12:23:13.199810Z",
          "shell.execute_reply": "2025-08-03T12:23:13.198471Z",
          "shell.execute_reply.started": "2025-08-03T12:23:13.194226Z"
        },
        "id": "CenkeXCW_xUA",
        "trusted": true
      },
      "outputs": [],
      "source": [
        "preprocessed_train = pd.DataFrame()"
      ]
    },
    {
      "cell_type": "markdown",
      "metadata": {
        "id": "0KvCnou2_xUA"
      },
      "source": [
        "## 1. Type Casting\n",
        "I start by type casting the necessary columns."
      ]
    },
    {
      "cell_type": "code",
      "execution_count": null,
      "metadata": {
        "execution": {
          "iopub.execute_input": "2025-08-03T12:24:29.243761Z",
          "iopub.status.busy": "2025-08-03T12:24:29.243453Z",
          "iopub.status.idle": "2025-08-03T12:24:29.261258Z",
          "shell.execute_reply": "2025-08-03T12:24:29.260202Z",
          "shell.execute_reply.started": "2025-08-03T12:24:29.243737Z"
        },
        "id": "n4c6gK-c_xUA",
        "trusted": true
      },
      "outputs": [],
      "source": [
        "preprocessed_train[\"Survived\"] = train_df[\"Survived\"].astype('category')\n",
        "preprocessed_train[\"Pclass\"]   = train_df[\"Pclass\"].map(mapping_pclass).astype('category')\n",
        "preprocessed_train[\"Sex\"]      = train_df[\"Sex\"].astype('category')\n",
        "preprocessed_train[\"Age\"]      = train_df[\"Age\"]\n",
        "preprocessed_train[\"Ticket\"]   = train_df[\"Ticket\"].astype('category')\n",
        "preprocessed_train[\"Fare\"]     = train_df[\"Fare\"]\n",
        "preprocessed_train[\"Cabin\"]    = train_df[\"Cabin\"].fillna(\"Unknown\").astype('category')\n",
        "preprocessed_train[\"Embarked\"] = train_df[\"Embarked\"].astype('category')"
      ]
    },
    {
      "cell_type": "markdown",
      "metadata": {
        "id": "5n9qRimd_xUB"
      },
      "source": [
        "## 2. Extract Title, and group them\n",
        "\n",
        "Notice that in the name column we have:\n",
        "* First name.\n",
        "* Title.\n",
        "* Family Name.\n",
        "* Maiden name when applicable.\n",
        "\n",
        "Using regular expressions, we can separate the bundled data and add new columns."
      ]
    },
    {
      "cell_type": "code",
      "execution_count": null,
      "metadata": {
        "colab": {
          "base_uri": "https://localhost:8080/"
        },
        "execution": {
          "iopub.execute_input": "2025-08-03T12:24:50.124303Z",
          "iopub.status.busy": "2025-08-03T12:24:50.122883Z",
          "iopub.status.idle": "2025-08-03T12:24:50.133594Z",
          "shell.execute_reply": "2025-08-03T12:24:50.132563Z",
          "shell.execute_reply.started": "2025-08-03T12:24:50.124268Z"
        },
        "id": "0S0m0d6D_xUB",
        "outputId": "1cb95977-63c0-49f4-cdb2-2c4364695be9",
        "trusted": true
      },
      "outputs": [
        {
          "name": "stdout",
          "output_type": "stream",
          "text": [
            "['Mr', 'Mrs', 'Miss', 'Master', 'Don', 'Rev', 'Dr', 'Mme', 'Ms', 'Major', 'Lady', 'Sir', 'Mlle', 'Col', 'Capt', 'the Countess', 'Jonkheer']\n"
          ]
        }
      ],
      "source": [
        "import re\n",
        "def extract_titles(name):\n",
        "    title_search = re.search(r',\\s*([^\\.]*)\\.', name)\n",
        "    if title_search:\n",
        "        return title_search.group(1).strip()\n",
        "    return \"\"\n",
        "\n",
        "preprocessed_train[\"Title\"] = train_df[\"Name\"].apply(extract_titles).astype('category')\n",
        "print(preprocessed_train[\"Title\"].unique().tolist())"
      ]
    },
    {
      "cell_type": "markdown",
      "metadata": {
        "id": "JibHGqZPUm8K"
      },
      "source": []
    },
    {
      "cell_type": "code",
      "execution_count": null,
      "metadata": {
        "colab": {
          "base_uri": "https://localhost:8080/",
          "height": 487
        },
        "execution": {
          "iopub.execute_input": "2025-08-03T12:36:27.714028Z",
          "iopub.status.busy": "2025-08-03T12:36:27.713722Z",
          "iopub.status.idle": "2025-08-03T12:36:28.022645Z",
          "shell.execute_reply": "2025-08-03T12:36:28.021841Z",
          "shell.execute_reply.started": "2025-08-03T12:36:27.713986Z"
        },
        "id": "FO7EeA9__xUC",
        "outputId": "a4702b69-0461-4e55-c2aa-57abf3b06892",
        "trusted": true
      },
      "outputs": [
        {
          "data": {
            "image/png": "[encoded data removed]",
            "text/plain": [
              "<Figure size 640x480 with 1 Axes>"
            ]
          },
          "metadata": {},
          "output_type": "display_data"
        }
      ],
      "source": [
        "sns.countplot(data=preprocessed_train, x='Title', hue='Survived')\n",
        "plt.xticks(rotation=90)\n",
        "plt.tight_layout()"
      ]
    },
    {
      "cell_type": "code",
      "execution_count": null,
      "metadata": {
        "colab": {
          "base_uri": "https://localhost:8080/"
        },
        "execution": {
          "iopub.execute_input": "2025-08-03T12:24:55.932293Z",
          "iopub.status.busy": "2025-08-03T12:24:55.931817Z",
          "iopub.status.idle": "2025-08-03T12:24:55.945666Z",
          "shell.execute_reply": "2025-08-03T12:24:55.944468Z",
          "shell.execute_reply.started": "2025-08-03T12:24:55.932261Z"
        },
        "id": "1f7H_KSO_xUC",
        "outputId": "fb7caff8-469d-447a-ffbe-0a6c548949bf",
        "trusted": true
      },
      "outputs": [
        {
          "name": "stdout",
          "output_type": "stream",
          "text": [
            "['Mr', 'Mrs', 'Ms', 'Noble', 'Clergy', 'Officer']\n"
          ]
        }
      ],
      "source": [
        "def group_titles(title):\n",
        "    title = title.lower()\n",
        "    if title in [\"mrs\", \"mme\"]:\n",
        "        return \"Mrs\"\n",
        "    elif title in [\"miss\", \"ms\", \"mlle\"]:\n",
        "        return \"Ms\"\n",
        "    elif title in [\"master\", \"don\", \"lady\", \"sir\", \"jonkheer\", \"donna\", \"the countess\"]:\n",
        "        return \"Noble\"\n",
        "    elif title in [\"col\", \"capt\", \"dr\", \"major\"]:\n",
        "        return \"Officer\"\n",
        "    elif title in [\"rev\"]:\n",
        "        return \"Clergy\"\n",
        "    else:\n",
        "        return title.capitalize()\n",
        "\n",
        "preprocessed_train[\"Grouped_title\"] = preprocessed_train[\"Title\"].apply(group_titles).astype('category')\n",
        "print(preprocessed_train[\"Grouped_title\"].unique().tolist())"
      ]
    },
    {
      "cell_type": "code",
      "execution_count": null,
      "metadata": {
        "colab": {
          "base_uri": "https://localhost:8080/"
        },
        "execution": {
          "iopub.execute_input": "2025-08-03T12:27:17.273131Z",
          "iopub.status.busy": "2025-08-03T12:27:17.272760Z",
          "iopub.status.idle": "2025-08-03T12:27:17.326849Z",
          "shell.execute_reply": "2025-08-03T12:27:17.325814Z",
          "shell.execute_reply.started": "2025-08-03T12:27:17.273105Z"
        },
        "id": "E-ox0-1G_xUC",
        "outputId": "8370ee44-1cfe-4979-aeb7-ddb406db9f69",
        "trusted": true
      },
      "outputs": [
        {
          "name": "stdout",
          "output_type": "stream",
          "text": [
            "Sex     Grouped_title\n",
            "female  Clergy             0\n",
            "        Mr                 0\n",
            "        Mrs              126\n",
            "        Ms               185\n",
            "        Noble              2\n",
            "        Officer            1\n",
            "male    Clergy             6\n",
            "        Mr               517\n",
            "        Mrs                0\n",
            "        Ms                 0\n",
            "        Noble             43\n",
            "        Officer           11\n",
            "Name: Pclass, dtype: int64\n"
          ]
        },
        {
          "name": "stderr",
          "output_type": "stream",
          "text": [
            "/tmp/ipython-input-2974352889.py:1: FutureWarning: The default of observed=False is deprecated and will be changed to True in a future version of pandas. Pass observed=False to retain current behavior or observed=True to adopt the future default and silence this warning.\n",
            "  print(preprocessed_train.groupby(['Sex', 'Grouped_title']).count().Pclass)\n"
          ]
        }
      ],
      "source": [
        "print(preprocessed_train.groupby(['Sex', 'Grouped_title']).count().Pclass)"
      ]
    },
    {
      "cell_type": "markdown",
      "metadata": {
        "id": "FZGS0iAN_xUC"
      },
      "source": [
        "There don't seem to be a mislabelled passenger."
      ]
    },
    {
      "cell_type": "code",
      "execution_count": null,
      "metadata": {
        "colab": {
          "base_uri": "https://localhost:8080/",
          "height": 525
        },
        "execution": {
          "iopub.execute_input": "2025-08-03T12:44:07.924373Z",
          "iopub.status.busy": "2025-08-03T12:44:07.923699Z",
          "iopub.status.idle": "2025-08-03T12:44:08.562983Z",
          "shell.execute_reply": "2025-08-03T12:44:08.561602Z",
          "shell.execute_reply.started": "2025-08-03T12:44:07.924338Z"
        },
        "id": "pYV2HCfI_xUD",
        "outputId": "3109b344-379a-4e50-f231-d13c0c06bb27",
        "trusted": true
      },
      "outputs": [
        {
          "data": {
            "text/plain": [
              "<seaborn.axisgrid.FacetGrid at 0x7ea1a5601310>"
            ]
          },
          "execution_count": 100,
          "metadata": {},
          "output_type": "execute_result"
        },
        {
          "data": {
            "image/png": "[encoded data removed]",
            "text/plain": [
              "<Figure size 1272.11x500 with 2 Axes>"
            ]
          },
          "metadata": {},
          "output_type": "display_data"
        }
      ],
      "source": [
        "sns.catplot(\n",
        "    data=preprocessed_train,\n",
        "    x='Grouped_title',\n",
        "    hue='Survived',\n",
        "    col='Sex',\n",
        "    kind='count',\n",
        "    height=5,\n",
        "    aspect=1.2\n",
        ")"
      ]
    },
    {
      "cell_type": "markdown",
      "metadata": {
        "id": "x749e4_N_xUD"
      },
      "source": [
        "## 3. Extract family names"
      ]
    },
    {
      "cell_type": "code",
      "execution_count": null,
      "metadata": {
        "colab": {
          "base_uri": "https://localhost:8080/",
          "height": 561
        },
        "execution": {
          "iopub.execute_input": "2025-08-03T12:29:18.821390Z",
          "iopub.status.busy": "2025-08-03T12:29:18.821082Z",
          "iopub.status.idle": "2025-08-03T12:29:18.832352Z",
          "shell.execute_reply": "2025-08-03T12:29:18.831250Z",
          "shell.execute_reply.started": "2025-08-03T12:29:18.821369Z"
        },
        "id": "88AvvdfS_xUD",
        "outputId": "1ea2dd19-3463-40c5-b8cc-e2a0479b26ad",
        "trusted": true
      },
      "outputs": [
        {
          "name": "stdout",
          "output_type": "stream",
          "text": [
            "['Braund', 'Cumings', 'Heikkinen', 'Futrelle', 'Allen', ..., 'Banfield', 'Sutehall', 'Montvila', 'Behr', 'Dooley']\n",
            "Length: 667\n",
            "Categories (667, object): ['Abbing', 'Abbott', 'Abelson', 'Adahl', ..., 'de Pelsmaeker',\n",
            "                           'del Carlo', 'van Billiard', 'van Melkebeke']\n"
          ]
        },
        {
          "data": {
            "text/html": [
              "<div>\n",
              "<style scoped>\n",
              "    .dataframe tbody tr th:only-of-type {\n",
              "        vertical-align: middle;\n",
              "    }\n",
              "\n",
              "    .dataframe tbody tr th {\n",
              "        vertical-align: top;\n",
              "    }\n",
              "\n",
              "    .dataframe thead th {\n",
              "        text-align: right;\n",
              "    }\n",
              "</style>\n",
              "<table border=\"1\" class=\"dataframe\">\n",
              "  <thead>\n",
              "    <tr style=\"text-align: right;\">\n",
              "      <th></th>\n",
              "      <th>count</th>\n",
              "    </tr>\n",
              "    <tr>\n",
              "      <th>Family_name</th>\n",
              "      <th></th>\n",
              "    </tr>\n",
              "  </thead>\n",
              "  <tbody>\n",
              "    <tr>\n",
              "      <th>Andersson</th>\n",
              "      <td>9</td>\n",
              "    </tr>\n",
              "    <tr>\n",
              "      <th>Sage</th>\n",
              "      <td>7</td>\n",
              "    </tr>\n",
              "    <tr>\n",
              "      <th>Johnson</th>\n",
              "      <td>6</td>\n",
              "    </tr>\n",
              "    <tr>\n",
              "      <th>Panula</th>\n",
              "      <td>6</td>\n",
              "    </tr>\n",
              "    <tr>\n",
              "      <th>Goodwin</th>\n",
              "      <td>6</td>\n",
              "    </tr>\n",
              "    <tr>\n",
              "      <th>...</th>\n",
              "      <td>...</td>\n",
              "    </tr>\n",
              "    <tr>\n",
              "      <th>Hewlett</th>\n",
              "      <td>1</td>\n",
              "    </tr>\n",
              "    <tr>\n",
              "      <th>Hirvonen</th>\n",
              "      <td>1</td>\n",
              "    </tr>\n",
              "    <tr>\n",
              "      <th>Hodges</th>\n",
              "      <td>1</td>\n",
              "    </tr>\n",
              "    <tr>\n",
              "      <th>Hogeboom</th>\n",
              "      <td>1</td>\n",
              "    </tr>\n",
              "    <tr>\n",
              "      <th>Hedman</th>\n",
              "      <td>1</td>\n",
              "    </tr>\n",
              "  </tbody>\n",
              "</table>\n",
              "<p>667 rows × 1 columns</p>\n",
              "</div><br><label><b>dtype:</b> int64</label>"
            ],
            "text/plain": [
              "Family_name\n",
              "Andersson    9\n",
              "Sage         7\n",
              "Johnson      6\n",
              "Panula       6\n",
              "Goodwin      6\n",
              "            ..\n",
              "Hewlett      1\n",
              "Hirvonen     1\n",
              "Hodges       1\n",
              "Hogeboom     1\n",
              "Hedman       1\n",
              "Name: count, Length: 667, dtype: int64"
            ]
          },
          "execution_count": 101,
          "metadata": {},
          "output_type": "execute_result"
        }
      ],
      "source": [
        "def extract_family_name(name):\n",
        "    return name.split(\",\")[0].strip()\n",
        "preprocessed_train[\"Family_name\"] = train_df[\"Name\"].apply(extract_family_name).astype('category')\n",
        "print(preprocessed_train[\"Family_name\"].unique())\n",
        "preprocessed_train[\"Family_name\"].value_counts()"
      ]
    },
    {
      "cell_type": "markdown",
      "metadata": {
        "id": "jDjzYdB2_xUD"
      },
      "source": [
        "## 4. Extract deck and group them"
      ]
    },
    {
      "cell_type": "code",
      "execution_count": null,
      "metadata": {
        "colab": {
          "base_uri": "https://localhost:8080/"
        },
        "execution": {
          "iopub.execute_input": "2025-08-03T12:29:24.197393Z",
          "iopub.status.busy": "2025-08-03T12:29:24.196787Z",
          "iopub.status.idle": "2025-08-03T12:29:24.207300Z",
          "shell.execute_reply": "2025-08-03T12:29:24.206109Z",
          "shell.execute_reply.started": "2025-08-03T12:29:24.197363Z"
        },
        "id": "6HxdNF4u_xUD",
        "outputId": "f8138f9d-1bf3-4851-82f5-7a2db2297f27",
        "trusted": true
      },
      "outputs": [
        {
          "name": "stdout",
          "output_type": "stream",
          "text": [
            "['Unknown', 'C', 'E', 'G', 'D', 'A', 'B', 'F', 'T']\n"
          ]
        }
      ],
      "source": [
        "def extract_deck(cabin):\n",
        "    if pd.isna(cabin) or cabin==\"Unknown\":\n",
        "        return \"Unknown\"\n",
        "    return cabin[0].upper()\n",
        "preprocessed_train[\"Deck\"] = preprocessed_train[\"Cabin\"].apply(extract_deck).astype('category')\n",
        "print(preprocessed_train[\"Deck\"].unique().tolist())"
      ]
    },
    {
      "cell_type": "code",
      "execution_count": null,
      "metadata": {
        "colab": {
          "base_uri": "https://localhost:8080/",
          "height": 525
        },
        "execution": {
          "iopub.execute_input": "2025-08-03T12:42:18.389082Z",
          "iopub.status.busy": "2025-08-03T12:42:18.388745Z",
          "iopub.status.idle": "2025-08-03T12:42:19.136418Z",
          "shell.execute_reply": "2025-08-03T12:42:19.135393Z",
          "shell.execute_reply.started": "2025-08-03T12:42:18.389057Z"
        },
        "id": "pAEdzHHl_xUE",
        "outputId": "9b9596a4-99be-4787-a4b6-41b240bda441",
        "trusted": true
      },
      "outputs": [
        {
          "data": {
            "text/plain": [
              "<seaborn.axisgrid.FacetGrid at 0x7ea1a44793d0>"
            ]
          },
          "execution_count": 103,
          "metadata": {},
          "output_type": "execute_result"
        },
        {
          "data": {
            "image/png": "[encoded data removed]",
            "text/plain": [
              "<Figure size 1272.11x500 with 2 Axes>"
            ]
          },
          "metadata": {},
          "output_type": "display_data"
        }
      ],
      "source": [
        "sns.catplot(\n",
        "    data=preprocessed_train,\n",
        "    x='Deck',\n",
        "    hue='Survived',\n",
        "    col='Sex',\n",
        "    kind='count',\n",
        "    height=5,\n",
        "    aspect=1.2\n",
        ")"
      ]
    },
    {
      "cell_type": "code",
      "execution_count": null,
      "metadata": {
        "colab": {
          "base_uri": "https://localhost:8080/"
        },
        "execution": {
          "iopub.execute_input": "2025-08-03T12:39:49.391727Z",
          "iopub.status.busy": "2025-08-03T12:39:49.391419Z",
          "iopub.status.idle": "2025-08-03T12:39:49.404829Z",
          "shell.execute_reply": "2025-08-03T12:39:49.403444Z",
          "shell.execute_reply.started": "2025-08-03T12:39:49.391704Z"
        },
        "id": "CQDSyRXI_xUE",
        "outputId": "e139005c-5c96-42cb-ecaf-8dbb0e91d848",
        "trusted": true
      },
      "outputs": [
        {
          "name": "stdout",
          "output_type": "stream",
          "text": [
            "Sex     Deck   \n",
            "female  A            1\n",
            "        B           27\n",
            "        C           27\n",
            "        D           18\n",
            "        E           15\n",
            "        F            5\n",
            "        G            4\n",
            "        T            0\n",
            "        Unknown    217\n",
            "male    A           14\n",
            "        B           20\n",
            "        C           32\n",
            "        D           15\n",
            "        E           17\n",
            "        F            8\n",
            "        G            0\n",
            "        T            1\n",
            "        Unknown    470\n",
            "Name: Survived, dtype: int64\n"
          ]
        },
        {
          "name": "stderr",
          "output_type": "stream",
          "text": [
            "/tmp/ipython-input-3488245406.py:1: FutureWarning: The default of observed=False is deprecated and will be changed to True in a future version of pandas. Pass observed=False to retain current behavior or observed=True to adopt the future default and silence this warning.\n",
            "  print(preprocessed_train.groupby(['Sex', 'Deck']).count().Survived)\n"
          ]
        }
      ],
      "source": [
        "print(preprocessed_train.groupby(['Sex', 'Deck']).count().Survived)"
      ]
    },
    {
      "cell_type": "code",
      "execution_count": null,
      "metadata": {
        "colab": {
          "base_uri": "https://localhost:8080/",
          "height": 265
        },
        "id": "kGlQxNg3o0tR",
        "outputId": "23a0aae0-4f1c-4789-b6ab-f687876659bd"
      },
      "outputs": [
        {
          "name": "stderr",
          "output_type": "stream",
          "text": [
            "/tmp/ipython-input-2964386158.py:8: FutureWarning: The default of observed=False is deprecated and will be changed to True in a future version of pandas. Pass observed=False to retain current behavior or observed=True to adopt the future default and silence this warning.\n",
            "  deck_stats = preprocessed_train.groupby('Deck').agg(\n"
          ]
        },
        {
          "data": {
            "text/html": [
              "<div>\n",
              "<style scoped>\n",
              "    .dataframe tbody tr th:only-of-type {\n",
              "        vertical-align: middle;\n",
              "    }\n",
              "\n",
              "    .dataframe tbody tr th {\n",
              "        vertical-align: top;\n",
              "    }\n",
              "\n",
              "    .dataframe thead th {\n",
              "        text-align: right;\n",
              "    }\n",
              "</style>\n",
              "<table border=\"1\" class=\"dataframe\">\n",
              "  <thead>\n",
              "    <tr style=\"text-align: right;\">\n",
              "      <th></th>\n",
              "      <th>Survived</th>\n",
              "    </tr>\n",
              "    <tr>\n",
              "      <th>deck_cluster</th>\n",
              "      <th></th>\n",
              "    </tr>\n",
              "  </thead>\n",
              "  <tbody>\n",
              "    <tr>\n",
              "      <th>0</th>\n",
              "      <td>184</td>\n",
              "    </tr>\n",
              "    <tr>\n",
              "      <th>1</th>\n",
              "      <td>687</td>\n",
              "    </tr>\n",
              "    <tr>\n",
              "      <th>2</th>\n",
              "      <td>20</td>\n",
              "    </tr>\n",
              "  </tbody>\n",
              "</table>\n",
              "</div><br><label><b>dtype:</b> int64</label>"
            ],
            "text/plain": [
              "deck_cluster\n",
              "0    184\n",
              "1    687\n",
              "2     20\n",
              "Name: Survived, dtype: int64"
            ]
          },
          "execution_count": 105,
          "metadata": {},
          "output_type": "execute_result"
        }
      ],
      "source": [
        "from sklearn.preprocessing import StandardScaler\n",
        "from sklearn.cluster import KMeans\n",
        "\n",
        "# Make sure 'Survived' is numeric\n",
        "preprocessed_train['Survived_float'] = preprocessed_train['Survived'].astype(float)\n",
        "\n",
        "# Compute stats per Deck\n",
        "deck_stats = preprocessed_train.groupby('Deck').agg(\n",
        "    mean_survival=('Survived_float', 'mean'),\n",
        "    count=('Survived_float', 'count')\n",
        ").reset_index()\n",
        "\n",
        "# Scale features\n",
        "scaler = StandardScaler()\n",
        "X_scaled = scaler.fit_transform(deck_stats[['mean_survival', 'count']])\n",
        "\n",
        "# Apply k-mean clustering\n",
        "kmeans = KMeans(n_clusters=3, random_state=42, n_init='auto')\n",
        "deck_stats['deck_cluster'] = kmeans.fit_predict(X_scaled)\n",
        "\n",
        "# Merge back into main dataframe\n",
        "\n",
        "preprocessed_train = preprocessed_train.merge(\n",
        "    deck_stats[['Deck', 'deck_cluster']],\n",
        "    on='Deck',\n",
        "    how='left'\n",
        ")\n",
        "\n",
        "preprocessed_train.groupby('deck_cluster').count()['Survived']"
      ]
    },
    {
      "cell_type": "markdown",
      "metadata": {
        "id": "OgqEQmSd_xUE"
      },
      "source": [
        "## 5. Add family size feature"
      ]
    },
    {
      "cell_type": "code",
      "execution_count": null,
      "metadata": {
        "colab": {
          "base_uri": "https://localhost:8080/",
          "height": 468
        },
        "execution": {
          "iopub.execute_input": "2025-08-03T12:44:54.170330Z",
          "iopub.status.busy": "2025-08-03T12:44:54.169270Z",
          "iopub.status.idle": "2025-08-03T12:44:54.413361Z",
          "shell.execute_reply": "2025-08-03T12:44:54.412376Z",
          "shell.execute_reply.started": "2025-08-03T12:44:54.170292Z"
        },
        "id": "lF_-TD1m_xUE",
        "outputId": "9e769c31-b252-4229-ee61-63320f8758c9",
        "trusted": true
      },
      "outputs": [
        {
          "data": {
            "text/plain": [
              "<Axes: xlabel='Family_size', ylabel='count'>"
            ]
          },
          "execution_count": 106,
          "metadata": {},
          "output_type": "execute_result"
        },
        {
          "data": {
            "image/png": "[encoded data removed]",
            "text/plain": [
              "<Figure size 640x480 with 1 Axes>"
            ]
          },
          "metadata": {},
          "output_type": "display_data"
        }
      ],
      "source": [
        "preprocessed_train[\"Family_size\"] = train_df[\"SibSp\"] + train_df[\"Parch\"]\n",
        "sns.countplot(data=preprocessed_train, x='Family_size', hue='Survived')"
      ]
    },
    {
      "cell_type": "markdown",
      "metadata": {
        "id": "xeHcn-Tl_xUF"
      },
      "source": [
        "The family size can be divided into 4 categories:\n",
        "- Alone (0).\n",
        "- Small (1 to 3)\n",
        "- Medium (4 to 6)\n",
        "- Large (7+)"
      ]
    },
    {
      "cell_type": "code",
      "execution_count": null,
      "metadata": {
        "colab": {
          "base_uri": "https://localhost:8080/",
          "height": 468
        },
        "id": "9ZlkxTOi_xUF",
        "outputId": "79d9da11-5ece-4dec-d08c-c047fac6d4b3",
        "trusted": true
      },
      "outputs": [
        {
          "data": {
            "text/plain": [
              "<Axes: xlabel='Family_type', ylabel='count'>"
            ]
          },
          "execution_count": 107,
          "metadata": {},
          "output_type": "execute_result"
        },
        {
          "data": {
            "image/png": "[encoded data removed]",
            "text/plain": [
              "<Figure size 640x480 with 1 Axes>"
            ]
          },
          "metadata": {},
          "output_type": "display_data"
        }
      ],
      "source": [
        "def extract_family_type(family_size):\n",
        "    if pd.isna(family_size):\n",
        "        return \"Unknown\"\n",
        "    elif family_size ==0:\n",
        "        return \"Alone\"\n",
        "    elif family_size <=3:\n",
        "        return \"Small\"\n",
        "    elif family_size <=6:\n",
        "        return \"Medium\"\n",
        "    else:\n",
        "        return \"Large\"\n",
        "\n",
        "preprocessed_train[\"Family_type\"] = preprocessed_train[\"Family_size\"].apply(extract_family_type).astype('category')\n",
        "sns.countplot(data=preprocessed_train, x='Family_type', hue='Survived')"
      ]
    },
    {
      "cell_type": "markdown",
      "metadata": {
        "id": "a09aG0o8BIdO"
      },
      "source": [
        "This new grouping seems more meaningful."
      ]
    },
    {
      "cell_type": "code",
      "execution_count": null,
      "metadata": {
        "colab": {
          "base_uri": "https://localhost:8080/",
          "height": 468
        },
        "id": "EpwQP4wciMdv",
        "outputId": "0524377a-06de-4d61-e41b-83b021aa89af"
      },
      "outputs": [
        {
          "data": {
            "text/plain": [
              "<Axes: xlabel='Family_type', ylabel='count'>"
            ]
          },
          "execution_count": 108,
          "metadata": {},
          "output_type": "execute_result"
        },
        {
          "data": {
            "image/png": "[encoded data removed]",
            "text/plain": [
              "<Figure size 640x480 with 1 Axes>"
            ]
          },
          "metadata": {},
          "output_type": "display_data"
        }
      ],
      "source": [
        "family_size_mapping = {\"Alone\":1, \"Small\": 2, \"Medium\": 0, \"Large\": -1}\n",
        "preprocessed_train[\"Family_type\"] = preprocessed_train[\"Family_type\"].map(family_size_mapping).astype(int)\n",
        "sns.countplot(data=preprocessed_train, x='Family_type', hue='Survived')"
      ]
    },
    {
      "cell_type": "markdown",
      "metadata": {
        "id": "EjgGs5Vr_xUF"
      },
      "source": [
        "## 6. Extract age group and fill missing data"
      ]
    },
    {
      "cell_type": "markdown",
      "metadata": {
        "id": "qzv5iZT3_xUF"
      },
      "source": [
        "There are approximately 20% of missing values that we need to fill.\n",
        "Moreover, as seen in EDA, age as is, isn't meaningful enough.\n",
        "So first, I classify age into:\n",
        "- Child ( 0 to 12)\n",
        "- Teen (13 to 19)\n",
        "- Adult (19 to 59)\n",
        "- Senior (60+)"
      ]
    },
    {
      "cell_type": "code",
      "execution_count": null,
      "metadata": {
        "colab": {
          "base_uri": "https://localhost:8080/",
          "height": 485
        },
        "execution": {
          "iopub.execute_input": "2025-08-02T19:41:43.227217Z",
          "iopub.status.busy": "2025-08-02T19:41:43.226916Z",
          "iopub.status.idle": "2025-08-02T19:41:43.237026Z",
          "shell.execute_reply": "2025-08-02T19:41:43.235908Z",
          "shell.execute_reply.started": "2025-08-02T19:41:43.227194Z"
        },
        "id": "x-3t3b_n_xUF",
        "outputId": "4e61e2bc-0e90-429c-8c54-1ce2a82bc046",
        "trusted": true
      },
      "outputs": [
        {
          "name": "stdout",
          "output_type": "stream",
          "text": [
            "['Adult', 'Unknown', 'Child', 'Teen', 'Senior']\n"
          ]
        },
        {
          "data": {
            "text/plain": [
              "<Axes: xlabel='Age_group', ylabel='count'>"
            ]
          },
          "execution_count": 109,
          "metadata": {},
          "output_type": "execute_result"
        },
        {
          "data": {
            "image/png": "[encoded data removed]",
            "text/plain": [
              "<Figure size 640x480 with 1 Axes>"
            ]
          },
          "metadata": {},
          "output_type": "display_data"
        }
      ],
      "source": [
        "def extract_age_group(age):\n",
        "    if pd.isna(age):\n",
        "        return \"Unknown\"\n",
        "    elif age <= 12:\n",
        "        return \"Child\"\n",
        "    elif age <=19:\n",
        "        return \"Teen\"\n",
        "    elif age <=59:\n",
        "        return \"Adult\"\n",
        "    else:\n",
        "        return \"Senior\"\n",
        "\n",
        "\n",
        "preprocessed_train[\"Age_group\"] = preprocessed_train[\"Age\"].apply(extract_age_group).astype('category')\n",
        "print(preprocessed_train[\"Age_group\"].unique().tolist())\n",
        "sns.countplot(data=preprocessed_train, x='Age_group', hue='Survived')\n"
      ]
    },
    {
      "cell_type": "markdown",
      "metadata": {
        "id": "Yt0wUs-RDL_b"
      },
      "source": [
        "Now the question is, how do I fill the rest of the missing data.\n",
        "Different options here:\n",
        "- Use the median age per age group.\n",
        "- Take random values from a gaussian distrbution N(mean, std_deviation) for each age group.\n",
        "- Train a linear regression model to predict age using categorical features (`Pclass`, `Grouped_title`, `Sex`, `Embarked`, `Family_type`).\n",
        "\n",
        "I choose the last option."
      ]
    },
    {
      "cell_type": "code",
      "execution_count": null,
      "metadata": {
        "colab": {
          "base_uri": "https://localhost:8080/"
        },
        "id": "J_RQW1ObUQun",
        "outputId": "6e5f03d2-18d8-441a-918d-99afa0282bc0"
      },
      "outputs": [
        {
          "data": {
            "text/plain": [
              "np.int64(177)"
            ]
          },
          "execution_count": 110,
          "metadata": {},
          "output_type": "execute_result"
        }
      ],
      "source": [
        "preprocessed_train[\"Age\"].isnull().sum()"
      ]
    },
    {
      "cell_type": "code",
      "execution_count": null,
      "metadata": {
        "id": "pQ5gpmPqGmRI"
      },
      "outputs": [],
      "source": [
        "age_features = preprocessed_train[[\"Pclass\", \"Grouped_title\", \"Sex\", \"Embarked\", \"Age_group\"]]\n",
        "age_features = age_features[preprocessed_train[\"Age\"].notna()]\n",
        "age_target = preprocessed_train[\"Age\"].dropna()\n"
      ]
    },
    {
      "cell_type": "code",
      "execution_count": null,
      "metadata": {
        "colab": {
          "base_uri": "https://localhost:8080/"
        },
        "id": "Ii44ZN1uUcQO",
        "outputId": "01903806-4014-44ee-af4c-cfd56d1d5071"
      },
      "outputs": [
        {
          "data": {
            "text/plain": [
              "np.int64(0)"
            ]
          },
          "execution_count": 112,
          "metadata": {},
          "output_type": "execute_result"
        }
      ],
      "source": [
        "age_target.isnull().sum()"
      ]
    },
    {
      "cell_type": "markdown",
      "metadata": {
        "id": "kdnygoXMR8-V"
      },
      "source": [
        "I use sklearn's linear regression model.\n",
        "\n",
        "However, I need to transform the categorical features.\n",
        "For that i use the OneHotEncoder which creates a binary column for each category. Such that each category is treated independently and no false ordinal relationship is assumed."
      ]
    },
    {
      "cell_type": "code",
      "execution_count": null,
      "metadata": {
        "colab": {
          "base_uri": "https://localhost:8080/"
        },
        "id": "w2zSuju0NBOc",
        "outputId": "cbf915c3-cc0b-49c8-f7b7-fb97528aed47"
      },
      "outputs": [
        {
          "name": "stdout",
          "output_type": "stream",
          "text": [
            "MAE: 6.21 years | RMSE: 8.17 years | R²: 0.64\n",
            "Number of missing ages: 177\n",
            "X_missing shape: (177, 5)\n",
            "✅ SUCCESS! Predicted 177 ages\n",
            "Predicted age range: 23.9 - 38.2\n",
            "Remaining missing ages: 0\n"
          ]
        }
      ],
      "source": [
        "from sklearn.linear_model import LinearRegression\n",
        "from sklearn.preprocessing import OneHotEncoder\n",
        "from sklearn.compose import ColumnTransformer\n",
        "from sklearn.pipeline import Pipeline\n",
        "from sklearn.model_selection import train_test_split\n",
        "from sklearn.metrics import mean_squared_error, mean_absolute_error, r2_score\n",
        "\n",
        "age_features = preprocessed_train[[\"Pclass\", \"Grouped_title\", \"Sex\", \"Embarked\", \"Age_group\"]]\n",
        "age_features = age_features[preprocessed_train[\"Age\"].notna()]\n",
        "age_target = preprocessed_train[\"Age\"].dropna()\n",
        "\n",
        "X = age_features  # Features (Pclass, Sex, Embarked, etc.)\n",
        "y = age_target    # Target (Age)\n",
        "\n",
        "X_train, X_test, y_train, y_test = train_test_split(\n",
        "    X, y, test_size=0.2, random_state=42\n",
        ")\n",
        "\n",
        "categorical_cols = [\"Pclass\", \"Grouped_title\", \"Sex\", \"Embarked\", \"Age_group\"]\n",
        "numerical_cols = []\n",
        "\n",
        "preprocessor = ColumnTransformer(\n",
        "    transformers=[\n",
        "        ('cat', OneHotEncoder(handle_unknown='ignore'), categorical_cols),\n",
        "    ],\n",
        "    remainder='passthrough'\n",
        ")\n",
        "\n",
        "model = Pipeline(steps=[\n",
        "    ('preprocessor', preprocessor),\n",
        "    ('regressor', LinearRegression())\n",
        "])\n",
        "\n",
        "model.fit(X_train, y_train)  # Train on 80% of data\n",
        "y_pred = model.predict(X_test)  # Predict on the remaining 20%\n",
        "\n",
        "# Calculate MSE first, then take square root for RMSE\n",
        "mae   = mean_absolute_error(y_test, y_pred)\n",
        "rmse  = mean_squared_error(y_test, y_pred) ** 0.5  # Manual RMSE\n",
        "r2    = r2_score(y_test, y_pred)\n",
        "\n",
        "print(f\"MAE: {mae:.2f} years | RMSE: {rmse:.2f} years | R²: {r2:.2f}\")\n",
        "\n",
        "# Predict missing ages\n",
        "missing_age_mask = preprocessed_train[\"Age\"].isna()\n",
        "print(f\"Number of missing ages: {missing_age_mask.sum()}\")\n",
        "X_missing = preprocessed_train.loc[missing_age_mask, categorical_cols].copy()\n",
        "print(f\"X_missing shape: {X_missing.shape}\")\n",
        "nan_counts = X_missing.isna().sum()\n",
        "if nan_counts.sum() > 0:\n",
        "    print(f\"Warning: NaN values in features:\")\n",
        "predicted_ages = model.predict(X_missing)\n",
        "preprocessed_train.loc[missing_age_mask, \"Age\"] = predicted_ages\n",
        "print(f\"✅ SUCCESS! Predicted {len(predicted_ages)} ages\")\n",
        "print(f\"Predicted age range: {predicted_ages.min():.1f} - {predicted_ages.max():.1f}\")\n",
        "print(f\"Remaining missing ages: {preprocessed_train['Age'].isna().sum()}\")"
      ]
    },
    {
      "cell_type": "markdown",
      "metadata": {
        "id": "Q23Y6y6_XPK9"
      },
      "source": [
        "I need to group the new age values too."
      ]
    },
    {
      "cell_type": "code",
      "execution_count": null,
      "metadata": {
        "colab": {
          "base_uri": "https://localhost:8080/",
          "height": 485
        },
        "id": "pLziqzKrXOMv",
        "outputId": "76c4a1a4-b67a-437e-e93f-0c1e4c0b023d"
      },
      "outputs": [
        {
          "name": "stdout",
          "output_type": "stream",
          "text": [
            "['Adult', 'Child', 'Teen', 'Senior']\n"
          ]
        },
        {
          "data": {
            "text/plain": [
              "<Axes: xlabel='Age_group', ylabel='count'>"
            ]
          },
          "execution_count": 114,
          "metadata": {},
          "output_type": "execute_result"
        },
        {
          "data": {
            "image/png": "[encoded data removed]",
            "text/plain": [
              "<Figure size 640x480 with 1 Axes>"
            ]
          },
          "metadata": {},
          "output_type": "display_data"
        }
      ],
      "source": [
        "preprocessed_train[\"Age_group\"] = preprocessed_train[\"Age\"].apply(extract_age_group).astype('category')\n",
        "print(preprocessed_train[\"Age_group\"].unique().tolist())\n",
        "sns.countplot(data=preprocessed_train, x='Age_group', hue='Survived')"
      ]
    },
    {
      "cell_type": "markdown",
      "metadata": {
        "id": "7sQaC3s8a4cg"
      },
      "source": [
        "## 7. Fill missing Embarked values\n",
        "\n",
        "\n",
        "I will use the mode of Pclass and Fare else the most recurrent embarkation port is S for Southampton."
      ]
    },
    {
      "cell_type": "code",
      "execution_count": null,
      "metadata": {
        "colab": {
          "base_uri": "https://localhost:8080/"
        },
        "id": "q340sxc5a4MW",
        "outputId": "a88d73c2-9061-4acf-e06d-cf80f5744047"
      },
      "outputs": [
        {
          "name": "stderr",
          "output_type": "stream",
          "text": [
            "/tmp/ipython-input-329147121.py:1: FutureWarning: The default of observed=False is deprecated and will be changed to True in a future version of pandas. Pass observed=False to retain current behavior or observed=True to adopt the future default and silence this warning.\n",
            "  preprocessed_train[\"Embarked\"] = (preprocessed_train.groupby([\"Pclass\", \"Fare\"])[\"Embarked\"]\n"
          ]
        }
      ],
      "source": [
        "preprocessed_train[\"Embarked\"] = (preprocessed_train.groupby([\"Pclass\", \"Fare\"])[\"Embarked\"]\n",
        "    .transform(lambda x: x.fillna(x.mode().iloc[0] if not x.mode().empty else \"S\")))"
      ]
    },
    {
      "cell_type": "code",
      "execution_count": null,
      "metadata": {
        "colab": {
          "base_uri": "https://localhost:8080/"
        },
        "id": "uuhrLb0kfeaO",
        "outputId": "0e37c688-329d-4e0d-9e50-56cb8b240acf"
      },
      "outputs": [
        {
          "data": {
            "text/plain": [
              "np.int64(0)"
            ]
          },
          "execution_count": 116,
          "metadata": {},
          "output_type": "execute_result"
        }
      ],
      "source": [
        "preprocessed_train[\"Embarked\"].isna().sum()"
      ]
    },
    {
      "cell_type": "markdown",
      "metadata": {
        "id": "E77UfN1Fj40B"
      },
      "source": [
        "## 8. Add feature of group size"
      ]
    },
    {
      "cell_type": "code",
      "execution_count": null,
      "metadata": {
        "colab": {
          "base_uri": "https://localhost:8080/"
        },
        "id": "DbKh0suljx1H",
        "outputId": "7c7b3252-8cae-4d4e-83de-80f78bb63eeb"
      },
      "outputs": [
        {
          "name": "stderr",
          "output_type": "stream",
          "text": [
            "/tmp/ipython-input-2115061349.py:2: FutureWarning: The default of observed=False is deprecated and will be changed to True in a future version of pandas. Pass observed=False to retain current behavior or observed=True to adopt the future default and silence this warning.\n",
            "  preprocessed_train[\"GroupSize\"] = preprocessed_train.groupby(\"Ticket\")[\"Ticket\"].transform(\"count\").astype('int')\n"
          ]
        },
        {
          "data": {
            "text/plain": [
              "array([1, 2, 4, 3, 7, 5, 6])"
            ]
          },
          "execution_count": 117,
          "metadata": {},
          "output_type": "execute_result"
        }
      ],
      "source": [
        "# GroupSize: Number of passengers sharing the same ticket\n",
        "preprocessed_train[\"GroupSize\"] = preprocessed_train.groupby(\"Ticket\")[\"Ticket\"].transform(\"count\").astype('int')\n",
        "\n",
        "# Check the new column\n",
        "preprocessed_train[\"GroupSize\"].unique()"
      ]
    },
    {
      "cell_type": "code",
      "execution_count": null,
      "metadata": {
        "colab": {
          "base_uri": "https://localhost:8080/"
        },
        "id": "78Q7iKzWkfPm",
        "outputId": "0feeef85-db4c-4ec3-8c58-b14ebc36882e"
      },
      "outputs": [
        {
          "name": "stderr",
          "output_type": "stream",
          "text": [
            "/tmp/ipython-input-850540180.py:2: FutureWarning: The default of observed=False is deprecated and will be changed to True in a future version of pandas. Pass observed=False to retain current behavior or observed=True to adopt the future default and silence this warning.\n",
            "  preprocessed_train[\"GroupSize\"] = preprocessed_train.groupby(\"Ticket\")[\"Ticket\"].transform(\"count\").astype('int')\n"
          ]
        }
      ],
      "source": [
        "# GroupSize: Number of passengers sharing the same ticket\n",
        "preprocessed_train[\"GroupSize\"] = preprocessed_train.groupby(\"Ticket\")[\"Ticket\"].transform(\"count\").astype('int')\n",
        "# FarePerPerson: Calculate fare per person\n",
        "preprocessed_train[\"FarePerPerson\"] = preprocessed_train[\"Fare\"] / preprocessed_train[\"GroupSize\"]"
      ]
    },
    {
      "cell_type": "markdown",
      "metadata": {
        "id": "JTyCQX0H_xUF"
      },
      "source": [
        "## 9. Group ticket prefixes"
      ]
    },
    {
      "cell_type": "code",
      "execution_count": null,
      "metadata": {
        "colab": {
          "base_uri": "https://localhost:8080/",
          "height": 1000
        },
        "execution": {
          "iopub.execute_input": "2025-08-02T20:21:15.638445Z",
          "iopub.status.busy": "2025-08-02T20:21:15.638117Z",
          "iopub.status.idle": "2025-08-02T20:21:15.649518Z",
          "shell.execute_reply": "2025-08-02T20:21:15.648327Z",
          "shell.execute_reply.started": "2025-08-02T20:21:15.638422Z"
        },
        "id": "0izTKq7B_xUG",
        "outputId": "0dba86d6-af72-4c79-99a2-01e35d5ca34b",
        "trusted": true
      },
      "outputs": [
        {
          "name": "stderr",
          "output_type": "stream",
          "text": [
            "/tmp/ipython-input-452750261.py:8: FutureWarning: The default of observed=False is deprecated and will be changed to True in a future version of pandas. Pass observed=False to retain current behavior or observed=True to adopt the future default and silence this warning.\n",
            "  preprocessed_train.groupby('Ticket_prefix').count()['Survived']\n"
          ]
        },
        {
          "data": {
            "text/html": [
              "<div>\n",
              "<style scoped>\n",
              "    .dataframe tbody tr th:only-of-type {\n",
              "        vertical-align: middle;\n",
              "    }\n",
              "\n",
              "    .dataframe tbody tr th {\n",
              "        vertical-align: top;\n",
              "    }\n",
              "\n",
              "    .dataframe thead th {\n",
              "        text-align: right;\n",
              "    }\n",
              "</style>\n",
              "<table border=\"1\" class=\"dataframe\">\n",
              "  <thead>\n",
              "    <tr style=\"text-align: right;\">\n",
              "      <th></th>\n",
              "      <th>Survived</th>\n",
              "    </tr>\n",
              "    <tr>\n",
              "      <th>Ticket_prefix</th>\n",
              "      <th></th>\n",
              "    </tr>\n",
              "  </thead>\n",
              "  <tbody>\n",
              "    <tr>\n",
              "      <th>A4</th>\n",
              "      <td>7</td>\n",
              "    </tr>\n",
              "    <tr>\n",
              "      <th>A5</th>\n",
              "      <td>21</td>\n",
              "    </tr>\n",
              "    <tr>\n",
              "      <th>AS</th>\n",
              "      <td>1</td>\n",
              "    </tr>\n",
              "    <tr>\n",
              "      <th>C</th>\n",
              "      <td>5</td>\n",
              "    </tr>\n",
              "    <tr>\n",
              "      <th>CA</th>\n",
              "      <td>41</td>\n",
              "    </tr>\n",
              "    <tr>\n",
              "      <th>CASOTON</th>\n",
              "      <td>1</td>\n",
              "    </tr>\n",
              "    <tr>\n",
              "      <th>FC</th>\n",
              "      <td>1</td>\n",
              "    </tr>\n",
              "    <tr>\n",
              "      <th>FCC</th>\n",
              "      <td>5</td>\n",
              "    </tr>\n",
              "    <tr>\n",
              "      <th>Fa</th>\n",
              "      <td>1</td>\n",
              "    </tr>\n",
              "    <tr>\n",
              "      <th>LINE</th>\n",
              "      <td>4</td>\n",
              "    </tr>\n",
              "    <tr>\n",
              "      <th>None</th>\n",
              "      <td>661</td>\n",
              "    </tr>\n",
              "    <tr>\n",
              "      <th>PC</th>\n",
              "      <td>60</td>\n",
              "    </tr>\n",
              "    <tr>\n",
              "      <th>PP</th>\n",
              "      <td>3</td>\n",
              "    </tr>\n",
              "    <tr>\n",
              "      <th>PPP</th>\n",
              "      <td>2</td>\n",
              "    </tr>\n",
              "    <tr>\n",
              "      <th>SC</th>\n",
              "      <td>1</td>\n",
              "    </tr>\n",
              "    <tr>\n",
              "      <th>SCA4</th>\n",
              "      <td>1</td>\n",
              "    </tr>\n",
              "    <tr>\n",
              "      <th>SCAH</th>\n",
              "      <td>3</td>\n",
              "    </tr>\n",
              "    <tr>\n",
              "      <th>SCOW</th>\n",
              "      <td>1</td>\n",
              "    </tr>\n",
              "    <tr>\n",
              "      <th>SCPARIS</th>\n",
              "      <td>7</td>\n",
              "    </tr>\n",
              "    <tr>\n",
              "      <th>SCParis</th>\n",
              "      <td>4</td>\n",
              "    </tr>\n",
              "    <tr>\n",
              "      <th>SOC</th>\n",
              "      <td>6</td>\n",
              "    </tr>\n",
              "    <tr>\n",
              "      <th>SOP</th>\n",
              "      <td>1</td>\n",
              "    </tr>\n",
              "    <tr>\n",
              "      <th>SOPP</th>\n",
              "      <td>3</td>\n",
              "    </tr>\n",
              "    <tr>\n",
              "      <th>SOTONO2</th>\n",
              "      <td>2</td>\n",
              "    </tr>\n",
              "    <tr>\n",
              "      <th>SOTONOQ</th>\n",
              "      <td>15</td>\n",
              "    </tr>\n",
              "    <tr>\n",
              "      <th>SP</th>\n",
              "      <td>1</td>\n",
              "    </tr>\n",
              "    <tr>\n",
              "      <th>STONO</th>\n",
              "      <td>12</td>\n",
              "    </tr>\n",
              "    <tr>\n",
              "      <th>STONO2</th>\n",
              "      <td>6</td>\n",
              "    </tr>\n",
              "    <tr>\n",
              "      <th>SWPP</th>\n",
              "      <td>2</td>\n",
              "    </tr>\n",
              "    <tr>\n",
              "      <th>WC</th>\n",
              "      <td>10</td>\n",
              "    </tr>\n",
              "    <tr>\n",
              "      <th>WEP</th>\n",
              "      <td>3</td>\n",
              "    </tr>\n",
              "  </tbody>\n",
              "</table>\n",
              "</div><br><label><b>dtype:</b> int64</label>"
            ],
            "text/plain": [
              "Ticket_prefix\n",
              "A4           7\n",
              "A5          21\n",
              "AS           1\n",
              "C            5\n",
              "CA          41\n",
              "CASOTON      1\n",
              "FC           1\n",
              "FCC          5\n",
              "Fa           1\n",
              "LINE         4\n",
              "None       661\n",
              "PC          60\n",
              "PP           3\n",
              "PPP          2\n",
              "SC           1\n",
              "SCA4         1\n",
              "SCAH         3\n",
              "SCOW         1\n",
              "SCPARIS      7\n",
              "SCParis      4\n",
              "SOC          6\n",
              "SOP          1\n",
              "SOPP         3\n",
              "SOTONO2      2\n",
              "SOTONOQ     15\n",
              "SP           1\n",
              "STONO       12\n",
              "STONO2       6\n",
              "SWPP         2\n",
              "WC          10\n",
              "WEP          3\n",
              "Name: Survived, dtype: int64"
            ]
          },
          "execution_count": 119,
          "metadata": {},
          "output_type": "execute_result"
        }
      ],
      "source": [
        "def get_ticket_prefix(ticket_nbr):\n",
        "    if ticket_nbr.isdigit():\n",
        "        return \"None\"\n",
        "    else:\n",
        "        return ticket_nbr.replace('.','').replace('/', '').split(' ')[0]\n",
        "\n",
        "preprocessed_train[\"Ticket_prefix\"] = preprocessed_train[\"Ticket\"].apply(get_ticket_prefix).astype('category')\n",
        "preprocessed_train.groupby('Ticket_prefix').count()['Survived']"
      ]
    },
    {
      "cell_type": "markdown",
      "metadata": {
        "id": "3_xH9RkmlEXA"
      },
      "source": [
        "There are way too many labels.\n",
        "\n",
        "To simplify this, I need to group some labels together.\n",
        "\n",
        "To do that I will use hierarchical clustering."
      ]
    },
    {
      "cell_type": "code",
      "execution_count": null,
      "metadata": {
        "colab": {
          "base_uri": "https://localhost:8080/",
          "height": 779
        },
        "id": "8V_PmFfSqUb3",
        "outputId": "18d25786-d13e-4a13-958d-4822a235a903"
      },
      "outputs": [
        {
          "name": "stderr",
          "output_type": "stream",
          "text": [
            "/tmp/ipython-input-1325074908.py:4: FutureWarning: The default of observed=False is deprecated and will be changed to True in a future version of pandas. Pass observed=False to retain current behavior or observed=True to adopt the future default and silence this warning.\n",
            "  prefix_stats = preprocessed_train.groupby('Ticket_prefix').agg(\n"
          ]
        },
        {
          "data": {
            "image/png": "[encoded data removed]",
            "text/plain": [
              "<Figure size 1000x600 with 1 Axes>"
            ]
          },
          "metadata": {},
          "output_type": "display_data"
        },
        {
          "name": "stdout",
          "output_type": "stream",
          "text": [
            "-----------\n",
            "-----------\n",
            "prefix_cluster\n",
            "1     72\n",
            "2    158\n",
            "3    661\n",
            "Name: Survived, dtype: int64\n"
          ]
        }
      ],
      "source": [
        "from scipy.cluster.hierarchy import linkage, dendrogram, fcluster\n",
        "\n",
        "# Now safely compute mean and count per Ticket_prefix\n",
        "prefix_stats = preprocessed_train.groupby('Ticket_prefix').agg(\n",
        "    mean_survival=('Survived_float', 'mean'),\n",
        "    count=('Survived_float', 'count')\n",
        ").reset_index()\n",
        "\n",
        "\n",
        "scaler = StandardScaler()\n",
        "X_scaled = scaler.fit_transform(prefix_stats[['mean_survival', 'count']])\n",
        "\n",
        "# Compute the linkage matrix\n",
        "linked = linkage(X_scaled, method='ward')\n",
        "\n",
        "# Plot the dendrogram\n",
        "plt.figure(figsize=(10, 6))\n",
        "dendrogram(linked,\n",
        "           labels=prefix_stats['Ticket_prefix'].values,\n",
        "           orientation='top',\n",
        "           distance_sort='descending',\n",
        "           show_leaf_counts=True)\n",
        "plt.title('Hierarchical Clustering Dendrogram')\n",
        "plt.xlabel('Prefix')\n",
        "plt.ylabel('Distance')\n",
        "plt.show()\n",
        "\n",
        "# Assign each prefix to one of 3 clusters\n",
        "prefix_stats['prefix_cluster'] = fcluster(linked, t=3, criterion='maxclust')\n",
        "\n",
        "# Merge back to the main dataset\n",
        "preprocessed_train = preprocessed_train.merge(\n",
        "    prefix_stats[['Ticket_prefix', 'prefix_cluster']],\n",
        "    on='Ticket_prefix',\n",
        "    how='left'\n",
        ")\n",
        "print('-----------')\n",
        "print('-----------')\n",
        "# Check number of entries in each cluster\n",
        "print(preprocessed_train.groupby('prefix_cluster')['Survived'].count())"
      ]
    },
    {
      "cell_type": "markdown",
      "metadata": {
        "id": "iHNmWK8-stQ2"
      },
      "source": [
        "# Group feature engineering under a preprocessing function"
      ]
    },
    {
      "cell_type": "markdown",
      "metadata": {
        "id": "jdozmdzs4os2"
      },
      "source": [
        "## 1. Helper functions"
      ]
    },
    {
      "cell_type": "code",
      "execution_count": null,
      "metadata": {
        "id": "OwikQGLV0kH9"
      },
      "outputs": [],
      "source": [
        "import re\n",
        "import pandas as pd\n",
        "\n",
        "def extract_titles(name):\n",
        "  \"\"\"Extract titles from passenger names\"\"\"\n",
        "  if pd.isna(name):\n",
        "      return \"\"\n",
        "  title_search = re.search(r',\\s*([^\\.]*)\\.', name)\n",
        "  if title_search:\n",
        "      return title_search.group(1).strip()\n",
        "  return \"\"\n",
        "\n",
        "def group_titles(title):\n",
        "  \"\"\"Group similar titles together\"\"\"\n",
        "  title = title.lower()\n",
        "  if title in [\"mrs\", \"mme\"]:\n",
        "      return \"Mrs\"\n",
        "  elif title in [\"miss\", \"ms\", \"mlle\"]:\n",
        "      return \"Ms\"\n",
        "  elif title in [\"master\", \"don\", \"lady\", \"sir\", \"jonkheer\", \"donna\", \"the countess\"]:\n",
        "      return \"Noble\"\n",
        "  elif title in [\"col\", \"capt\", \"dr\", \"major\"]:\n",
        "      return \"Officer\"\n",
        "  elif title in [\"rev\"]:\n",
        "      return \"Clergy\"\n",
        "  else:\n",
        "      return title.capitalize()\n",
        "\n",
        "def extract_deck(cabin):\n",
        "  \"\"\"Extract deck letter from cabin\"\"\"\n",
        "  if pd.isna(cabin) or cabin==\"Unknown\":\n",
        "      return \"Unknown\"\n",
        "  return cabin[0].upper()\n",
        "\n",
        "def safe_fare_fill(row, median_map, fallback_fare):\n",
        "  try:\n",
        "      return median_map.loc[row[\"Pclass\"], row[\"Embarked\"]]\n",
        "  except KeyError:\n",
        "      return fallback_fare\n",
        "\n",
        "def get_ticket_prefix(ticket_nbr):\n",
        "  \"\"\"Extract ticket prefix (letters/numbers before the last set of digits)\"\"\"\n",
        "  if ticket_nbr.isdigit():\n",
        "        return \"None\"\n",
        "  else:\n",
        "      return ticket_nbr.replace('.','').replace('/', '').split(' ')[0]\n",
        "\n",
        "def extract_age_group(age):\n",
        "  \"\"\"Categorize age into groups\"\"\"\n",
        "  if pd.isna(age):\n",
        "      return \"Unknown\"\n",
        "  elif age <= 12:\n",
        "      return \"Child\"\n",
        "  elif age <=19:\n",
        "      return \"Teen\"\n",
        "  elif age <=59:\n",
        "      return \"Adult\"\n",
        "  else:\n",
        "      return \"Senior\"\n",
        "\n",
        "def extract_family_type(family_size):\n",
        "  \"\"\"Categorize family size into types\"\"\"\n",
        "  if pd.isna(family_size):\n",
        "      return \"Unknown\"\n",
        "  elif family_size ==0:\n",
        "      return \"Alone\"\n",
        "  elif family_size <=3:\n",
        "      return \"Small\"\n",
        "  elif family_size <=6:\n",
        "      return \"Medium\"\n",
        "  else:\n",
        "      return \"Large\"\n",
        "\n",
        "def light_preprocessing(df):\n",
        "  \"\"\"Initial preprocessing steps\"\"\"\n",
        "\n",
        "  df = df.copy()\n",
        "  pre = pd.DataFrame()\n",
        "  mapping_pclass = {1:1, 2:0, 3:-1}\n",
        "  pre[\"Pclass\"]   = df[\"Pclass\"].map(mapping_pclass).astype('category')\n",
        "  pre[\"Sex\"]      = df[\"Sex\"].astype('category')\n",
        "  pre[\"Age\"]      = df[\"Age\"]\n",
        "  pre[\"Cabin\"]    = df[\"Cabin\"].fillna(\"Unknown\").astype('category')\n",
        "  pre[\"Embarked\"] = df[\"Embarked\"].astype('category')\n",
        "  pre[\"Ticket\"]   = df[\"Ticket\"].astype('category')\n",
        "  pre[\"Fare\"]     = df[\"Fare\"]\n",
        "\n",
        "  pre[\"Title\"]         = df[\"Name\"].apply(extract_titles).astype('category')\n",
        "  pre[\"Grouped_title\"] = pre[\"Title\"].apply(group_titles).astype('category')\n",
        "  pre[\"Deck\"]          = pre[\"Cabin\"].apply(extract_deck).astype('category')\n",
        "  pre[\"Ticket_prefix\"] = df[\"Ticket\"].apply(get_ticket_prefix).astype('category')\n",
        "  pre[\"Age_group\"]     = pre[\"Age\"].apply(extract_age_group).astype('category')\n",
        "\n",
        "\n",
        "  return pre"
      ]
    },
    {
      "cell_type": "markdown",
      "metadata": {
        "id": "_ajb8sKT4rcA"
      },
      "source": [
        "## 2. Trainers for imputing missing data"
      ]
    },
    {
      "cell_type": "code",
      "execution_count": null,
      "metadata": {
        "id": "tt9CjMf60-VT"
      },
      "outputs": [],
      "source": [
        "from sklearn.preprocessing import StandardScaler\n",
        "from sklearn.cluster import KMeans\n",
        "\n",
        "from sklearn.pipeline import Pipeline\n",
        "from sklearn.compose import ColumnTransformer\n",
        "from sklearn.preprocessing import OneHotEncoder\n",
        "from sklearn.linear_model import LinearRegression\n",
        "from scipy.cluster.hierarchy import linkage, fcluster\n",
        "\n",
        "class PreprocessingTrainer:\n",
        "    def __init__(self, raw_train_df):\n",
        "        light_df = light_preprocessing(raw_train_df)\n",
        "        light_df[\"Survived\"] = raw_train_df[\"Survived\"].astype('category')\n",
        "        self.deck_cluster_model = self._get_deck_cluster_mapping(light_df)\n",
        "        self.age_imputer_model = self._train_age_imputer(\n",
        "            light_df,\n",
        "            categorical_cols=[\"Pclass\", \"Grouped_title\", \"Sex\", \"Embarked\", \"Age_group\"]\n",
        "        )\n",
        "        self.prefix_cluster_model = self._train_prefix_cluster(light_df)\n",
        "\n",
        "    def _get_deck_cluster_mapping(self, train_df):\n",
        "        \"\"\"Create deck clustering model\"\"\"\n",
        "        df = train_df.copy()\n",
        "\n",
        "        # Check if Survived column exists\n",
        "        if 'Survived' not in df.columns:\n",
        "            raise ValueError(\"Training data must contain 'Survived' column\")\n",
        "\n",
        "        df['Survived_float'] = df['Survived'].astype(float)\n",
        "        deck_stats = df.groupby('Deck').agg(\n",
        "            mean_survival=('Survived_float', 'mean'),\n",
        "            count=('Survived_float', 'count')\n",
        "        ).reset_index()\n",
        "\n",
        "        scaler = StandardScaler()\n",
        "        X_scaled = scaler.fit_transform(deck_stats[['mean_survival', 'count']])\n",
        "\n",
        "        kmeans = KMeans(n_clusters=3, random_state=42, n_init='auto')\n",
        "        deck_stats['deck_cluster'] = kmeans.fit_predict(X_scaled)\n",
        "\n",
        "        return {\n",
        "            'deck_cluster_map': deck_stats.set_index('Deck')['deck_cluster'].to_dict(),\n",
        "            'scaler': scaler,\n",
        "            'kmeans': kmeans\n",
        "        }\n",
        "\n",
        "    def _train_age_imputer(self, train_df, categorical_cols, target_col=\"Age\"):\n",
        "        \"\"\"Train age imputation model\"\"\"\n",
        "        train_data = train_df[train_df[target_col].notna()]\n",
        "        X_train = train_data[categorical_cols]\n",
        "        y_train = train_data[target_col]\n",
        "\n",
        "        preprocessor = ColumnTransformer([\n",
        "            ('cat', OneHotEncoder(handle_unknown='ignore'), categorical_cols)\n",
        "        ], remainder='passthrough')\n",
        "\n",
        "        model = Pipeline([\n",
        "            ('preprocessor', preprocessor),\n",
        "            ('regressor', LinearRegression())\n",
        "        ])\n",
        "\n",
        "        model.fit(X_train, y_train)\n",
        "        return model\n",
        "\n",
        "    def _train_prefix_cluster(self, train_df, prefix_col='Ticket_prefix', survival_col='Survived'):\n",
        "        \"\"\"Train ticket prefix clustering model\"\"\"\n",
        "        df = train_df.copy()\n",
        "\n",
        "        # Check if Survived column exists\n",
        "        if survival_col not in df.columns:\n",
        "            raise ValueError(\"Training data must contain 'Survived' column\")\n",
        "\n",
        "        df['Survived_float'] = df[survival_col].astype(float)\n",
        "\n",
        "        prefix_stats = df.groupby(prefix_col).agg(\n",
        "            mean_survival=('Survived_float', 'mean'),\n",
        "            count=('Survived_float', 'count')\n",
        "        ).reset_index()\n",
        "\n",
        "        scaler = StandardScaler()\n",
        "        X_scaled = scaler.fit_transform(prefix_stats[['mean_survival', 'count']])\n",
        "        linked = linkage(X_scaled, method='ward')\n",
        "        prefix_stats['prefix_cluster'] = fcluster(linked, t=3, criterion='maxclust')\n",
        "\n",
        "        return {\n",
        "            'cluster_mapping': prefix_stats.set_index(prefix_col)['prefix_cluster'].to_dict(),\n",
        "            'scaler': scaler,\n",
        "            'linkage_matrix': linked\n",
        "        }\n",
        "\n",
        "    def map_deck_to_cluster(self, df):\n",
        "      \"\"\"\n",
        "      Maps Deck to cluster using a pre-trained mapping.\n",
        "      Use this on test data.\n",
        "      \"\"\"\n",
        "      return df['Deck'].map(self.deck_cluster_model['deck_cluster_map']).fillna(-1)  # -1 for unseen decks\n",
        "\n",
        "    def impute_missing_ages(self, df, categorical_cols= [\"Pclass\", \"Grouped_title\", \"Sex\", \"Embarked\", \"Age_group\"], target_col=\"Age\"):\n",
        "      \"\"\"\n",
        "      Uses a pre-trained model to fill missing ages in a DataFrame.\n",
        "      Works for both training and test data.\n",
        "      \"\"\"\n",
        "      df = df.copy()  # Avoid modifying the original DataFrame\n",
        "\n",
        "      # Identify rows with missing Age\n",
        "      missing_age_mask = df[target_col].isna()\n",
        "      if missing_age_mask.sum() == 0:\n",
        "          print(\"No missing ages to impute.\")\n",
        "          return df\n",
        "      # Predict missing ages\n",
        "      X_missing = df.loc[missing_age_mask, categorical_cols]\n",
        "      predicted_ages = self.age_imputer_model.predict(X_missing)\n",
        "\n",
        "      # Fill missing values\n",
        "      df.loc[missing_age_mask, target_col] = predicted_ages\n",
        "\n",
        "      print(f\"✅ Imputed {missing_age_mask.sum()} missing ages.\")\n",
        "      return df\n",
        "    def apply_prefix_cluster(self, df, prefix_col='Ticket_prefix'):\n",
        "      \"\"\"\n",
        "      Applies pre-trained prefix clustering to a DataFrame.\n",
        "      Returns Series with cluster assignments (-1 for unseen prefixes).\n",
        "      \"\"\"\n",
        "      cluster_mapping =  self.prefix_cluster_model['cluster_mapping']\n",
        "      return df[prefix_col].map(cluster_mapping).fillna(-1)  # -1 for unseen prefixes\n"
      ]
    },
    {
      "cell_type": "markdown",
      "metadata": {
        "id": "IIEgTX344vzt"
      },
      "source": [
        "## 3. Full preprocessing"
      ]
    },
    {
      "cell_type": "code",
      "execution_count": null,
      "metadata": {
        "id": "at-i2pxu2HTj"
      },
      "outputs": [],
      "source": [
        "def full_preprocessing(df, trainer):\n",
        "    # --- Raw columns & basic types ---\n",
        "    pre = light_preprocessing(df)\n",
        "\n",
        "    # --- Interaction features ---\n",
        "    pre['Title_Pclass'] = (pre['Title'].astype(str) + '_' + pre['Pclass'].astype(str)).astype('category')\n",
        "    pre['Sex_Pclass']   = (pre['Sex'].astype(str) + '_' + pre['Pclass'].astype(str)).astype('category')\n",
        "\n",
        "    # --- Deck + cluster ---\n",
        "    pre[\"Deck_cluster\"] = pre[\"Deck\"].map(trainer.deck_cluster_model['deck_cluster_map']).fillna(-1)\n",
        "\n",
        "    # --- Family size ---\n",
        "    pre[\"Family_size\"] = df[\"SibSp\"] + df[\"Parch\"]\n",
        "    pre[\"Family_type\"] = pre[\"Family_size\"].apply(extract_family_type).astype('category')\n",
        "    family_size_mapping = {\"Alone\": 1, \"Small\": 2, \"Medium\": 0, \"Large\": -1}\n",
        "    pre[\"Family_type\"] = pre[\"Family_type\"].map(family_size_mapping).astype(int)\n",
        "\n",
        "    # --- Age group ---\n",
        "    pre[\"Age_group\"] = pre[\"Age\"].apply(extract_age_group).astype('category')\n",
        "\n",
        "    # --- Age imputation ---\n",
        "    pre = trainer.impute_missing_ages(pre)\n",
        "\n",
        "    # --- Age group ---\n",
        "    pre[\"Age_group\"] = pre[\"Age\"].apply(extract_age_group).astype('category')\n",
        "    pre['Age_Pclass'] = (pre['Age_group'].astype(str) + '_' + pre['Pclass'].astype(str)).astype('category')\n",
        "\n",
        "    # --- Fill missing embarked ---\n",
        "    pre[\"Embarked\"] = pre.groupby([\"Pclass\", \"Fare\"])[\"Embarked\"].transform(\n",
        "        lambda x: x.fillna(x.mode().iloc[0] if not x.mode().empty else \"S\")\n",
        "    )\n",
        "\n",
        "    # --- Fill missing fare ---\n",
        "    fare_median = pre.groupby([\"Pclass\", \"Embarked\"])[\"Fare\"].median()\n",
        "    global_fare_median = pre[\"Fare\"].median()\n",
        "\n",
        "    pre[\"Fare\"] = pre.apply(\n",
        "        lambda row: row[\"Fare\"] if not pd.isna(row[\"Fare\"]) else safe_fare_fill(row, fare_median, global_fare_median),\n",
        "        axis=1\n",
        "    )\n",
        "\n",
        "    # --- Group size & fare per person ---\n",
        "    pre[\"Group_size\"] = pre.groupby(\"Ticket\")[\"Ticket\"].transform(\"count\").astype('int')\n",
        "    pre[\"Fare_per_person\"] = pre[\"Fare\"] / pre[\"Group_size\"]\n",
        "\n",
        "    # --- Ticket prefix & cluster ---\n",
        "    pre[\"prefix_cluster\"] = pre[\"Ticket_prefix\"].map(trainer.prefix_cluster_model[\"cluster_mapping\"]).fillna(-1)\n",
        "\n",
        "    # --- Drop unnecessary features ---\n",
        "    return pre.drop([\"Cabin\", \"Ticket\", \"Title\", \"Deck\", \"Family_size\", \"Age_group\"], axis=1)\n"
      ]
    },
    {
      "cell_type": "markdown",
      "metadata": {
        "id": "KUpCTDpe41ov"
      },
      "source": [
        "## 4. Apply end-to-end"
      ]
    },
    {
      "cell_type": "code",
      "execution_count": null,
      "metadata": {
        "colab": {
          "base_uri": "https://localhost:8080/"
        },
        "id": "kdDYlHIs43St",
        "outputId": "fe39d55a-ca96-417a-9632-a180d5083802"
      },
      "outputs": [
        {
          "name": "stderr",
          "output_type": "stream",
          "text": [
            "/tmp/ipython-input-1509213073.py:30: FutureWarning: The default of observed=False is deprecated and will be changed to True in a future version of pandas. Pass observed=False to retain current behavior or observed=True to adopt the future default and silence this warning.\n",
            "  deck_stats = df.groupby('Deck').agg(\n",
            "/tmp/ipython-input-1509213073.py:75: FutureWarning: The default of observed=False is deprecated and will be changed to True in a future version of pandas. Pass observed=False to retain current behavior or observed=True to adopt the future default and silence this warning.\n",
            "  prefix_stats = df.groupby(prefix_col).agg(\n"
          ]
        },
        {
          "name": "stdout",
          "output_type": "stream",
          "text": [
            "✅ Imputed 177 missing ages.\n"
          ]
        },
        {
          "name": "stderr",
          "output_type": "stream",
          "text": [
            "/tmp/ipython-input-7588267.py:29: FutureWarning: The default of observed=False is deprecated and will be changed to True in a future version of pandas. Pass observed=False to retain current behavior or observed=True to adopt the future default and silence this warning.\n",
            "  pre[\"Embarked\"] = pre.groupby([\"Pclass\", \"Fare\"])[\"Embarked\"].transform(\n",
            "/tmp/ipython-input-7588267.py:34: FutureWarning: The default of observed=False is deprecated and will be changed to True in a future version of pandas. Pass observed=False to retain current behavior or observed=True to adopt the future default and silence this warning.\n",
            "  fare_median = pre.groupby([\"Pclass\", \"Embarked\"])[\"Fare\"].median()\n",
            "/tmp/ipython-input-7588267.py:43: FutureWarning: The default of observed=False is deprecated and will be changed to True in a future version of pandas. Pass observed=False to retain current behavior or observed=True to adopt the future default and silence this warning.\n",
            "  pre[\"Group_size\"] = pre.groupby(\"Ticket\")[\"Ticket\"].transform(\"count\").astype('int')\n",
            "/tmp/ipython-input-7588267.py:29: FutureWarning: The default of observed=False is deprecated and will be changed to True in a future version of pandas. Pass observed=False to retain current behavior or observed=True to adopt the future default and silence this warning.\n",
            "  pre[\"Embarked\"] = pre.groupby([\"Pclass\", \"Fare\"])[\"Embarked\"].transform(\n"
          ]
        },
        {
          "name": "stdout",
          "output_type": "stream",
          "text": [
            "✅ Imputed 86 missing ages.\n"
          ]
        },
        {
          "name": "stderr",
          "output_type": "stream",
          "text": [
            "/tmp/ipython-input-7588267.py:34: FutureWarning: The default of observed=False is deprecated and will be changed to True in a future version of pandas. Pass observed=False to retain current behavior or observed=True to adopt the future default and silence this warning.\n",
            "  fare_median = pre.groupby([\"Pclass\", \"Embarked\"])[\"Fare\"].median()\n",
            "/tmp/ipython-input-7588267.py:43: FutureWarning: The default of observed=False is deprecated and will be changed to True in a future version of pandas. Pass observed=False to retain current behavior or observed=True to adopt the future default and silence this warning.\n",
            "  pre[\"Group_size\"] = pre.groupby(\"Ticket\")[\"Ticket\"].transform(\"count\").astype('int')\n"
          ]
        }
      ],
      "source": [
        "import pandas as pd\n",
        "import os\n",
        "\n",
        "train_df = pd.read_csv('input/train.csv')\n",
        "test_df = pd.read_csv('input/test.csv')\n",
        "\n",
        "# 1. Train preprocessing models using raw train_df\n",
        "trainer = PreprocessingTrainer(train_df)\n",
        "\n",
        "# 2. Apply full preprocessing\n",
        "train_processed = full_preprocessing(train_df, trainer)\n",
        "test_processed  = full_preprocessing(test_df, trainer)"
      ]
    },
    {
      "cell_type": "code",
      "execution_count": null,
      "metadata": {
        "colab": {
          "base_uri": "https://localhost:8080/"
        },
        "id": "tH7YoDf8K1F8",
        "outputId": "2f35176f-5b4b-4e72-9995-9d3e79246e2e"
      },
      "outputs": [
        {
          "data": {
            "text/plain": [
              "Index(['Pclass', 'Sex', 'Age', 'Embarked', 'Fare', 'Grouped_title',\n",
              "       'Ticket_prefix', 'Title_Pclass', 'Sex_Pclass', 'Deck_cluster',\n",
              "       'Family_type', 'Age_Pclass', 'Group_size', 'Fare_per_person',\n",
              "       'prefix_cluster'],\n",
              "      dtype='object')"
            ]
          },
          "execution_count": 125,
          "metadata": {},
          "output_type": "execute_result"
        }
      ],
      "source": [
        "train_processed.columns"
      ]
    },
    {
      "cell_type": "code",
      "execution_count": null,
      "metadata": {
        "colab": {
          "base_uri": "https://localhost:8080/"
        },
        "id": "b2cOO_JJBi1f",
        "outputId": "fb88148f-1869-4c15-b331-270eaba0ca2e"
      },
      "outputs": [
        {
          "data": {
            "text/plain": [
              "['Pclass',\n",
              " 'Sex',\n",
              " 'Embarked',\n",
              " 'Grouped_title',\n",
              " 'Ticket_prefix',\n",
              " 'Title_Pclass',\n",
              " 'Sex_Pclass',\n",
              " 'Age_Pclass']"
            ]
          },
          "execution_count": 126,
          "metadata": {},
          "output_type": "execute_result"
        }
      ],
      "source": [
        "train_processed.select_dtypes(include=['category', 'object']).columns.tolist()"
      ]
    },
    {
      "cell_type": "code",
      "execution_count": null,
      "metadata": {
        "colab": {
          "base_uri": "https://localhost:8080/"
        },
        "id": "C7Sj_d8BK8oH",
        "outputId": "6d047760-909c-4347-8a44-9edf987a9cde"
      },
      "outputs": [
        {
          "data": {
            "text/plain": [
              "['Age',\n",
              " 'Fare',\n",
              " 'Deck_cluster',\n",
              " 'Family_type',\n",
              " 'Group_size',\n",
              " 'Fare_per_person',\n",
              " 'prefix_cluster']"
            ]
          },
          "execution_count": 127,
          "metadata": {},
          "output_type": "execute_result"
        }
      ],
      "source": [
        "train_processed.select_dtypes(include=['int64', 'float64']).columns.tolist()"
      ]
    },
    {
      "cell_type": "markdown",
      "metadata": {
        "id": "_uXJmq9SEZ6K"
      },
      "source": [
        "# 3. Modeling"
      ]
    },
    {
      "cell_type": "code",
      "execution_count": null,
      "metadata": {
        "id": "bgrSwXldBjlR"
      },
      "outputs": [],
      "source": [
        "from sklearn.model_selection import train_test_split, StratifiedKFold, cross_val_score\n",
        "from sklearn.metrics import accuracy_score\n",
        "\n",
        "from sklearn.preprocessing import OneHotEncoder, LabelEncoder, StandardScaler\n",
        "from sklearn.compose import ColumnTransformer\n",
        "from sklearn.impute import SimpleImputer\n",
        "\n",
        "def prepare_data(train_df, train_processed, test_processed, sparse_output=False):\n",
        "    # Separate target and features\n",
        "    y = train_df['Survived'].astype('category')\n",
        "    X = train_processed.copy()\n",
        "\n",
        "    # Identify column types\n",
        "    categorical_cols = X.select_dtypes(include=['category', 'object']).columns.tolist()\n",
        "    numerical_cols = X.select_dtypes(include=['int64', 'float64']).columns.tolist()\n",
        "\n",
        "    # Create preprocessing pipeline\n",
        "    numerical_transformer = Pipeline(steps=[\n",
        "        ('imputer', SimpleImputer(strategy='median')),\n",
        "        ('scaler', StandardScaler())\n",
        "    ])\n",
        "\n",
        "    categorical_transformer = Pipeline(steps=[\n",
        "        ('imputer', SimpleImputer(strategy='most_frequent')),\n",
        "        ('onehot', OneHotEncoder(handle_unknown='ignore', sparse_output=sparse_output))\n",
        "    ])\n",
        "\n",
        "    preprocessor = ColumnTransformer(\n",
        "        transformers=[\n",
        "            ('num', numerical_transformer, numerical_cols),\n",
        "            ('cat', categorical_transformer, categorical_cols)\n",
        "        ])\n",
        "\n",
        "    # Apply preprocessing\n",
        "    X_processed = preprocessor.fit_transform(X)\n",
        "    X_test_processed = preprocessor.transform(test_processed)\n",
        "\n",
        "    # Convert to dense arrays if sparse_output=False\n",
        "    if not sparse_output:\n",
        "        X_processed = np.asarray(X_processed)\n",
        "        X_test_processed = np.asarray(X_test_processed)\n",
        "\n",
        "    # Train-Test Split for Validation\n",
        "    X_train, X_val, y_train, y_val = train_test_split(\n",
        "        X_processed, y, test_size=0.2, random_state=42)\n",
        "\n",
        "    return X_train, X_val, y_train, y_val, X_test_processed, preprocessor\n",
        "\n",
        "# Prepare the data\n",
        "X_train, X_val, y_train, y_val, X_test, preprocessor = prepare_data(train_df, train_processed, test_processed)"
      ]
    },
    {
      "cell_type": "code",
      "execution_count": null,
      "metadata": {
        "colab": {
          "base_uri": "https://localhost:8080/"
        },
        "id": "9fusU_r4lG0t",
        "outputId": "95fe9cde-9ee9-4d9a-d6cd-f6082c5d404b"
      },
      "outputs": [
        {
          "data": {
            "text/plain": [
              "array([[ 1.20756618, -0.07458307, -1.84736864, ...,  0.        ,\n",
              "         0.        ,  0.        ],\n",
              "       [-0.51303436, -0.38667072,  0.4167379 , ...,  0.        ,\n",
              "         0.        ,  0.        ],\n",
              "       [ 0.17520586, -0.48885426,  0.4167379 , ...,  0.        ,\n",
              "         0.        ,  0.        ],\n",
              "       ...,\n",
              "       [ 0.86344607, -0.36435545,  0.4167379 , ...,  0.        ,\n",
              "         0.        ,  0.        ],\n",
              "       [-1.20127457,  1.76774081, -1.84736864, ...,  0.        ,\n",
              "         0.        ,  1.        ],\n",
              "       [-0.66597663,  0.90773798, -1.84736864, ...,  0.        ,\n",
              "         0.        ,  0.        ]])"
            ]
          },
          "execution_count": 129,
          "metadata": {},
          "output_type": "execute_result"
        }
      ],
      "source": [
        "X_train"
      ]
    },
    {
      "cell_type": "code",
      "execution_count": null,
      "metadata": {
        "colab": {
          "base_uri": "https://localhost:8080/"
        },
        "id": "7FGadl3BHOeG",
        "outputId": "873aaf67-5634-4a06-e9b5-5a1e98801bed"
      },
      "outputs": [
        {
          "name": "stdout",
          "output_type": "stream",
          "text": [
            "Requirement already satisfied: xgboost in /usr/local/lib/python3.11/dist-packages (3.0.2)\n",
            "Requirement already satisfied: catboost in /usr/local/lib/python3.11/dist-packages (1.2.8)\n",
            "Requirement already satisfied: numpy in /usr/local/lib/python3.11/dist-packages (from xgboost) (2.0.2)\n",
            "Requirement already satisfied: nvidia-nccl-cu12 in /usr/local/lib/python3.11/dist-packages (from xgboost) (2.21.5)\n",
            "Requirement already satisfied: scipy in /usr/local/lib/python3.11/dist-packages (from xgboost) (1.16.0)\n",
            "Requirement already satisfied: graphviz in /usr/local/lib/python3.11/dist-packages (from catboost) (0.21)\n",
            "Requirement already satisfied: matplotlib in /usr/local/lib/python3.11/dist-packages (from catboost) (3.10.0)\n",
            "Requirement already satisfied: pandas>=0.24 in /usr/local/lib/python3.11/dist-packages (from catboost) (2.2.2)\n",
            "Requirement already satisfied: plotly in /usr/local/lib/python3.11/dist-packages (from catboost) (5.24.1)\n",
            "Requirement already satisfied: six in /usr/local/lib/python3.11/dist-packages (from catboost) (1.17.0)\n",
            "Requirement already satisfied: python-dateutil>=2.8.2 in /usr/local/lib/python3.11/dist-packages (from pandas>=0.24->catboost) (2.9.0.post0)\n",
            "Requirement already satisfied: pytz>=2020.1 in /usr/local/lib/python3.11/dist-packages (from pandas>=0.24->catboost) (2025.2)\n",
            "Requirement already satisfied: tzdata>=2022.7 in /usr/local/lib/python3.11/dist-packages (from pandas>=0.24->catboost) (2025.2)\n",
            "Requirement already satisfied: contourpy>=1.0.1 in /usr/local/lib/python3.11/dist-packages (from matplotlib->catboost) (1.3.2)\n",
            "Requirement already satisfied: cycler>=0.10 in /usr/local/lib/python3.11/dist-packages (from matplotlib->catboost) (0.12.1)\n",
            "Requirement already satisfied: fonttools>=4.22.0 in /usr/local/lib/python3.11/dist-packages (from matplotlib->catboost) (4.59.0)\n",
            "Requirement already satisfied: kiwisolver>=1.3.1 in /usr/local/lib/python3.11/dist-packages (from matplotlib->catboost) (1.4.8)\n",
            "Requirement already satisfied: packaging>=20.0 in /usr/local/lib/python3.11/dist-packages (from matplotlib->catboost) (25.0)\n",
            "Requirement already satisfied: pillow>=8 in /usr/local/lib/python3.11/dist-packages (from matplotlib->catboost) (11.3.0)\n",
            "Requirement already satisfied: pyparsing>=2.3.1 in /usr/local/lib/python3.11/dist-packages (from matplotlib->catboost) (3.2.3)\n",
            "Requirement already satisfied: tenacity>=6.2.0 in /usr/local/lib/python3.11/dist-packages (from plotly->catboost) (8.5.0)\n",
            "Requirement already satisfied: pytorch_tabnet in /usr/local/lib/python3.11/dist-packages (4.1.0)\n",
            "Requirement already satisfied: numpy>=1.17 in /usr/local/lib/python3.11/dist-packages (from pytorch_tabnet) (2.0.2)\n",
            "Requirement already satisfied: scikit_learn>0.21 in /usr/local/lib/python3.11/dist-packages (from pytorch_tabnet) (1.6.1)\n",
            "Requirement already satisfied: scipy>1.4 in /usr/local/lib/python3.11/dist-packages (from pytorch_tabnet) (1.16.0)\n",
            "Requirement already satisfied: torch>=1.3 in /usr/local/lib/python3.11/dist-packages (from pytorch_tabnet) (2.6.0+cu124)\n",
            "Requirement already satisfied: tqdm>=4.36 in /usr/local/lib/python3.11/dist-packages (from pytorch_tabnet) (4.67.1)\n",
            "Requirement already satisfied: joblib>=1.2.0 in /usr/local/lib/python3.11/dist-packages (from scikit_learn>0.21->pytorch_tabnet) (1.5.1)\n",
            "Requirement already satisfied: threadpoolctl>=3.1.0 in /usr/local/lib/python3.11/dist-packages (from scikit_learn>0.21->pytorch_tabnet) (3.6.0)\n",
            "Requirement already satisfied: filelock in /usr/local/lib/python3.11/dist-packages (from torch>=1.3->pytorch_tabnet) (3.18.0)\n",
            "Requirement already satisfied: typing-extensions>=4.10.0 in /usr/local/lib/python3.11/dist-packages (from torch>=1.3->pytorch_tabnet) (4.14.1)\n",
            "Requirement already satisfied: networkx in /usr/local/lib/python3.11/dist-packages (from torch>=1.3->pytorch_tabnet) (3.5)\n",
            "Requirement already satisfied: jinja2 in /usr/local/lib/python3.11/dist-packages (from torch>=1.3->pytorch_tabnet) (3.1.6)\n",
            "Requirement already satisfied: fsspec in /usr/local/lib/python3.11/dist-packages (from torch>=1.3->pytorch_tabnet) (2025.3.0)\n",
            "Requirement already satisfied: nvidia-cuda-nvrtc-cu12==12.4.127 in /usr/local/lib/python3.11/dist-packages (from torch>=1.3->pytorch_tabnet) (12.4.127)\n",
            "Requirement already satisfied: nvidia-cuda-runtime-cu12==12.4.127 in /usr/local/lib/python3.11/dist-packages (from torch>=1.3->pytorch_tabnet) (12.4.127)\n",
            "Requirement already satisfied: nvidia-cuda-cupti-cu12==12.4.127 in /usr/local/lib/python3.11/dist-packages (from torch>=1.3->pytorch_tabnet) (12.4.127)\n",
            "Requirement already satisfied: nvidia-cudnn-cu12==9.1.0.70 in /usr/local/lib/python3.11/dist-packages (from torch>=1.3->pytorch_tabnet) (9.1.0.70)\n",
            "Requirement already satisfied: nvidia-cublas-cu12==12.4.5.8 in /usr/local/lib/python3.11/dist-packages (from torch>=1.3->pytorch_tabnet) (12.4.5.8)\n",
            "Requirement already satisfied: nvidia-cufft-cu12==11.2.1.3 in /usr/local/lib/python3.11/dist-packages (from torch>=1.3->pytorch_tabnet) (11.2.1.3)\n",
            "Requirement already satisfied: nvidia-curand-cu12==10.3.5.147 in /usr/local/lib/python3.11/dist-packages (from torch>=1.3->pytorch_tabnet) (10.3.5.147)\n",
            "Requirement already satisfied: nvidia-cusolver-cu12==11.6.1.9 in /usr/local/lib/python3.11/dist-packages (from torch>=1.3->pytorch_tabnet) (11.6.1.9)\n",
            "Requirement already satisfied: nvidia-cusparse-cu12==12.3.1.170 in /usr/local/lib/python3.11/dist-packages (from torch>=1.3->pytorch_tabnet) (12.3.1.170)\n",
            "Requirement already satisfied: nvidia-cusparselt-cu12==0.6.2 in /usr/local/lib/python3.11/dist-packages (from torch>=1.3->pytorch_tabnet) (0.6.2)\n",
            "Requirement already satisfied: nvidia-nccl-cu12==2.21.5 in /usr/local/lib/python3.11/dist-packages (from torch>=1.3->pytorch_tabnet) (2.21.5)\n",
            "Requirement already satisfied: nvidia-nvtx-cu12==12.4.127 in /usr/local/lib/python3.11/dist-packages (from torch>=1.3->pytorch_tabnet) (12.4.127)\n",
            "Requirement already satisfied: nvidia-nvjitlink-cu12==12.4.127 in /usr/local/lib/python3.11/dist-packages (from torch>=1.3->pytorch_tabnet) (12.4.127)\n",
            "Requirement already satisfied: triton==3.2.0 in /usr/local/lib/python3.11/dist-packages (from torch>=1.3->pytorch_tabnet) (3.2.0)\n",
            "Requirement already satisfied: sympy==1.13.1 in /usr/local/lib/python3.11/dist-packages (from torch>=1.3->pytorch_tabnet) (1.13.1)\n",
            "Requirement already satisfied: mpmath<1.4,>=1.1.0 in /usr/local/lib/python3.11/dist-packages (from sympy==1.13.1->torch>=1.3->pytorch_tabnet) (1.3.0)\n",
            "Requirement already satisfied: MarkupSafe>=2.0 in /usr/local/lib/python3.11/dist-packages (from jinja2->torch>=1.3->pytorch_tabnet) (3.0.2)\n"
          ]
        }
      ],
      "source": [
        "!pip install xgboost catboost\n",
        "!pip install pytorch_tabnet"
      ]
    },
    {
      "cell_type": "code",
      "execution_count": null,
      "metadata": {
        "colab": {
          "base_uri": "https://localhost:8080/",
          "height": 1000
        },
        "id": "Q6EicZG9Fkdp",
        "outputId": "e18617c1-e155-4c64-b0be-66101fca972f"
      },
      "outputs": [
        {
          "name": "stdout",
          "output_type": "stream",
          "text": [
            "Evaluating: LR\n",
            "Completed: LR - Mean Accuracy: 0.8329 ± 0.0380\n",
            "Evaluating: DT\n",
            "Completed: DT - Mean Accuracy: 0.7950 ± 0.0380\n",
            "Evaluating: RF\n",
            "Completed: RF - Mean Accuracy: 0.8175 ± 0.0346\n",
            "Evaluating: SVC\n",
            "Completed: SVC - Mean Accuracy: 0.8301 ± 0.0364\n",
            "Evaluating: ET\n",
            "Completed: ET - Mean Accuracy: 0.8091 ± 0.0532\n",
            "Evaluating: GB\n",
            "Completed: GB - Mean Accuracy: 0.8288 ± 0.0488\n",
            "Evaluating: Ada\n",
            "Completed: Ada - Mean Accuracy: 0.7880 ± 0.0321\n",
            "Evaluating: KNN\n",
            "Completed: KNN - Mean Accuracy: 0.8259 ± 0.0363\n",
            "Evaluating: XGB\n",
            "Completed: XGB - Mean Accuracy: 0.8119 ± 0.0345\n",
            "Evaluating: Cat\n",
            "Completed: Cat - Mean Accuracy: 0.8428 ± 0.0465\n",
            "Evaluating: MLP\n",
            "Completed: MLP - Mean Accuracy: 0.8202 ± 0.0472\n",
            "Evaluating: LDA\n",
            "Completed: LDA - Mean Accuracy: 0.8245 ± 0.0463\n",
            "Evaluating: QDA\n",
            "Completed: QDA - Mean Accuracy: 0.4566 ± 0.0623\n",
            "Evaluating: LGB\n",
            "Completed: LGB - Mean Accuracy: 0.8147 ± 0.0424\n",
            "Evaluating: HistGB\n",
            "Completed: HistGB - Mean Accuracy: 0.8175 ± 0.0319\n",
            "Evaluating: TabNet\n"
          ]
        },
        {
          "name": "stderr",
          "output_type": "stream",
          "text": [
            "/usr/local/lib/python3.11/dist-packages/joblib/externals/loky/process_executor.py:782: UserWarning: A worker stopped while some jobs were given to the executor. This can be caused by a too short worker timeout or by a memory leak.\n",
            "  warnings.warn(\n"
          ]
        },
        {
          "name": "stdout",
          "output_type": "stream",
          "text": [
            "Completed: TabNet - Mean Accuracy: 0.4297 ± 0.0507\n"
          ]
        },
        {
          "data": {
            "image/png": "[encoded data removed]",
            "text/plain": [
              "<Figure size 1200x800 with 1 Axes>"
            ]
          },
          "metadata": {},
          "output_type": "display_data"
        },
        {
          "name": "stdout",
          "output_type": "stream",
          "text": [
            "\n",
            "Cross Validation Results:\n",
            "     Model  MeanAccuracy    StdDev  MinAccuracy  MaxAccuracy\n",
            "9      Cat      0.842801  0.046497     0.760563     0.887324\n",
            "0       LR      0.832864  0.037965     0.746479     0.861111\n",
            "3      SVC      0.830145  0.036372     0.763889     0.873239\n",
            "5       GB      0.828775  0.048822     0.736111     0.873239\n",
            "7      KNN      0.825919  0.036301     0.763889     0.873239\n",
            "11     LDA      0.824452  0.046280     0.718310     0.873239\n",
            "10     MLP      0.820246  0.047232     0.746479     0.901408\n",
            "14  HistGB      0.817527  0.031867     0.750000     0.859155\n",
            "2       RF      0.817488  0.034552     0.746479     0.845070\n",
            "13     LGB      0.814730  0.042379     0.750000     0.873239\n",
            "8      XGB      0.811894  0.034485     0.750000     0.845070\n",
            "4       ET      0.809096  0.053207     0.708333     0.859155\n",
            "1       DT      0.794992  0.037986     0.732394     0.830986\n",
            "6      Ada      0.788028  0.032148     0.750000     0.845070\n",
            "12     QDA      0.456553  0.062328     0.388889     0.605634\n",
            "15  TabNet      0.429734  0.050654     0.352113     0.507042\n",
            "\n",
            "Training and evaluating best model: Cat\n",
            "Validation Accuracy: 0.8380\n",
            "\n",
            "Feature Importances:\n",
            "             Feature  Importance\n",
            "0                Age   15.883671\n",
            "5    Fare_per_person   11.356710\n",
            "16  Grouped_title_Mr   10.931013\n",
            "1               Fare   10.028477\n",
            "10        Sex_female    8.430574\n",
            "3        Family_type    5.809650\n",
            "2       Deck_cluster    4.068129\n",
            "6     prefix_cluster    2.596791\n",
            "4         Group_size    2.376506\n",
            "7          Pclass_-1    2.261536\n"
          ]
        },
        {
          "data": {
            "image/png": "[encoded data removed]",
            "text/plain": [
              "<Figure size 1000x600 with 1 Axes>"
            ]
          },
          "metadata": {},
          "output_type": "display_data"
        }
      ],
      "source": [
        "# Models\n",
        "from sklearn.linear_model import LogisticRegression\n",
        "from sklearn.tree import DecisionTreeClassifier\n",
        "from sklearn.ensemble import RandomForestClassifier, ExtraTreesClassifier, GradientBoostingClassifier, AdaBoostClassifier\n",
        "from sklearn.svm import SVC\n",
        "from sklearn.neighbors import KNeighborsClassifier\n",
        "from xgboost import XGBClassifier\n",
        "from catboost import CatBoostClassifier\n",
        "from sklearn.neural_network import MLPClassifier\n",
        "from sklearn.discriminant_analysis import LinearDiscriminantAnalysis, QuadraticDiscriminantAnalysis\n",
        "from scipy.sparse import issparse\n",
        "import lightgbm as lgb\n",
        "from pytorch_tabnet.tab_model import TabNetClassifier\n",
        "from sklearn.ensemble import HistGradientBoostingClassifier\n",
        "import torch\n",
        "\n",
        "# Prepare the data - first try with sparse=False for LDA/QDA\n",
        "try:\n",
        "    X_train, X_val, y_train, y_val, X_test, preprocessor = prepare_data(\n",
        "        train_df, train_processed, test_processed, sparse_output=False)\n",
        "except Exception as e:\n",
        "    print(f\"Error with dense matrices: {e}\\nTrying with sparse matrices...\")\n",
        "    X_train, X_val, y_train, y_val, X_test, preprocessor = prepare_data(\n",
        "        train_df, train_processed, test_processed, sparse_output=True)\n",
        "\n",
        "# Initialize models list\n",
        "models = []\n",
        "\n",
        "# Traditional models\n",
        "models.append(('LR', LogisticRegression(max_iter=1000, random_state=42)))\n",
        "models.append(('DT', DecisionTreeClassifier(random_state=42)))\n",
        "models.append(('RF', RandomForestClassifier(random_state=42)))\n",
        "models.append(('SVC', SVC(random_state=42, probability=True)))\n",
        "models.append(('ET', ExtraTreesClassifier(random_state=42)))\n",
        "models.append(('GB', GradientBoostingClassifier(random_state=42)))\n",
        "models.append(('Ada', AdaBoostClassifier(\n",
        "    DecisionTreeClassifier(max_depth=1, random_state=42),\n",
        "    learning_rate=0.1,\n",
        "    random_state=42)))\n",
        "models.append(('KNN', KNeighborsClassifier()))\n",
        "\n",
        "# Modern gradient boosting models (often the best for tabular data)\n",
        "models.append(('XGB', XGBClassifier(\n",
        "    random_state=42,\n",
        "    eval_metric='logloss',\n",
        "    n_jobs=-1,\n",
        "    n_estimators=100)))\n",
        "\n",
        "models.append(('Cat', CatBoostClassifier(\n",
        "    iterations=200,\n",
        "    learning_rate=0.1,\n",
        "    depth=6,\n",
        "    random_state=42,\n",
        "    verbose=False,\n",
        "    thread_count=-1)))\n",
        "\n",
        "# Neural network models\n",
        "models.append(('MLP', MLPClassifier(random_state=42, max_iter=1000)))\n",
        "\n",
        "# Only add LDA/QDA if we have dense matrices\n",
        "if not issparse(X_train):  # If not sparse\n",
        "    models.append(('LDA', LinearDiscriminantAnalysis()))\n",
        "    models.append(('QDA', QuadraticDiscriminantAnalysis()))\n",
        "\n",
        "# Add LightGBM if available (often top performer for tabular data)\n",
        "models.append(('LGB', lgb.LGBMClassifier(\n",
        "        random_state=42,\n",
        "        n_estimators=100,\n",
        "        verbose=-1,\n",
        "        n_jobs=-1)))\n",
        "\n",
        "# Add HistGradientBoosting (sklearn's native gradient boosting, very fast)\n",
        "models.append(('HistGB', HistGradientBoostingClassifier(\n",
        "        random_state=42,\n",
        "        max_iter=100)))\n",
        "\n",
        "# Add TabNet (attention-based deep learning for tabular data)\n",
        "models.append(('TabNet', TabNetClassifier(\n",
        "        seed=42,\n",
        "        verbose=0,\n",
        "        n_d=8, n_a=8,  # Architecture parameters\n",
        "        n_steps=3,     # Number of steps in the architecture\n",
        "        gamma=1.3,     # Coefficient for feature reusage in the masks\n",
        "        lambda_sparse=1e-3,  # Sparsity regularization\n",
        "        optimizer_fn=torch.optim.Adam,\n",
        "        optimizer_params=dict(lr=2e-2),\n",
        "        mask_type='sparsemax',\n",
        "        scheduler_params={\"step_size\":10, \"gamma\":0.9},\n",
        "        scheduler_fn=torch.optim.lr_scheduler.StepLR)))\n",
        "\n",
        "# Cross validate model with Kfold stratified cross val\n",
        "kfold = StratifiedKFold(n_splits=10, shuffle=True, random_state=42)\n",
        "\n",
        "cv_results = []\n",
        "cv_names = []\n",
        "failed_models = []\n",
        "\n",
        "for name, model in models:\n",
        "    try:\n",
        "        print(f'Evaluating: {name}')\n",
        "        # Convert to dense if needed for the current model\n",
        "        if name in ['LDA', 'QDA'] and issparse(X_train):\n",
        "            X_train_dense = X_train.toarray()\n",
        "            scores = cross_val_score(model, X_train_dense, y_train,\n",
        "                                  scoring=\"accuracy\", cv=kfold, n_jobs=-1)\n",
        "        else:\n",
        "            scores = cross_val_score(model, X_train, y_train,\n",
        "                                  scoring=\"accuracy\", cv=kfold, n_jobs=-1)\n",
        "        cv_results.append(scores)\n",
        "        cv_names.append(name)\n",
        "        print(f'Completed: {name} - Mean Accuracy: {np.mean(scores):.4f} ± {np.std(scores):.4f}')\n",
        "    except Exception as e:\n",
        "        print(f'Failed: {name} - Error: {str(e)}')\n",
        "        failed_models.append(name)\n",
        "        continue\n",
        "\n",
        "# Calculate performance metrics only for successful models\n",
        "cv_means = [np.mean(scores) for scores in cv_results]\n",
        "cv_std = [np.std(scores) for scores in cv_results]\n",
        "cv_min = [np.min(scores) for scores in cv_results]\n",
        "cv_max = [np.max(scores) for scores in cv_results]\n",
        "\n",
        "# Create results dataframe\n",
        "cv_res = pd.DataFrame({\n",
        "    \"Model\": cv_names,\n",
        "    \"MeanAccuracy\": cv_means,\n",
        "    \"StdDev\": cv_std,\n",
        "    \"MinAccuracy\": cv_min,\n",
        "    \"MaxAccuracy\": cv_max\n",
        "}).sort_values(by=\"MeanAccuracy\", ascending=False)\n",
        "\n",
        "# Plot results with fixed error bars\n",
        "plt.figure(figsize=(12, 8))\n",
        "g = sns.barplot(x=\"MeanAccuracy\", y=\"Model\", data=cv_res, orient=\"h\",\n",
        "               palette=\"viridis\", hue=\"Model\", legend=False)\n",
        "# Add error bars manually\n",
        "for i, (idx, row) in enumerate(cv_res.iterrows()):\n",
        "    g.errorbar(row['MeanAccuracy'], i, xerr=row['StdDev'],\n",
        "               fmt='none', ecolor='black', capsize=3, capthick=1)\n",
        "\n",
        "g.set_xlabel(\"Average Accuracy\")\n",
        "g.set_title(\"K-fold Cross Validation Results (10 folds)\")\n",
        "plt.xlim(0.5, 1.0)\n",
        "plt.tight_layout()\n",
        "plt.show()\n",
        "\n",
        "# Print the results\n",
        "print(\"\\nCross Validation Results:\")\n",
        "print(cv_res)\n",
        "\n",
        "if failed_models:\n",
        "    print(\"\\nModels that failed during evaluation:\", failed_models)\n",
        "\n",
        "# Train and evaluate the best model\n",
        "best_model_name = cv_res.iloc[0]['Model']\n",
        "best_model = next(model for name, model in models if name == best_model_name)\n",
        "\n",
        "print(f\"\\nTraining and evaluating best model: {best_model_name}\")\n",
        "\n",
        "# Handle sparse matrices for the best model if needed\n",
        "if best_model_name in ['LDA', 'QDA'] and issparse(X_train):\n",
        "    X_train_fit = X_train.toarray()\n",
        "    X_val_fit = X_val.toarray()\n",
        "else:\n",
        "    X_train_fit = X_train\n",
        "    X_val_fit = X_val\n",
        "\n",
        "best_model.fit(X_train_fit, y_train)\n",
        "\n",
        "# Validation performance\n",
        "val_predictions = best_model.predict(X_val_fit)\n",
        "val_accuracy = accuracy_score(y_val, val_predictions)\n",
        "print(f\"Validation Accuracy: {val_accuracy:.4f}\")\n",
        "\n",
        "# Feature importance (for models that support it)\n",
        "if hasattr(best_model, 'feature_importances_'):\n",
        "    print(\"\\nFeature Importances:\")\n",
        "    try:\n",
        "        # Get feature names from preprocessor\n",
        "        numerical_cols = preprocessor.transformers_[0][2]  # numerical columns\n",
        "        categorical_cols = preprocessor.transformers_[1][2]  # categorical columns\n",
        "\n",
        "        # Get one-hot encoded feature names\n",
        "        onehot_encoder = preprocessor.named_transformers_['cat'].named_steps['onehot']\n",
        "        onehot_columns = list(onehot_encoder.get_feature_names_out(categorical_cols))\n",
        "\n",
        "        # Combine all feature names\n",
        "        all_features = list(numerical_cols) + onehot_columns\n",
        "\n",
        "        # Create importance dataframe\n",
        "        importances = pd.DataFrame({\n",
        "            'Feature': all_features,\n",
        "            'Importance': best_model.feature_importances_\n",
        "        }).sort_values('Importance', ascending=False)\n",
        "\n",
        "        print(importances.head(10))\n",
        "\n",
        "        # Plot top features\n",
        "        plt.figure(figsize=(10, 6))\n",
        "        sns.barplot(x='Importance', y='Feature', data=importances.head(20),\n",
        "                   palette=\"viridis\", hue='Feature', legend=False)\n",
        "        plt.title('Top 20 Important Features')\n",
        "        plt.tight_layout()\n",
        "        plt.show()\n",
        "    except Exception as e:\n",
        "        print(\"Could not display feature importances:\", str(e))"
      ]
    },
    {
      "cell_type": "markdown",
      "metadata": {
        "id": "cmWSW0RbSe6p"
      },
      "source": [
        "CatBoost is the winner (84.28% on test set).\n",
        "\n",
        "Logistic Regression is surprisingly strong (83.26%).\n",
        "\n",
        "TabNet underperformed (42.97%) - This is common on smaller datasets; TabNet needs larger datasets to shine\n",
        "\n",
        "QDA failed completely (45.65%) - Likely due to assumptions not being met.\n",
        "\n",
        "Conclusion: simpler, well-tuned models often beat complex ones on smaller datasets like Titanic."
      ]
    },
    {
      "cell_type": "code",
      "execution_count": null,
      "metadata": {
        "colab": {
          "base_uri": "https://localhost:8080/"
        },
        "id": "b1R5wx4zS4du",
        "outputId": "909cb4b2-79f3-4f6c-8fce-5f38859a0f06"
      },
      "outputs": [
        {
          "name": "stdout",
          "output_type": "stream",
          "text": [
            "Evaluating Ensemble Models:\n",
            "==================================================\n",
            "Evaluating: Hard_Vote\n",
            "Completed: Hard_Vote - Mean Accuracy: 0.8315 ± 0.0429\n",
            "Evaluating: Soft_Vote\n",
            "Completed: Soft_Vote - Mean Accuracy: 0.8413 ± 0.0406\n",
            "Evaluating: Top3_Soft\n",
            "Completed: Top3_Soft - Mean Accuracy: 0.8414 ± 0.0424\n",
            "\n",
            "Ensemble Results:\n",
            "    Model  MeanAccuracy   StdDev  MinAccuracy  MaxAccuracy\n",
            "Hard_Vote      0.831514 0.042856     0.746479     0.873239\n",
            "Soft_Vote      0.841334 0.040570     0.760563     0.901408\n",
            "Top3_Soft      0.841354 0.042354     0.746479     0.873239\n",
            "\n",
            "Comparison:\n",
            "Best Individual Model (CatBoost): 0.8386 ± 0.0440\n",
            "Best Ensemble (Hard_Vote): 0.8315 ± 0.0429\n"
          ]
        }
      ],
      "source": [
        "# Ensemble the top performing models\n",
        "from sklearn.ensemble import VotingClassifier\n",
        "from sklearn.model_selection import cross_val_score\n",
        "\n",
        "# Get the top 5 models based on your results\n",
        "top_models = [\n",
        "    ('Cat', CatBoostClassifier(iterations=200, learning_rate=0.1, depth=6,\n",
        "                               random_state=42, verbose=False, thread_count=-1)),\n",
        "    ('LR', LogisticRegression(max_iter=1000, random_state=42)),\n",
        "    ('GB', GradientBoostingClassifier(random_state=42)),\n",
        "    ('LDA', LinearDiscriminantAnalysis()),\n",
        "    ('SVC', SVC(random_state=42, probability=True))\n",
        "]\n",
        "\n",
        "# Create different ensemble strategies\n",
        "ensembles = []\n",
        "\n",
        "# 1. Simple Voting Classifier (Hard Voting)\n",
        "hard_voting = VotingClassifier(estimators=top_models, voting='hard')\n",
        "ensembles.append(('Hard_Vote', hard_voting))\n",
        "\n",
        "# 2. Soft Voting Classifier (uses probabilities)\n",
        "soft_voting = VotingClassifier(estimators=top_models, voting='soft')\n",
        "ensembles.append(('Soft_Vote', soft_voting))\n",
        "\n",
        "# 3. Top 3 only (often works better)\n",
        "top_3_models = [\n",
        "    ('Cat', CatBoostClassifier(iterations=200, learning_rate=0.1, depth=6,\n",
        "                               random_state=42, verbose=False, thread_count=-1)),\n",
        "    ('LR', LogisticRegression(max_iter=1000, random_state=42)),\n",
        "    ('GB', GradientBoostingClassifier(random_state=42))\n",
        "]\n",
        "top3_soft = VotingClassifier(estimators=top_3_models, voting='soft')\n",
        "ensembles.append(('Top3_Soft', top3_soft))\n",
        "\n",
        "# Evaluate ensembles\n",
        "print(\"Evaluating Ensemble Models:\")\n",
        "print(\"=\"*50)\n",
        "\n",
        "kfold = StratifiedKFold(n_splits=10, shuffle=True, random_state=42)\n",
        "ensemble_results = []\n",
        "\n",
        "for name, ensemble in ensembles:\n",
        "    try:\n",
        "        print(f'Evaluating: {name}')\n",
        "        # Handle sparse matrices if needed\n",
        "        X_train_dense = X_train.toarray() if issparse(X_train) else X_train\n",
        "        scores = cross_val_score(ensemble, X_train_dense, y_train,\n",
        "                               scoring=\"accuracy\", cv=kfold, n_jobs=-1)\n",
        "        ensemble_results.append({\n",
        "            'Model': name,\n",
        "            'MeanAccuracy': np.mean(scores),\n",
        "            'StdDev': np.std(scores),\n",
        "            'MinAccuracy': np.min(scores),\n",
        "            'MaxAccuracy': np.max(scores)\n",
        "        })\n",
        "        print(f'Completed: {name} - Mean Accuracy: {np.mean(scores):.4f} ± {np.std(scores):.4f}')\n",
        "    except Exception as e:\n",
        "        print(f'Failed: {name} - Error: {str(e)}')\n",
        "\n",
        "# Create ensemble results dataframe\n",
        "ensemble_df = pd.DataFrame(ensemble_results)\n",
        "print(\"\\nEnsemble Results:\")\n",
        "print(ensemble_df.to_string(index=False))\n",
        "\n",
        "# Compare with individual models\n",
        "print(f\"\\nComparison:\")\n",
        "print(f\"Best Individual Model (CatBoost): 0.8386 ± 0.0440\")\n",
        "if not ensemble_df.empty:\n",
        "    best_ensemble = ensemble_df.iloc[0]\n",
        "    print(f\"Best Ensemble ({best_ensemble['Model']}): {best_ensemble['MeanAccuracy']:.4f} ± {best_ensemble['StdDev']:.4f}\")"
      ]
    },
    {
      "cell_type": "markdown",
      "metadata": {
        "id": "vxFpo03FS869"
      },
      "source": [
        "## Hyper-parameter tuning for CatBoost"
      ]
    },
    {
      "cell_type": "code",
      "execution_count": null,
      "metadata": {
        "colab": {
          "base_uri": "https://localhost:8080/"
        },
        "id": "YqJRcRqzYgfp",
        "outputId": "37ed7faf-8af5-49fc-dcdc-ddf05e862936"
      },
      "outputs": [
        {
          "name": "stdout",
          "output_type": "stream",
          "text": [
            "Collecting optuna\n",
            "  Downloading optuna-4.4.0-py3-none-any.whl.metadata (17 kB)\n",
            "Collecting alembic>=1.5.0 (from optuna)\n",
            "  Downloading alembic-1.16.4-py3-none-any.whl.metadata (7.3 kB)\n",
            "Collecting colorlog (from optuna)\n",
            "  Downloading colorlog-6.9.0-py3-none-any.whl.metadata (10 kB)\n",
            "Requirement already satisfied: numpy in /usr/local/lib/python3.11/dist-packages (from optuna) (2.0.2)\n",
            "Requirement already satisfied: packaging>=20.0 in /usr/local/lib/python3.11/dist-packages (from optuna) (25.0)\n",
            "Requirement already satisfied: sqlalchemy>=1.4.2 in /usr/local/lib/python3.11/dist-packages (from optuna) (2.0.41)\n",
            "Requirement already satisfied: tqdm in /usr/local/lib/python3.11/dist-packages (from optuna) (4.67.1)\n",
            "Requirement already satisfied: PyYAML in /usr/local/lib/python3.11/dist-packages (from optuna) (6.0.2)\n",
            "Requirement already satisfied: Mako in /usr/lib/python3/dist-packages (from alembic>=1.5.0->optuna) (1.1.3)\n",
            "Requirement already satisfied: typing-extensions>=4.12 in /usr/local/lib/python3.11/dist-packages (from alembic>=1.5.0->optuna) (4.14.1)\n",
            "Requirement already satisfied: greenlet>=1 in /usr/local/lib/python3.11/dist-packages (from sqlalchemy>=1.4.2->optuna) (3.2.3)\n",
            "Downloading optuna-4.4.0-py3-none-any.whl (395 kB)\n",
            "\u001b[2K   \u001b[90m━━━━━━━━━━━━━━━━━━━━━━━━━━━━━━━━━━━━━━━━\u001b[0m \u001b[32m395.9/395.9 kB\u001b[0m \u001b[31m7.6 MB/s\u001b[0m eta \u001b[36m0:00:00\u001b[0m\n",
            "\u001b[?25hDownloading alembic-1.16.4-py3-none-any.whl (247 kB)\n",
            "\u001b[2K   \u001b[90m━━━━━━━━━━━━━━━━━━━━━━━━━━━━━━━━━━━━━━━━\u001b[0m \u001b[32m247.0/247.0 kB\u001b[0m \u001b[31m7.7 MB/s\u001b[0m eta \u001b[36m0:00:00\u001b[0m\n",
            "\u001b[?25hDownloading colorlog-6.9.0-py3-none-any.whl (11 kB)\n",
            "Installing collected packages: colorlog, alembic, optuna\n",
            "Successfully installed alembic-1.16.4 colorlog-6.9.0 optuna-4.4.0\n"
          ]
        }
      ],
      "source": [
        "!pip install optuna"
      ]
    },
    {
      "cell_type": "code",
      "execution_count": null,
      "metadata": {
        "colab": {
          "base_uri": "https://localhost:8080/"
        },
        "id": "amq6fkF_TJ6k",
        "outputId": "28bf102d-d026-4281-de3b-7dfdfccb63a8"
      },
      "outputs": [
        {
          "name": "stdout",
          "output_type": "stream",
          "text": [
            "Strategy 1: Conservative Parameter Tuning\n",
            "==================================================\n",
            "Conservative Tuning - Nested CV Score: 0.8413 ± 0.0193\n",
            "\n",
            "Strategy 2: Fine-tune Around Original Parameters\n",
            "==================================================\n",
            "Best parameters near original: {'learning_rate': 0.08, 'l2_leaf_reg': 3, 'iterations': 200, 'depth': 7, 'border_count': 255}\n",
            "Fine-tuned Model: 0.8386 ± 0.0329\n",
            "\n",
            "Strategy 3: Regularization-Focused Tuning\n",
            "==================================================\n",
            "Regularization-focused: 0.8371 ± 0.0414\n",
            "Best reg parameters: {'random_strength': 1.5, 'learning_rate': 0.1, 'l2_leaf_reg': 9, 'iterations': 200, 'depth': 6, 'bagging_temperature': 0.5}\n",
            "\n",
            "============================================================\n",
            "FINAL COMPARISON\n",
            "============================================================\n",
            "Original CatBoost:      0.8386 ± 0.0440\n",
            "Aggressive Tuning:      0.8344 ± 0.0436  (worse)\n",
            "Conservative Tuning:    0.8413 ± 0.0193\n",
            "Fine-tuned:             0.8386 ± 0.0329\n",
            "Regularization-focused: 0.8371 ± 0.0414\n",
            "\n",
            "RECOMMENDATION: Use Conservative approach (Score: 0.8413)\n",
            "\n",
            "Final model selected: CatBoostClassifier\n",
            "Final parameters: {'learning_rate': 0.05, 'l2_leaf_reg': 5, 'iterations': 300, 'depth': 5}\n"
          ]
        }
      ],
      "source": [
        "# Better hyperparameter tuning strategy for small datasets\n",
        "from sklearn.model_selection import RandomizedSearchCV, StratifiedKFold\n",
        "from sklearn.metrics import accuracy_score\n",
        "import optuna  # Advanced optimization library\n",
        "\n",
        "# Strategy 1: Conservative tuning with fewer parameters\n",
        "print(\"Strategy 1: Conservative Parameter Tuning\")\n",
        "print(\"=\"*50)\n",
        "\n",
        "# Focus on the most impactful parameters only\n",
        "conservative_params = {\n",
        "    'iterations': [150, 200, 250, 300],  # Around the default\n",
        "    'learning_rate': [0.05, 0.1, 0.15],  # Conservative range\n",
        "    'depth': [5, 6, 7],  # Don't go too deep on small dataset\n",
        "    'l2_leaf_reg': [3, 5, 7]  # Regularization is important for small datasets\n",
        "}\n",
        "\n",
        "catboost_conservative = CatBoostClassifier(\n",
        "    random_state=42,\n",
        "    verbose=False,\n",
        "    thread_count=-1,\n",
        "    early_stopping_rounds=20  # Add early stopping\n",
        ")\n",
        "\n",
        "# Use nested CV to get unbiased estimate\n",
        "outer_cv = StratifiedKFold(n_splits=5, shuffle=True, random_state=42)\n",
        "inner_cv = StratifiedKFold(n_splits=3, shuffle=True, random_state=42)\n",
        "\n",
        "X_train_dense = X_train.toarray() if issparse(X_train) else X_train\n",
        "\n",
        "conservative_search = RandomizedSearchCV(\n",
        "    estimator=catboost_conservative,\n",
        "    param_distributions=conservative_params,\n",
        "    n_iter=20,  # Fewer iterations\n",
        "    cv=inner_cv,\n",
        "    scoring='accuracy',\n",
        "    n_jobs=-1,\n",
        "    random_state=42\n",
        ")\n",
        "\n",
        "# Nested CV evaluation\n",
        "nested_scores = []\n",
        "for train_idx, test_idx in outer_cv.split(X_train_dense, y_train):\n",
        "    X_fold_train, X_fold_test = X_train_dense[train_idx], X_train_dense[test_idx]\n",
        "    y_fold_train, y_fold_test = y_train.iloc[train_idx], y_train.iloc[test_idx]\n",
        "\n",
        "    conservative_search.fit(X_fold_train, y_fold_train)\n",
        "    best_model = conservative_search.best_estimator_\n",
        "    pred = best_model.predict(X_fold_test)\n",
        "    nested_scores.append(accuracy_score(y_fold_test, pred))\n",
        "\n",
        "print(f\"Conservative Tuning - Nested CV Score: {np.mean(nested_scores):.4f} ± {np.std(nested_scores):.4f}\")\n",
        "\n",
        "# Strategy 2: Use original parameters with slight variations\n",
        "print(\"\\nStrategy 2: Fine-tune Around Original Parameters\")\n",
        "print(\"=\"*50)\n",
        "\n",
        "# Your original CatBoost was: iterations=200, learning_rate=0.1, depth=6\n",
        "original_vicinity_params = {\n",
        "    'iterations': [180, 200, 220],\n",
        "    'learning_rate': [0.08, 0.1, 0.12],\n",
        "    'depth': [5, 6, 7],\n",
        "    'l2_leaf_reg': [3, 5, 7],\n",
        "    'border_count': [128, 255],  # Can help with small datasets\n",
        "}\n",
        "\n",
        "vicinity_search = RandomizedSearchCV(\n",
        "    estimator=catboost_conservative,\n",
        "    param_distributions=original_vicinity_params,\n",
        "    n_iter=15,\n",
        "    cv=inner_cv,\n",
        "    scoring='accuracy',\n",
        "    n_jobs=-1,\n",
        "    random_state=42\n",
        ")\n",
        "\n",
        "vicinity_search.fit(X_train_dense, y_train)\n",
        "print(f\"Best parameters near original: {vicinity_search.best_params_}\")\n",
        "\n",
        "# Evaluate with 10-fold CV\n",
        "kfold_10 = StratifiedKFold(n_splits=10, shuffle=True, random_state=42)\n",
        "vicinity_scores = cross_val_score(vicinity_search.best_estimator_, X_train_dense, y_train,\n",
        "                                cv=kfold_10, scoring='accuracy', n_jobs=-1)\n",
        "print(f\"Fine-tuned Model: {np.mean(vicinity_scores):.4f} ± {np.std(vicinity_scores):.4f}\")\n",
        "\n",
        "# Strategy 3: Focus on regularization (most important for small datasets)\n",
        "print(\"\\nStrategy 3: Regularization-Focused Tuning\")\n",
        "print(\"=\"*50)\n",
        "\n",
        "regularization_params = {\n",
        "    'iterations': [200],  # Keep original\n",
        "    'learning_rate': [0.1],  # Keep original\n",
        "    'depth': [6],  # Keep original\n",
        "    'l2_leaf_reg': [1, 3, 5, 7, 9, 12],  # Focus on regularization\n",
        "    'bagging_temperature': [0, 0.5, 1.0],  # Helps with overfitting\n",
        "    'random_strength': [0.5, 1.0, 1.5]  # Adds randomness\n",
        "}\n",
        "\n",
        "reg_catboost = CatBoostClassifier(\n",
        "    random_state=42,\n",
        "    verbose=False,\n",
        "    thread_count=-1\n",
        ")\n",
        "\n",
        "reg_search = RandomizedSearchCV(\n",
        "    estimator=reg_catboost,\n",
        "    param_distributions=regularization_params,\n",
        "    n_iter=12,\n",
        "    cv=inner_cv,\n",
        "    scoring='accuracy',\n",
        "    n_jobs=-1,\n",
        "    random_state=42\n",
        ")\n",
        "\n",
        "reg_search.fit(X_train_dense, y_train)\n",
        "reg_scores = cross_val_score(reg_search.best_estimator_, X_train_dense, y_train,\n",
        "                           cv=kfold_10, scoring='accuracy', n_jobs=-1)\n",
        "print(f\"Regularization-focused: {np.mean(reg_scores):.4f} ± {np.std(reg_scores):.4f}\")\n",
        "print(f\"Best reg parameters: {reg_search.best_params_}\")\n",
        "\n",
        "# Compare all approaches\n",
        "print(\"\\n\" + \"=\"*60)\n",
        "print(\"FINAL COMPARISON\")\n",
        "print(\"=\"*60)\n",
        "print(f\"Original CatBoost:      0.8386 ± 0.0440\")\n",
        "print(f\"Aggressive Tuning:      0.8344 ± 0.0436  (worse)\")\n",
        "print(f\"Conservative Tuning:    {np.mean(nested_scores):.4f} ± {np.std(nested_scores):.4f}\")\n",
        "print(f\"Fine-tuned:             {np.mean(vicinity_scores):.4f} ± {np.std(vicinity_scores):.4f}\")\n",
        "print(f\"Regularization-focused: {np.mean(reg_scores):.4f} ± {np.std(reg_scores):.4f}\")\n",
        "\n",
        "# Recommendation\n",
        "scores_dict = {\n",
        "    'Original': 0.8386,\n",
        "    'Conservative': np.mean(nested_scores),\n",
        "    'Fine-tuned': np.mean(vicinity_scores),\n",
        "    'Regularization': np.mean(reg_scores)\n",
        "}\n",
        "\n",
        "best_approach = max(scores_dict.items(), key=lambda x: x[1])\n",
        "print(f\"\\nRECOMMENDATION: Use {best_approach[0]} approach (Score: {best_approach[1]:.4f})\")\n",
        "\n",
        "# If original is still best, use it\n",
        "if best_approach[0] == 'Original':\n",
        "    print(\"\\nThe original CatBoost parameters were already optimal!\")\n",
        "    print(\"This is common with well-designed algorithms like CatBoost.\")\n",
        "\n",
        "    final_model = CatBoostClassifier(\n",
        "        iterations=200,\n",
        "        learning_rate=0.1,\n",
        "        depth=6,\n",
        "        random_state=42,\n",
        "        verbose=False,\n",
        "        thread_count=-1\n",
        "    )\n",
        "else:\n",
        "    # Use the best tuned model\n",
        "    if best_approach[0] == 'Fine-tuned':\n",
        "        final_model = vicinity_search.best_estimator_\n",
        "    elif best_approach[0] == 'Regularization':\n",
        "        final_model = reg_search.best_estimator_\n",
        "    else:\n",
        "        final_model = conservative_search.best_estimator_\n",
        "\n",
        "print(f\"\\nFinal model selected: {type(final_model).__name__}\")\n",
        "if hasattr(final_model, 'get_params'):\n",
        "    relevant_params = {k: v for k, v in final_model.get_params().items()\n",
        "                      if k in ['iterations', 'learning_rate', 'depth', 'l2_leaf_reg']}\n",
        "    print(f\"Final parameters: {relevant_params}\")"
      ]
    },
    {
      "cell_type": "markdown",
      "metadata": {
        "id": "ctMFBGq8uC9W"
      },
      "source": [
        "There isn't much difference between ensemble and conservative.\n",
        "\n",
        "So the simpler approach is better."
      ]
    },
    {
      "cell_type": "code",
      "execution_count": null,
      "metadata": {
        "colab": {
          "base_uri": "https://localhost:8080/"
        },
        "id": "wh6YuYp2Ooix",
        "outputId": "274a6fff-6b2a-43ba-860f-41a26741de62"
      },
      "outputs": [
        {
          "name": "stdout",
          "output_type": "stream",
          "text": [
            "\n",
            "Training best model on full dataset...\n",
            "\n",
            "Test predictions completed!\n",
            "Test predictions shape: (418,)\n",
            "Predicted survival rate: 0.347\n",
            "Probability predictions also available\n"
          ]
        }
      ],
      "source": [
        "# Optional: Train on full data before making test predictions\n",
        "print(\"\\nTraining best model on full dataset...\")\n",
        "X_full = preprocessor.transform(train_processed)\n",
        "y_full = train_df['Survived']\n",
        "\n",
        "\n",
        "final_model.fit(X_full, y_full)\n",
        "\n",
        "# Make predictions on test set\n",
        "test_predictions = best_model.predict(X_test)\n",
        "print(\"\\nTest predictions completed!\")\n",
        "print(f\"Test predictions shape: {test_predictions.shape}\")\n",
        "print(f\"Predicted survival rate: {np.mean(test_predictions):.3f}\")\n",
        "\n",
        "# For models that support predict_proba, we can get probabilities\n",
        "if hasattr(best_model, 'predict_proba'):\n",
        "    test_probabilities = best_model.predict_proba(X_test)[:, 1]\n",
        "    print(\"Probability predictions also available\")\n",
        "\n"
      ]
    },
    {
      "cell_type": "code",
      "execution_count": null,
      "metadata": {
        "colab": {
          "base_uri": "https://localhost:8080/",
          "height": 206
        },
        "id": "CbBlu9HcopLp",
        "outputId": "47636842-f9a0-4cab-9d60-849a13235433"
      },
      "outputs": [
        {
          "data": {
            "application/vnd.google.colaboratory.intrinsic+json": {
              "summary": "{\n  \"name\": \"submission\",\n  \"rows\": 418,\n  \"fields\": [\n    {\n      \"column\": \"PassengerId\",\n      \"properties\": {\n        \"dtype\": \"number\",\n        \"std\": 120,\n        \"min\": 892,\n        \"max\": 1309,\n        \"num_unique_values\": 418,\n        \"samples\": [\n          1213,\n          1216,\n          1280\n        ],\n        \"semantic_type\": \"\",\n        \"description\": \"\"\n      }\n    },\n    {\n      \"column\": \"Survived\",\n      \"properties\": {\n        \"dtype\": \"number\",\n        \"std\": 0,\n        \"min\": 0,\n        \"max\": 1,\n        \"num_unique_values\": 2,\n        \"samples\": [\n          1,\n          0\n        ],\n        \"semantic_type\": \"\",\n        \"description\": \"\"\n      }\n    }\n  ]\n}",
              "type": "dataframe",
              "variable_name": "submission"
            },
            "text/html": [
              "\n",
              "  <div id=\"df-bdd48db1-8eb2-430a-986a-5499b9f320ff\" class=\"colab-df-container\">\n",
              "    <div>\n",
              "<style scoped>\n",
              "    .dataframe tbody tr th:only-of-type {\n",
              "        vertical-align: middle;\n",
              "    }\n",
              "\n",
              "    .dataframe tbody tr th {\n",
              "        vertical-align: top;\n",
              "    }\n",
              "\n",
              "    .dataframe thead th {\n",
              "        text-align: right;\n",
              "    }\n",
              "</style>\n",
              "<table border=\"1\" class=\"dataframe\">\n",
              "  <thead>\n",
              "    <tr style=\"text-align: right;\">\n",
              "      <th></th>\n",
              "      <th>PassengerId</th>\n",
              "      <th>Survived</th>\n",
              "    </tr>\n",
              "  </thead>\n",
              "  <tbody>\n",
              "    <tr>\n",
              "      <th>0</th>\n",
              "      <td>892</td>\n",
              "      <td>0</td>\n",
              "    </tr>\n",
              "    <tr>\n",
              "      <th>1</th>\n",
              "      <td>893</td>\n",
              "      <td>0</td>\n",
              "    </tr>\n",
              "    <tr>\n",
              "      <th>2</th>\n",
              "      <td>894</td>\n",
              "      <td>0</td>\n",
              "    </tr>\n",
              "    <tr>\n",
              "      <th>3</th>\n",
              "      <td>895</td>\n",
              "      <td>0</td>\n",
              "    </tr>\n",
              "    <tr>\n",
              "      <th>4</th>\n",
              "      <td>896</td>\n",
              "      <td>1</td>\n",
              "    </tr>\n",
              "  </tbody>\n",
              "</table>\n",
              "</div>\n",
              "    <div class=\"colab-df-buttons\">\n",
              "\n",
              "  <div class=\"colab-df-container\">\n",
              "    <button class=\"colab-df-convert\" onclick=\"convertToInteractive('df-bdd48db1-8eb2-430a-986a-5499b9f320ff')\"\n",
              "            title=\"Convert this dataframe to an interactive table.\"\n",
              "            style=\"display:none;\">\n",
              "\n",
              "  <svg xmlns=\"http://www.w3.org/2000/svg\" height=\"24px\" viewBox=\"0 -960 960 960\">\n",
              "    <path d=\"M120-120v-720h720v720H120Zm60-500h600v-160H180v160Zm220 220h160v-160H400v160Zm0 220h160v-160H400v160ZM180-400h160v-160H180v160Zm440 0h160v-160H620v160ZM180-180h160v-160H180v160Zm440 0h160v-160H620v160Z\"/>\n",
              "  </svg>\n",
              "    </button>\n",
              "\n",
              "  <style>\n",
              "    .colab-df-container {\n",
              "      display:flex;\n",
              "      gap: 12px;\n",
              "    }\n",
              "\n",
              "    .colab-df-convert {\n",
              "      background-color: #E8F0FE;\n",
              "      border: none;\n",
              "      border-radius: 50%;\n",
              "      cursor: pointer;\n",
              "      display: none;\n",
              "      fill: #1967D2;\n",
              "      height: 32px;\n",
              "      padding: 0 0 0 0;\n",
              "      width: 32px;\n",
              "    }\n",
              "\n",
              "    .colab-df-convert:hover {\n",
              "      background-color: #E2EBFA;\n",
              "      box-shadow: 0px 1px 2px rgba(60, 64, 67, 0.3), 0px 1px 3px 1px rgba(60, 64, 67, 0.15);\n",
              "      fill: #174EA6;\n",
              "    }\n",
              "\n",
              "    .colab-df-buttons div {\n",
              "      margin-bottom: 4px;\n",
              "    }\n",
              "\n",
              "    [theme=dark] .colab-df-convert {\n",
              "      background-color: #3B4455;\n",
              "      fill: #D2E3FC;\n",
              "    }\n",
              "\n",
              "    [theme=dark] .colab-df-convert:hover {\n",
              "      background-color: #434B5C;\n",
              "      box-shadow: 0px 1px 3px 1px rgba(0, 0, 0, 0.15);\n",
              "      filter: drop-shadow(0px 1px 2px rgba(0, 0, 0, 0.3));\n",
              "      fill: #FFFFFF;\n",
              "    }\n",
              "  </style>\n",
              "\n",
              "    <script>\n",
              "      const buttonEl =\n",
              "        document.querySelector('#df-bdd48db1-8eb2-430a-986a-5499b9f320ff button.colab-df-convert');\n",
              "      buttonEl.style.display =\n",
              "        google.colab.kernel.accessAllowed ? 'block' : 'none';\n",
              "\n",
              "      async function convertToInteractive(key) {\n",
              "        const element = document.querySelector('#df-bdd48db1-8eb2-430a-986a-5499b9f320ff');\n",
              "        const dataTable =\n",
              "          await google.colab.kernel.invokeFunction('convertToInteractive',\n",
              "                                                    [key], {});\n",
              "        if (!dataTable) return;\n",
              "\n",
              "        const docLinkHtml = 'Like what you see? Visit the ' +\n",
              "          '<a target=\"_blank\" href=https://colab.research.google.com/notebooks/data_table.ipynb>data table notebook</a>'\n",
              "          + ' to learn more about interactive tables.';\n",
              "        element.innerHTML = '';\n",
              "        dataTable['output_type'] = 'display_data';\n",
              "        await google.colab.output.renderOutput(dataTable, element);\n",
              "        const docLink = document.createElement('div');\n",
              "        docLink.innerHTML = docLinkHtml;\n",
              "        element.appendChild(docLink);\n",
              "      }\n",
              "    </script>\n",
              "  </div>\n",
              "\n",
              "\n",
              "    <div id=\"df-49dfb3e2-8122-44a0-a1a9-3e06dcfc80f2\">\n",
              "      <button class=\"colab-df-quickchart\" onclick=\"quickchart('df-49dfb3e2-8122-44a0-a1a9-3e06dcfc80f2')\"\n",
              "                title=\"Suggest charts\"\n",
              "                style=\"display:none;\">\n",
              "\n",
              "<svg xmlns=\"http://www.w3.org/2000/svg\" height=\"24px\"viewBox=\"0 0 24 24\"\n",
              "     width=\"24px\">\n",
              "    <g>\n",
              "        <path d=\"M19 3H5c-1.1 0-2 .9-2 2v14c0 1.1.9 2 2 2h14c1.1 0 2-.9 2-2V5c0-1.1-.9-2-2-2zM9 17H7v-7h2v7zm4 0h-2V7h2v10zm4 0h-2v-4h2v4z\"/>\n",
              "    </g>\n",
              "</svg>\n",
              "      </button>\n",
              "\n",
              "<style>\n",
              "  .colab-df-quickchart {\n",
              "      --bg-color: #E8F0FE;\n",
              "      --fill-color: #1967D2;\n",
              "      --hover-bg-color: #E2EBFA;\n",
              "      --hover-fill-color: #174EA6;\n",
              "      --disabled-fill-color: #AAA;\n",
              "      --disabled-bg-color: #DDD;\n",
              "  }\n",
              "\n",
              "  [theme=dark] .colab-df-quickchart {\n",
              "      --bg-color: #3B4455;\n",
              "      --fill-color: #D2E3FC;\n",
              "      --hover-bg-color: #434B5C;\n",
              "      --hover-fill-color: #FFFFFF;\n",
              "      --disabled-bg-color: #3B4455;\n",
              "      --disabled-fill-color: #666;\n",
              "  }\n",
              "\n",
              "  .colab-df-quickchart {\n",
              "    background-color: var(--bg-color);\n",
              "    border: none;\n",
              "    border-radius: 50%;\n",
              "    cursor: pointer;\n",
              "    display: none;\n",
              "    fill: var(--fill-color);\n",
              "    height: 32px;\n",
              "    padding: 0;\n",
              "    width: 32px;\n",
              "  }\n",
              "\n",
              "  .colab-df-quickchart:hover {\n",
              "    background-color: var(--hover-bg-color);\n",
              "    box-shadow: 0 1px 2px rgba(60, 64, 67, 0.3), 0 1px 3px 1px rgba(60, 64, 67, 0.15);\n",
              "    fill: var(--button-hover-fill-color);\n",
              "  }\n",
              "\n",
              "  .colab-df-quickchart-complete:disabled,\n",
              "  .colab-df-quickchart-complete:disabled:hover {\n",
              "    background-color: var(--disabled-bg-color);\n",
              "    fill: var(--disabled-fill-color);\n",
              "    box-shadow: none;\n",
              "  }\n",
              "\n",
              "  .colab-df-spinner {\n",
              "    border: 2px solid var(--fill-color);\n",
              "    border-color: transparent;\n",
              "    border-bottom-color: var(--fill-color);\n",
              "    animation:\n",
              "      spin 1s steps(1) infinite;\n",
              "  }\n",
              "\n",
              "  @keyframes spin {\n",
              "    0% {\n",
              "      border-color: transparent;\n",
              "      border-bottom-color: var(--fill-color);\n",
              "      border-left-color: var(--fill-color);\n",
              "    }\n",
              "    20% {\n",
              "      border-color: transparent;\n",
              "      border-left-color: var(--fill-color);\n",
              "      border-top-color: var(--fill-color);\n",
              "    }\n",
              "    30% {\n",
              "      border-color: transparent;\n",
              "      border-left-color: var(--fill-color);\n",
              "      border-top-color: var(--fill-color);\n",
              "      border-right-color: var(--fill-color);\n",
              "    }\n",
              "    40% {\n",
              "      border-color: transparent;\n",
              "      border-right-color: var(--fill-color);\n",
              "      border-top-color: var(--fill-color);\n",
              "    }\n",
              "    60% {\n",
              "      border-color: transparent;\n",
              "      border-right-color: var(--fill-color);\n",
              "    }\n",
              "    80% {\n",
              "      border-color: transparent;\n",
              "      border-right-color: var(--fill-color);\n",
              "      border-bottom-color: var(--fill-color);\n",
              "    }\n",
              "    90% {\n",
              "      border-color: transparent;\n",
              "      border-bottom-color: var(--fill-color);\n",
              "    }\n",
              "  }\n",
              "</style>\n",
              "\n",
              "      <script>\n",
              "        async function quickchart(key) {\n",
              "          const quickchartButtonEl =\n",
              "            document.querySelector('#' + key + ' button');\n",
              "          quickchartButtonEl.disabled = true;  // To prevent multiple clicks.\n",
              "          quickchartButtonEl.classList.add('colab-df-spinner');\n",
              "          try {\n",
              "            const charts = await google.colab.kernel.invokeFunction(\n",
              "                'suggestCharts', [key], {});\n",
              "          } catch (error) {\n",
              "            console.error('Error during call to suggestCharts:', error);\n",
              "          }\n",
              "          quickchartButtonEl.classList.remove('colab-df-spinner');\n",
              "          quickchartButtonEl.classList.add('colab-df-quickchart-complete');\n",
              "        }\n",
              "        (() => {\n",
              "          let quickchartButtonEl =\n",
              "            document.querySelector('#df-49dfb3e2-8122-44a0-a1a9-3e06dcfc80f2 button');\n",
              "          quickchartButtonEl.style.display =\n",
              "            google.colab.kernel.accessAllowed ? 'block' : 'none';\n",
              "        })();\n",
              "      </script>\n",
              "    </div>\n",
              "\n",
              "    </div>\n",
              "  </div>\n"
            ],
            "text/plain": [
              "   PassengerId  Survived\n",
              "0          892         0\n",
              "1          893         0\n",
              "2          894         0\n",
              "3          895         0\n",
              "4          896         1"
            ]
          },
          "execution_count": 136,
          "metadata": {},
          "output_type": "execute_result"
        }
      ],
      "source": [
        "# Create a submisison dataframe and append the relevant columns\n",
        "submission = pd.DataFrame()\n",
        "submission['PassengerId'] = test_df['PassengerId'].astype(int)\n",
        "submission['Survived'] = test_predictions # our model predictions on the test dataset\n",
        "submission.head()"
      ]
    },
    {
      "cell_type": "code",
      "execution_count": null,
      "metadata": {
        "colab": {
          "base_uri": "https://localhost:8080/"
        },
        "id": "JHCARxInoyfL",
        "outputId": "c7ed4732-94b2-4345-d8b2-72aea49b2634"
      },
      "outputs": [
        {
          "name": "stdout",
          "output_type": "stream",
          "text": [
            "Submission dataframe is the same length as test (418 rows).\n"
          ]
        }
      ],
      "source": [
        "# Are our test and submission dataframes the same length?\n",
        "if len(submission) == len(test_df):\n",
        "    print(\"Submission dataframe is the same length as test ({} rows).\".format(len(submission)))\n",
        "else:\n",
        "    print(\"Dataframes mismatched, won't be able to submit to Kaggle.\")\n",
        "\n",
        "submission.to_csv('../prediction_submission.csv', index=False)"
      ]
    },
    {
      "cell_type": "markdown",
      "metadata": {
        "id": "u4CCXXLurnU-"
      },
      "source": [
        "This achieved a score of 0.7727"
      ]
    },
    {
      "cell_type": "markdown",
      "metadata": {
        "id": "imkMn05OpDp1"
      },
      "source": [
        "# References"
      ]
    },
    {
      "cell_type": "markdown",
      "metadata": {
        "id": "dHL-MQ4VpIPc"
      },
      "source": [
        "\n",
        "*  [Titanic Competition eda fe model by Mariyam Al Shatta](https://www.kaggle.com/code/mariyamalshatta/titanic-competition-eda-fe-model/notebook)\n",
        "*  [Kaggle titanic by Selim Amrouni](https://github.com/selimamrouni/kaggle-titanic/blob/master/titanic.ipynb)\n"
      ]
    }
  ],
  "metadata": {
    "colab": {
      "provenance": [],
      "toc_visible": true
    },
    "kaggle": {
      "accelerator": "none",
      "dataSources": [
        {
          "databundleVersionId": 26502,
          "sourceId": 3136,
          "sourceType": "competition"
        }
      ],
      "dockerImageVersionId": 31089,
      "isGpuEnabled": false,
      "isInternetEnabled": true,
      "language": "python",
      "sourceType": "notebook"
    },
    "kernelspec": {
      "display_name": "Python 3",
      "language": "python",
      "name": "python3"
    },
    "language_info": {
      "codemirror_mode": {
        "name": "ipython",
        "version": 3
      },
      "file_extension": ".py",
      "mimetype": "text/x-python",
      "name": "python",
      "nbconvert_exporter": "python",
      "pygments_lexer": "ipython3",
      "version": "3.13.5"
    }
  },
  "nbformat": 4,
  "nbformat_minor": 0
}
